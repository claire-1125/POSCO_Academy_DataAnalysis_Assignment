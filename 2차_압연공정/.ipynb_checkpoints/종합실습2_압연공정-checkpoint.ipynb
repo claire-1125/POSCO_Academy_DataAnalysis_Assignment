{
 "cells": [
  {
   "cell_type": "code",
   "execution_count": 796,
   "metadata": {},
   "outputs": [],
   "source": [
    "import pandas as pd\n",
    "import numpy as np\n",
    "\n",
    "# 데이터 시각화 패키지\n",
    "import matplotlib\n",
    "import matplotlib.pyplot as plt\n",
    "import seaborn as sns\n",
    "\n",
    "from statsmodels.api import add_constant\n",
    "from sklearn.tree import plot_tree\n",
    "\n",
    "\n",
    "# 모델 전처리\n",
    "from sklearn.model_selection import train_test_split\n",
    "from sklearn.preprocessing import StandardScaler\n",
    "from sklearn.model_selection import GridSearchCV\n",
    "\n",
    "from sklearn.metrics import mean_squared_error\n",
    "from sklearn.metrics import mean_absolute_error\n",
    "\n",
    "# 로지스틱 회귀\n",
    "from statsmodels.api import Logit\n",
    "from sklearn.metrics import accuracy_score\n",
    "\n",
    "# 랜덤포레스트\n",
    "from sklearn.ensemble import RandomForestClassifier\n",
    "\n",
    "# 서포트 벡터 머신\n",
    "from sklearn.svm import SVC \n",
    "\n",
    "# kNN\n",
    "from sklearn.neighbors import KNeighborsClassifier\n",
    "\n",
    "# 모델 성능 평가\n",
    "from sklearn.metrics import confusion_matrix"
   ]
  },
  {
   "cell_type": "code",
   "execution_count": 714,
   "metadata": {},
   "outputs": [],
   "source": [
    "matplotlib.rc(\"font\",family=\"Malgun Gothic\")"
   ]
  },
  {
   "cell_type": "markdown",
   "metadata": {},
   "source": [
    "# 데이터 불러오기"
   ]
  },
  {
   "cell_type": "code",
   "execution_count": 715,
   "metadata": {
    "scrolled": true
   },
   "outputs": [
    {
     "data": {
      "text/html": [
       "<div>\n",
       "<style scoped>\n",
       "    .dataframe tbody tr th:only-of-type {\n",
       "        vertical-align: middle;\n",
       "    }\n",
       "\n",
       "    .dataframe tbody tr th {\n",
       "        vertical-align: top;\n",
       "    }\n",
       "\n",
       "    .dataframe thead th {\n",
       "        text-align: right;\n",
       "    }\n",
       "</style>\n",
       "<table border=\"1\" class=\"dataframe\">\n",
       "  <thead>\n",
       "    <tr style=\"text-align: right;\">\n",
       "      <th></th>\n",
       "      <th>PLATE_NO</th>\n",
       "      <th>ROLLING_DATE</th>\n",
       "      <th>SCALE</th>\n",
       "      <th>SPEC</th>\n",
       "      <th>STEEL_KIND</th>\n",
       "      <th>PT_THK</th>\n",
       "      <th>PT_WDTH</th>\n",
       "      <th>PT_LTH</th>\n",
       "      <th>PT_WGT</th>\n",
       "      <th>FUR_NO</th>\n",
       "      <th>...</th>\n",
       "      <th>FUR_HZ_TEMP</th>\n",
       "      <th>FUR_HZ_TIME</th>\n",
       "      <th>FUR_SZ_TEMP</th>\n",
       "      <th>FUR_SZ_TIME</th>\n",
       "      <th>FUR_TIME</th>\n",
       "      <th>FUR_EXTEMP</th>\n",
       "      <th>ROLLING_TEMP_T5</th>\n",
       "      <th>HSB</th>\n",
       "      <th>ROLLING_DESCALING</th>\n",
       "      <th>WORK_GR</th>\n",
       "    </tr>\n",
       "  </thead>\n",
       "  <tbody>\n",
       "    <tr>\n",
       "      <th>0</th>\n",
       "      <td>PB562774</td>\n",
       "      <td>2008-08-01:00:00:15</td>\n",
       "      <td>양품</td>\n",
       "      <td>AB/EH32-TM</td>\n",
       "      <td>T1</td>\n",
       "      <td>32.25</td>\n",
       "      <td>3707</td>\n",
       "      <td>15109</td>\n",
       "      <td>14180</td>\n",
       "      <td>1호기</td>\n",
       "      <td>...</td>\n",
       "      <td>1144</td>\n",
       "      <td>116</td>\n",
       "      <td>1133</td>\n",
       "      <td>59</td>\n",
       "      <td>282</td>\n",
       "      <td>1125</td>\n",
       "      <td>934</td>\n",
       "      <td>적용</td>\n",
       "      <td>8</td>\n",
       "      <td>2조</td>\n",
       "    </tr>\n",
       "    <tr>\n",
       "      <th>1</th>\n",
       "      <td>PB562775</td>\n",
       "      <td>2008-08-01:00:00:16</td>\n",
       "      <td>양품</td>\n",
       "      <td>AB/EH32-TM</td>\n",
       "      <td>T1</td>\n",
       "      <td>32.25</td>\n",
       "      <td>3707</td>\n",
       "      <td>15109</td>\n",
       "      <td>14180</td>\n",
       "      <td>1호기</td>\n",
       "      <td>...</td>\n",
       "      <td>1144</td>\n",
       "      <td>122</td>\n",
       "      <td>1135</td>\n",
       "      <td>53</td>\n",
       "      <td>283</td>\n",
       "      <td>1120</td>\n",
       "      <td>937</td>\n",
       "      <td>적용</td>\n",
       "      <td>8</td>\n",
       "      <td>2조</td>\n",
       "    </tr>\n",
       "    <tr>\n",
       "      <th>2</th>\n",
       "      <td>PB562776</td>\n",
       "      <td>2008-08-01:00:00:59</td>\n",
       "      <td>양품</td>\n",
       "      <td>NV-E36-TM</td>\n",
       "      <td>T8</td>\n",
       "      <td>33.27</td>\n",
       "      <td>3619</td>\n",
       "      <td>19181</td>\n",
       "      <td>18130</td>\n",
       "      <td>2호기</td>\n",
       "      <td>...</td>\n",
       "      <td>1129</td>\n",
       "      <td>116</td>\n",
       "      <td>1121</td>\n",
       "      <td>55</td>\n",
       "      <td>282</td>\n",
       "      <td>1106</td>\n",
       "      <td>889</td>\n",
       "      <td>적용</td>\n",
       "      <td>8</td>\n",
       "      <td>3조</td>\n",
       "    </tr>\n",
       "    <tr>\n",
       "      <th>3</th>\n",
       "      <td>PB562777</td>\n",
       "      <td>2008-08-01:00:01:24</td>\n",
       "      <td>양품</td>\n",
       "      <td>NV-E36-TM</td>\n",
       "      <td>T8</td>\n",
       "      <td>33.27</td>\n",
       "      <td>3619</td>\n",
       "      <td>19181</td>\n",
       "      <td>18130</td>\n",
       "      <td>2호기</td>\n",
       "      <td>...</td>\n",
       "      <td>1152</td>\n",
       "      <td>125</td>\n",
       "      <td>1127</td>\n",
       "      <td>68</td>\n",
       "      <td>316</td>\n",
       "      <td>1113</td>\n",
       "      <td>885</td>\n",
       "      <td>적용</td>\n",
       "      <td>8</td>\n",
       "      <td>3조</td>\n",
       "    </tr>\n",
       "    <tr>\n",
       "      <th>4</th>\n",
       "      <td>PB562778</td>\n",
       "      <td>2008-08-01:00:01:44</td>\n",
       "      <td>양품</td>\n",
       "      <td>BV-EH36-TM</td>\n",
       "      <td>T8</td>\n",
       "      <td>38.33</td>\n",
       "      <td>3098</td>\n",
       "      <td>13334</td>\n",
       "      <td>12430</td>\n",
       "      <td>3호기</td>\n",
       "      <td>...</td>\n",
       "      <td>1140</td>\n",
       "      <td>134</td>\n",
       "      <td>1128</td>\n",
       "      <td>48</td>\n",
       "      <td>314</td>\n",
       "      <td>1118</td>\n",
       "      <td>873</td>\n",
       "      <td>적용</td>\n",
       "      <td>8</td>\n",
       "      <td>1조</td>\n",
       "    </tr>\n",
       "  </tbody>\n",
       "</table>\n",
       "<p>5 rows × 21 columns</p>\n",
       "</div>"
      ],
      "text/plain": [
       "   PLATE_NO         ROLLING_DATE SCALE        SPEC STEEL_KIND  PT_THK  \\\n",
       "0  PB562774  2008-08-01:00:00:15    양품  AB/EH32-TM         T1   32.25   \n",
       "1  PB562775  2008-08-01:00:00:16    양품  AB/EH32-TM         T1   32.25   \n",
       "2  PB562776  2008-08-01:00:00:59    양품   NV-E36-TM         T8   33.27   \n",
       "3  PB562777  2008-08-01:00:01:24    양품   NV-E36-TM         T8   33.27   \n",
       "4  PB562778  2008-08-01:00:01:44    양품  BV-EH36-TM         T8   38.33   \n",
       "\n",
       "   PT_WDTH  PT_LTH  PT_WGT FUR_NO  ...  FUR_HZ_TEMP  FUR_HZ_TIME  FUR_SZ_TEMP  \\\n",
       "0     3707   15109   14180    1호기  ...         1144          116         1133   \n",
       "1     3707   15109   14180    1호기  ...         1144          122         1135   \n",
       "2     3619   19181   18130    2호기  ...         1129          116         1121   \n",
       "3     3619   19181   18130    2호기  ...         1152          125         1127   \n",
       "4     3098   13334   12430    3호기  ...         1140          134         1128   \n",
       "\n",
       "   FUR_SZ_TIME  FUR_TIME  FUR_EXTEMP  ROLLING_TEMP_T5  HSB ROLLING_DESCALING  \\\n",
       "0           59       282        1125              934   적용                 8   \n",
       "1           53       283        1120              937   적용                 8   \n",
       "2           55       282        1106              889   적용                 8   \n",
       "3           68       316        1113              885   적용                 8   \n",
       "4           48       314        1118              873   적용                 8   \n",
       "\n",
       "   WORK_GR  \n",
       "0       2조  \n",
       "1       2조  \n",
       "2       3조  \n",
       "3       3조  \n",
       "4       1조  \n",
       "\n",
       "[5 rows x 21 columns]"
      ]
     },
     "execution_count": 715,
     "metadata": {},
     "output_type": "execute_result"
    }
   ],
   "source": [
    "df_raw = pd.read_csv(\"./data/SCALE불량.csv\",encoding=\"cp949\")\n",
    "df_raw.head()"
   ]
  },
  {
   "cell_type": "markdown",
   "metadata": {},
   "source": [
    "# 데이터 구성 확인하기"
   ]
  },
  {
   "cell_type": "code",
   "execution_count": 716,
   "metadata": {},
   "outputs": [
    {
     "data": {
      "text/plain": [
       "(720, 21)"
      ]
     },
     "execution_count": 716,
     "metadata": {},
     "output_type": "execute_result"
    }
   ],
   "source": [
    "df_raw.shape"
   ]
  },
  {
   "cell_type": "markdown",
   "metadata": {},
   "source": [
    "설명변수는 21개, 데이터는 720개이다."
   ]
  },
  {
   "cell_type": "code",
   "execution_count": 717,
   "metadata": {},
   "outputs": [
    {
     "name": "stdout",
     "output_type": "stream",
     "text": [
      "<class 'pandas.core.frame.DataFrame'>\n",
      "RangeIndex: 720 entries, 0 to 719\n",
      "Data columns (total 21 columns):\n",
      " #   Column             Non-Null Count  Dtype  \n",
      "---  ------             --------------  -----  \n",
      " 0   PLATE_NO           720 non-null    object \n",
      " 1   ROLLING_DATE       720 non-null    object \n",
      " 2   SCALE              720 non-null    object \n",
      " 3   SPEC               720 non-null    object \n",
      " 4   STEEL_KIND         720 non-null    object \n",
      " 5   PT_THK             720 non-null    float64\n",
      " 6   PT_WDTH            720 non-null    int64  \n",
      " 7   PT_LTH             720 non-null    int64  \n",
      " 8   PT_WGT             720 non-null    int64  \n",
      " 9   FUR_NO             720 non-null    object \n",
      " 10  FUR_NO_ROW         720 non-null    int64  \n",
      " 11  FUR_HZ_TEMP        720 non-null    int64  \n",
      " 12  FUR_HZ_TIME        720 non-null    int64  \n",
      " 13  FUR_SZ_TEMP        720 non-null    int64  \n",
      " 14  FUR_SZ_TIME        720 non-null    int64  \n",
      " 15  FUR_TIME           720 non-null    int64  \n",
      " 16  FUR_EXTEMP         720 non-null    int64  \n",
      " 17  ROLLING_TEMP_T5    720 non-null    int64  \n",
      " 18  HSB                720 non-null    object \n",
      " 19  ROLLING_DESCALING  720 non-null    int64  \n",
      " 20  WORK_GR            720 non-null    object \n",
      "dtypes: float64(1), int64(12), object(8)\n",
      "memory usage: 118.2+ KB\n"
     ]
    }
   ],
   "source": [
    "df_raw.info()"
   ]
  },
  {
   "cell_type": "markdown",
   "metadata": {},
   "source": [
    "- PLATE_NO, ROLLING_DATE, SCALE, SPEC, STEEL_KIND, FUR_NO, HSB, WORK_GR이 string이다.  \n",
    "- 결측치는 없는 상태이다."
   ]
  },
  {
   "cell_type": "markdown",
   "metadata": {},
   "source": [
    "# 데이터 전처리"
   ]
  },
  {
   "cell_type": "markdown",
   "metadata": {},
   "source": [
    "## 결측치 처리하기"
   ]
  },
  {
   "cell_type": "code",
   "execution_count": 718,
   "metadata": {
    "scrolled": false
   },
   "outputs": [
    {
     "data": {
      "text/plain": [
       "PLATE_NO             0\n",
       "ROLLING_DATE         0\n",
       "SCALE                0\n",
       "SPEC                 0\n",
       "STEEL_KIND           0\n",
       "PT_THK               0\n",
       "PT_WDTH              0\n",
       "PT_LTH               0\n",
       "PT_WGT               0\n",
       "FUR_NO               0\n",
       "FUR_NO_ROW           0\n",
       "FUR_HZ_TEMP          0\n",
       "FUR_HZ_TIME          0\n",
       "FUR_SZ_TEMP          0\n",
       "FUR_SZ_TIME          0\n",
       "FUR_TIME             0\n",
       "FUR_EXTEMP           0\n",
       "ROLLING_TEMP_T5      0\n",
       "HSB                  0\n",
       "ROLLING_DESCALING    0\n",
       "WORK_GR              0\n",
       "dtype: int64"
      ]
     },
     "execution_count": 718,
     "metadata": {},
     "output_type": "execute_result"
    }
   ],
   "source": [
    "df_raw.isnull().sum(axis = 0)"
   ]
  },
  {
   "cell_type": "markdown",
   "metadata": {},
   "source": [
    "운이 좋게도 결측치는 없는 데이터이다."
   ]
  },
  {
   "cell_type": "markdown",
   "metadata": {},
   "source": [
    "## 필요없는 변수 제거"
   ]
  },
  {
   "cell_type": "markdown",
   "metadata": {},
   "source": [
    "PLATE_NO, ROLLING_DATE는 SCALE 불량 여부에 영향을 미치지 않을 것이라고 판단해서 삭제하였다."
   ]
  },
  {
   "cell_type": "code",
   "execution_count": 719,
   "metadata": {
    "scrolled": true
   },
   "outputs": [
    {
     "data": {
      "text/html": [
       "<div>\n",
       "<style scoped>\n",
       "    .dataframe tbody tr th:only-of-type {\n",
       "        vertical-align: middle;\n",
       "    }\n",
       "\n",
       "    .dataframe tbody tr th {\n",
       "        vertical-align: top;\n",
       "    }\n",
       "\n",
       "    .dataframe thead th {\n",
       "        text-align: right;\n",
       "    }\n",
       "</style>\n",
       "<table border=\"1\" class=\"dataframe\">\n",
       "  <thead>\n",
       "    <tr style=\"text-align: right;\">\n",
       "      <th></th>\n",
       "      <th>SCALE</th>\n",
       "      <th>SPEC</th>\n",
       "      <th>STEEL_KIND</th>\n",
       "      <th>PT_THK</th>\n",
       "      <th>PT_WDTH</th>\n",
       "      <th>PT_LTH</th>\n",
       "      <th>PT_WGT</th>\n",
       "      <th>FUR_NO</th>\n",
       "      <th>FUR_NO_ROW</th>\n",
       "      <th>FUR_HZ_TEMP</th>\n",
       "      <th>FUR_HZ_TIME</th>\n",
       "      <th>FUR_SZ_TEMP</th>\n",
       "      <th>FUR_SZ_TIME</th>\n",
       "      <th>FUR_TIME</th>\n",
       "      <th>FUR_EXTEMP</th>\n",
       "      <th>ROLLING_TEMP_T5</th>\n",
       "      <th>HSB</th>\n",
       "      <th>ROLLING_DESCALING</th>\n",
       "      <th>WORK_GR</th>\n",
       "    </tr>\n",
       "  </thead>\n",
       "  <tbody>\n",
       "    <tr>\n",
       "      <th>0</th>\n",
       "      <td>양품</td>\n",
       "      <td>AB/EH32-TM</td>\n",
       "      <td>T1</td>\n",
       "      <td>32.25</td>\n",
       "      <td>3707</td>\n",
       "      <td>15109</td>\n",
       "      <td>14180</td>\n",
       "      <td>1호기</td>\n",
       "      <td>1</td>\n",
       "      <td>1144</td>\n",
       "      <td>116</td>\n",
       "      <td>1133</td>\n",
       "      <td>59</td>\n",
       "      <td>282</td>\n",
       "      <td>1125</td>\n",
       "      <td>934</td>\n",
       "      <td>적용</td>\n",
       "      <td>8</td>\n",
       "      <td>2조</td>\n",
       "    </tr>\n",
       "    <tr>\n",
       "      <th>1</th>\n",
       "      <td>양품</td>\n",
       "      <td>AB/EH32-TM</td>\n",
       "      <td>T1</td>\n",
       "      <td>32.25</td>\n",
       "      <td>3707</td>\n",
       "      <td>15109</td>\n",
       "      <td>14180</td>\n",
       "      <td>1호기</td>\n",
       "      <td>2</td>\n",
       "      <td>1144</td>\n",
       "      <td>122</td>\n",
       "      <td>1135</td>\n",
       "      <td>53</td>\n",
       "      <td>283</td>\n",
       "      <td>1120</td>\n",
       "      <td>937</td>\n",
       "      <td>적용</td>\n",
       "      <td>8</td>\n",
       "      <td>2조</td>\n",
       "    </tr>\n",
       "    <tr>\n",
       "      <th>2</th>\n",
       "      <td>양품</td>\n",
       "      <td>NV-E36-TM</td>\n",
       "      <td>T8</td>\n",
       "      <td>33.27</td>\n",
       "      <td>3619</td>\n",
       "      <td>19181</td>\n",
       "      <td>18130</td>\n",
       "      <td>2호기</td>\n",
       "      <td>1</td>\n",
       "      <td>1129</td>\n",
       "      <td>116</td>\n",
       "      <td>1121</td>\n",
       "      <td>55</td>\n",
       "      <td>282</td>\n",
       "      <td>1106</td>\n",
       "      <td>889</td>\n",
       "      <td>적용</td>\n",
       "      <td>8</td>\n",
       "      <td>3조</td>\n",
       "    </tr>\n",
       "    <tr>\n",
       "      <th>3</th>\n",
       "      <td>양품</td>\n",
       "      <td>NV-E36-TM</td>\n",
       "      <td>T8</td>\n",
       "      <td>33.27</td>\n",
       "      <td>3619</td>\n",
       "      <td>19181</td>\n",
       "      <td>18130</td>\n",
       "      <td>2호기</td>\n",
       "      <td>2</td>\n",
       "      <td>1152</td>\n",
       "      <td>125</td>\n",
       "      <td>1127</td>\n",
       "      <td>68</td>\n",
       "      <td>316</td>\n",
       "      <td>1113</td>\n",
       "      <td>885</td>\n",
       "      <td>적용</td>\n",
       "      <td>8</td>\n",
       "      <td>3조</td>\n",
       "    </tr>\n",
       "    <tr>\n",
       "      <th>4</th>\n",
       "      <td>양품</td>\n",
       "      <td>BV-EH36-TM</td>\n",
       "      <td>T8</td>\n",
       "      <td>38.33</td>\n",
       "      <td>3098</td>\n",
       "      <td>13334</td>\n",
       "      <td>12430</td>\n",
       "      <td>3호기</td>\n",
       "      <td>1</td>\n",
       "      <td>1140</td>\n",
       "      <td>134</td>\n",
       "      <td>1128</td>\n",
       "      <td>48</td>\n",
       "      <td>314</td>\n",
       "      <td>1118</td>\n",
       "      <td>873</td>\n",
       "      <td>적용</td>\n",
       "      <td>8</td>\n",
       "      <td>1조</td>\n",
       "    </tr>\n",
       "  </tbody>\n",
       "</table>\n",
       "</div>"
      ],
      "text/plain": [
       "  SCALE        SPEC STEEL_KIND  PT_THK  PT_WDTH  PT_LTH  PT_WGT FUR_NO  \\\n",
       "0    양품  AB/EH32-TM         T1   32.25     3707   15109   14180    1호기   \n",
       "1    양품  AB/EH32-TM         T1   32.25     3707   15109   14180    1호기   \n",
       "2    양품   NV-E36-TM         T8   33.27     3619   19181   18130    2호기   \n",
       "3    양품   NV-E36-TM         T8   33.27     3619   19181   18130    2호기   \n",
       "4    양품  BV-EH36-TM         T8   38.33     3098   13334   12430    3호기   \n",
       "\n",
       "   FUR_NO_ROW  FUR_HZ_TEMP  FUR_HZ_TIME  FUR_SZ_TEMP  FUR_SZ_TIME  FUR_TIME  \\\n",
       "0           1         1144          116         1133           59       282   \n",
       "1           2         1144          122         1135           53       283   \n",
       "2           1         1129          116         1121           55       282   \n",
       "3           2         1152          125         1127           68       316   \n",
       "4           1         1140          134         1128           48       314   \n",
       "\n",
       "   FUR_EXTEMP  ROLLING_TEMP_T5 HSB  ROLLING_DESCALING WORK_GR  \n",
       "0        1125              934  적용                  8      2조  \n",
       "1        1120              937  적용                  8      2조  \n",
       "2        1106              889  적용                  8      3조  \n",
       "3        1113              885  적용                  8      3조  \n",
       "4        1118              873  적용                  8      1조  "
      ]
     },
     "execution_count": 719,
     "metadata": {},
     "output_type": "execute_result"
    }
   ],
   "source": [
    "df_raw.drop([\"PLATE_NO\",\"ROLLING_DATE\"],axis=1,inplace=True)\n",
    "df_raw.head()"
   ]
  },
  {
   "cell_type": "markdown",
   "metadata": {},
   "source": [
    "## 명목형 변수들의 값 목록 확인하기"
   ]
  },
  {
   "cell_type": "code",
   "execution_count": 720,
   "metadata": {},
   "outputs": [
    {
     "data": {
      "text/plain": [
       "array(['T1', 'T8', 'T0', 'T5', 'C0', 'C3', 'C1', 'T7', 'T3'], dtype=object)"
      ]
     },
     "execution_count": 720,
     "metadata": {},
     "output_type": "execute_result"
    }
   ],
   "source": [
    "df_raw[\"STEEL_KIND\"].unique()"
   ]
  },
  {
   "cell_type": "markdown",
   "metadata": {},
   "source": [
    "분류를 쉽게 하기 위해 T 종류 강종과, C 종류 강종 이렇게 2가지로 나누기로 했다. (C:Carbon steel, T:Tool steel)"
   ]
  },
  {
   "cell_type": "code",
   "execution_count": 721,
   "metadata": {},
   "outputs": [
    {
     "data": {
      "text/html": [
       "<div>\n",
       "<style scoped>\n",
       "    .dataframe tbody tr th:only-of-type {\n",
       "        vertical-align: middle;\n",
       "    }\n",
       "\n",
       "    .dataframe tbody tr th {\n",
       "        vertical-align: top;\n",
       "    }\n",
       "\n",
       "    .dataframe thead th {\n",
       "        text-align: right;\n",
       "    }\n",
       "</style>\n",
       "<table border=\"1\" class=\"dataframe\">\n",
       "  <thead>\n",
       "    <tr style=\"text-align: right;\">\n",
       "      <th></th>\n",
       "      <th>SCALE</th>\n",
       "      <th>SPEC</th>\n",
       "      <th>STEEL_KIND</th>\n",
       "      <th>PT_THK</th>\n",
       "      <th>PT_WDTH</th>\n",
       "      <th>PT_LTH</th>\n",
       "      <th>PT_WGT</th>\n",
       "      <th>FUR_NO</th>\n",
       "      <th>FUR_NO_ROW</th>\n",
       "      <th>FUR_HZ_TEMP</th>\n",
       "      <th>FUR_HZ_TIME</th>\n",
       "      <th>FUR_SZ_TEMP</th>\n",
       "      <th>FUR_SZ_TIME</th>\n",
       "      <th>FUR_TIME</th>\n",
       "      <th>FUR_EXTEMP</th>\n",
       "      <th>ROLLING_TEMP_T5</th>\n",
       "      <th>HSB</th>\n",
       "      <th>ROLLING_DESCALING</th>\n",
       "      <th>WORK_GR</th>\n",
       "    </tr>\n",
       "  </thead>\n",
       "  <tbody>\n",
       "    <tr>\n",
       "      <th>0</th>\n",
       "      <td>양품</td>\n",
       "      <td>AB/EH32-TM</td>\n",
       "      <td>T</td>\n",
       "      <td>32.25</td>\n",
       "      <td>3707</td>\n",
       "      <td>15109</td>\n",
       "      <td>14180</td>\n",
       "      <td>1호기</td>\n",
       "      <td>1</td>\n",
       "      <td>1144</td>\n",
       "      <td>116</td>\n",
       "      <td>1133</td>\n",
       "      <td>59</td>\n",
       "      <td>282</td>\n",
       "      <td>1125</td>\n",
       "      <td>934</td>\n",
       "      <td>적용</td>\n",
       "      <td>8</td>\n",
       "      <td>2조</td>\n",
       "    </tr>\n",
       "    <tr>\n",
       "      <th>1</th>\n",
       "      <td>양품</td>\n",
       "      <td>AB/EH32-TM</td>\n",
       "      <td>T</td>\n",
       "      <td>32.25</td>\n",
       "      <td>3707</td>\n",
       "      <td>15109</td>\n",
       "      <td>14180</td>\n",
       "      <td>1호기</td>\n",
       "      <td>2</td>\n",
       "      <td>1144</td>\n",
       "      <td>122</td>\n",
       "      <td>1135</td>\n",
       "      <td>53</td>\n",
       "      <td>283</td>\n",
       "      <td>1120</td>\n",
       "      <td>937</td>\n",
       "      <td>적용</td>\n",
       "      <td>8</td>\n",
       "      <td>2조</td>\n",
       "    </tr>\n",
       "    <tr>\n",
       "      <th>2</th>\n",
       "      <td>양품</td>\n",
       "      <td>NV-E36-TM</td>\n",
       "      <td>T</td>\n",
       "      <td>33.27</td>\n",
       "      <td>3619</td>\n",
       "      <td>19181</td>\n",
       "      <td>18130</td>\n",
       "      <td>2호기</td>\n",
       "      <td>1</td>\n",
       "      <td>1129</td>\n",
       "      <td>116</td>\n",
       "      <td>1121</td>\n",
       "      <td>55</td>\n",
       "      <td>282</td>\n",
       "      <td>1106</td>\n",
       "      <td>889</td>\n",
       "      <td>적용</td>\n",
       "      <td>8</td>\n",
       "      <td>3조</td>\n",
       "    </tr>\n",
       "    <tr>\n",
       "      <th>3</th>\n",
       "      <td>양품</td>\n",
       "      <td>NV-E36-TM</td>\n",
       "      <td>T</td>\n",
       "      <td>33.27</td>\n",
       "      <td>3619</td>\n",
       "      <td>19181</td>\n",
       "      <td>18130</td>\n",
       "      <td>2호기</td>\n",
       "      <td>2</td>\n",
       "      <td>1152</td>\n",
       "      <td>125</td>\n",
       "      <td>1127</td>\n",
       "      <td>68</td>\n",
       "      <td>316</td>\n",
       "      <td>1113</td>\n",
       "      <td>885</td>\n",
       "      <td>적용</td>\n",
       "      <td>8</td>\n",
       "      <td>3조</td>\n",
       "    </tr>\n",
       "    <tr>\n",
       "      <th>4</th>\n",
       "      <td>양품</td>\n",
       "      <td>BV-EH36-TM</td>\n",
       "      <td>T</td>\n",
       "      <td>38.33</td>\n",
       "      <td>3098</td>\n",
       "      <td>13334</td>\n",
       "      <td>12430</td>\n",
       "      <td>3호기</td>\n",
       "      <td>1</td>\n",
       "      <td>1140</td>\n",
       "      <td>134</td>\n",
       "      <td>1128</td>\n",
       "      <td>48</td>\n",
       "      <td>314</td>\n",
       "      <td>1118</td>\n",
       "      <td>873</td>\n",
       "      <td>적용</td>\n",
       "      <td>8</td>\n",
       "      <td>1조</td>\n",
       "    </tr>\n",
       "  </tbody>\n",
       "</table>\n",
       "</div>"
      ],
      "text/plain": [
       "  SCALE        SPEC STEEL_KIND  PT_THK  PT_WDTH  PT_LTH  PT_WGT FUR_NO  \\\n",
       "0    양품  AB/EH32-TM          T   32.25     3707   15109   14180    1호기   \n",
       "1    양품  AB/EH32-TM          T   32.25     3707   15109   14180    1호기   \n",
       "2    양품   NV-E36-TM          T   33.27     3619   19181   18130    2호기   \n",
       "3    양품   NV-E36-TM          T   33.27     3619   19181   18130    2호기   \n",
       "4    양품  BV-EH36-TM          T   38.33     3098   13334   12430    3호기   \n",
       "\n",
       "   FUR_NO_ROW  FUR_HZ_TEMP  FUR_HZ_TIME  FUR_SZ_TEMP  FUR_SZ_TIME  FUR_TIME  \\\n",
       "0           1         1144          116         1133           59       282   \n",
       "1           2         1144          122         1135           53       283   \n",
       "2           1         1129          116         1121           55       282   \n",
       "3           2         1152          125         1127           68       316   \n",
       "4           1         1140          134         1128           48       314   \n",
       "\n",
       "   FUR_EXTEMP  ROLLING_TEMP_T5 HSB  ROLLING_DESCALING WORK_GR  \n",
       "0        1125              934  적용                  8      2조  \n",
       "1        1120              937  적용                  8      2조  \n",
       "2        1106              889  적용                  8      3조  \n",
       "3        1113              885  적용                  8      3조  \n",
       "4        1118              873  적용                  8      1조  "
      ]
     },
     "execution_count": 721,
     "metadata": {},
     "output_type": "execute_result"
    }
   ],
   "source": [
    "df_raw[\"STEEL_KIND\"] = df_raw[\"STEEL_KIND\"].str[:1]  # 가장 앞글자만 따옴 (즉, T 혹은 C)\n",
    "df_raw.head()"
   ]
  },
  {
   "cell_type": "code",
   "execution_count": 722,
   "metadata": {},
   "outputs": [
    {
     "data": {
      "text/plain": [
       "array([1, 2])"
      ]
     },
     "execution_count": 722,
     "metadata": {},
     "output_type": "execute_result"
    }
   ],
   "source": [
    "df_raw[\"FUR_NO_ROW\"].unique()"
   ]
  },
  {
   "cell_type": "markdown",
   "metadata": {},
   "source": [
    "FUR_NO_ROW는 수치형 변수지만 실질적으로 2가지의 값만 가지므로 명목형 변수인 셈이다."
   ]
  },
  {
   "cell_type": "code",
   "execution_count": 723,
   "metadata": {},
   "outputs": [
    {
     "data": {
      "text/plain": [
       "array([ 8,  5,  6, 10,  9,  7])"
      ]
     },
     "execution_count": 723,
     "metadata": {},
     "output_type": "execute_result"
    }
   ],
   "source": [
    "df_raw[\"ROLLING_DESCALING\"].unique()"
   ]
  },
  {
   "cell_type": "markdown",
   "metadata": {},
   "source": [
    "ROLLING_DESCALING 또한 나오는 값의 가짓수가 적으므로 실질적으로 명목형 변수인 셈이다."
   ]
  },
  {
   "cell_type": "markdown",
   "metadata": {},
   "source": [
    "## 이상치 처리하기"
   ]
  },
  {
   "cell_type": "markdown",
   "metadata": {},
   "source": [
    "boxplot을 그릴 때 내부에서 자동적으로 수치형 변수에 대해서만 그려준다."
   ]
  },
  {
   "cell_type": "code",
   "execution_count": 724,
   "metadata": {},
   "outputs": [
    {
     "data": {
      "text/plain": [
       "<AxesSubplot:>"
      ]
     },
     "execution_count": 724,
     "metadata": {},
     "output_type": "execute_result"
    },
    {
     "data": {
      "image/png": "[encoded data removed]",
      "text/plain": [
       "<Figure size 1080x1080 with 1 Axes>"
      ]
     },
     "metadata": {
      "needs_background": "light"
     },
     "output_type": "display_data"
    }
   ],
   "source": [
    "df_raw.boxplot(figsize=(15,15),fontsize=12,vert=False)"
   ]
  },
  {
   "cell_type": "markdown",
   "metadata": {},
   "source": [
    "- ROLLING_TEMP_T5, FUR_SZ_TIME, FUR_HZ_TIME, PT_WIDTH, PT_THK에 이상치가 있는 상황이다.\n",
    "- 수치형 변수들에 대해 단위가 달라 변수마다 box의 크기 차이가 큰 상황이다. → 수치형에 대해 scale 필요"
   ]
  },
  {
   "cell_type": "code",
   "execution_count": 725,
   "metadata": {},
   "outputs": [
    {
     "data": {
      "text/plain": [
       "array([[<AxesSubplot:title={'center':'PT_THK'}>,\n",
       "        <AxesSubplot:title={'center':'PT_WDTH'}>,\n",
       "        <AxesSubplot:title={'center':'PT_LTH'}>,\n",
       "        <AxesSubplot:title={'center':'PT_WGT'}>],\n",
       "       [<AxesSubplot:title={'center':'FUR_NO_ROW'}>,\n",
       "        <AxesSubplot:title={'center':'FUR_HZ_TEMP'}>,\n",
       "        <AxesSubplot:title={'center':'FUR_HZ_TIME'}>,\n",
       "        <AxesSubplot:title={'center':'FUR_SZ_TEMP'}>],\n",
       "       [<AxesSubplot:title={'center':'FUR_SZ_TIME'}>,\n",
       "        <AxesSubplot:title={'center':'FUR_TIME'}>,\n",
       "        <AxesSubplot:title={'center':'FUR_EXTEMP'}>,\n",
       "        <AxesSubplot:title={'center':'ROLLING_TEMP_T5'}>],\n",
       "       [<AxesSubplot:title={'center':'ROLLING_DESCALING'}>,\n",
       "        <AxesSubplot:>, <AxesSubplot:>, <AxesSubplot:>]], dtype=object)"
      ]
     },
     "execution_count": 725,
     "metadata": {},
     "output_type": "execute_result"
    },
    {
     "data": {
      "image/png": "[encoded data removed]",
      "text/plain": [
       "<Figure size 1080x720 with 16 Axes>"
      ]
     },
     "metadata": {
      "needs_background": "light"
     },
     "output_type": "display_data"
    }
   ],
   "source": [
    "df_raw.hist(figsize=(15, 10))"
   ]
  },
  {
   "cell_type": "markdown",
   "metadata": {},
   "source": [
    "- ROLLING_DESCALING, FUR_NO_ROW는 실질적으로 명목형이므로 논외\n",
    "- **ROLLING_TEMP_T5가 \"압연온도\" (섭씨)인데 0도인 데이터**가 약간 있는 것으로 드러났다. → **비정상적인 데이터**라고 판단"
   ]
  },
  {
   "cell_type": "code",
   "execution_count": 726,
   "metadata": {},
   "outputs": [
    {
     "data": {
      "text/html": [
       "<div>\n",
       "<style scoped>\n",
       "    .dataframe tbody tr th:only-of-type {\n",
       "        vertical-align: middle;\n",
       "    }\n",
       "\n",
       "    .dataframe tbody tr th {\n",
       "        vertical-align: top;\n",
       "    }\n",
       "\n",
       "    .dataframe thead th {\n",
       "        text-align: right;\n",
       "    }\n",
       "</style>\n",
       "<table border=\"1\" class=\"dataframe\">\n",
       "  <thead>\n",
       "    <tr style=\"text-align: right;\">\n",
       "      <th></th>\n",
       "      <th>SCALE</th>\n",
       "      <th>SPEC</th>\n",
       "      <th>STEEL_KIND</th>\n",
       "      <th>PT_THK</th>\n",
       "      <th>PT_WDTH</th>\n",
       "      <th>PT_LTH</th>\n",
       "      <th>PT_WGT</th>\n",
       "      <th>FUR_NO</th>\n",
       "      <th>FUR_NO_ROW</th>\n",
       "      <th>FUR_HZ_TEMP</th>\n",
       "      <th>FUR_HZ_TIME</th>\n",
       "      <th>FUR_SZ_TEMP</th>\n",
       "      <th>FUR_SZ_TIME</th>\n",
       "      <th>FUR_TIME</th>\n",
       "      <th>FUR_EXTEMP</th>\n",
       "      <th>ROLLING_TEMP_T5</th>\n",
       "      <th>HSB</th>\n",
       "      <th>ROLLING_DESCALING</th>\n",
       "      <th>WORK_GR</th>\n",
       "    </tr>\n",
       "  </thead>\n",
       "  <tbody>\n",
       "    <tr>\n",
       "      <th>41</th>\n",
       "      <td>양품</td>\n",
       "      <td>GL-E36-TM</td>\n",
       "      <td>T</td>\n",
       "      <td>55.51</td>\n",
       "      <td>3765</td>\n",
       "      <td>11398</td>\n",
       "      <td>37400</td>\n",
       "      <td>3호기</td>\n",
       "      <td>2</td>\n",
       "      <td>1132</td>\n",
       "      <td>95</td>\n",
       "      <td>1128</td>\n",
       "      <td>80</td>\n",
       "      <td>341</td>\n",
       "      <td>1123</td>\n",
       "      <td>0</td>\n",
       "      <td>적용</td>\n",
       "      <td>6</td>\n",
       "      <td>1조</td>\n",
       "    </tr>\n",
       "    <tr>\n",
       "      <th>184</th>\n",
       "      <td>양품</td>\n",
       "      <td>JS-SM490YB</td>\n",
       "      <td>C</td>\n",
       "      <td>16.09</td>\n",
       "      <td>2221</td>\n",
       "      <td>43596</td>\n",
       "      <td>61150</td>\n",
       "      <td>3호기</td>\n",
       "      <td>1</td>\n",
       "      <td>1169</td>\n",
       "      <td>64</td>\n",
       "      <td>1164</td>\n",
       "      <td>61</td>\n",
       "      <td>308</td>\n",
       "      <td>1155</td>\n",
       "      <td>0</td>\n",
       "      <td>적용</td>\n",
       "      <td>10</td>\n",
       "      <td>3조</td>\n",
       "    </tr>\n",
       "    <tr>\n",
       "      <th>185</th>\n",
       "      <td>양품</td>\n",
       "      <td>JS-SM490YB</td>\n",
       "      <td>C</td>\n",
       "      <td>16.09</td>\n",
       "      <td>2221</td>\n",
       "      <td>43596</td>\n",
       "      <td>61150</td>\n",
       "      <td>3호기</td>\n",
       "      <td>2</td>\n",
       "      <td>1163</td>\n",
       "      <td>57</td>\n",
       "      <td>1166</td>\n",
       "      <td>67</td>\n",
       "      <td>303</td>\n",
       "      <td>1158</td>\n",
       "      <td>0</td>\n",
       "      <td>적용</td>\n",
       "      <td>10</td>\n",
       "      <td>4조</td>\n",
       "    </tr>\n",
       "    <tr>\n",
       "      <th>494</th>\n",
       "      <td>양품</td>\n",
       "      <td>PILAC-BT33</td>\n",
       "      <td>T</td>\n",
       "      <td>80.82</td>\n",
       "      <td>2085</td>\n",
       "      <td>12919</td>\n",
       "      <td>17090</td>\n",
       "      <td>2호기</td>\n",
       "      <td>1</td>\n",
       "      <td>1133</td>\n",
       "      <td>89</td>\n",
       "      <td>1122</td>\n",
       "      <td>59</td>\n",
       "      <td>378</td>\n",
       "      <td>1112</td>\n",
       "      <td>0</td>\n",
       "      <td>적용</td>\n",
       "      <td>6</td>\n",
       "      <td>2조</td>\n",
       "    </tr>\n",
       "    <tr>\n",
       "      <th>495</th>\n",
       "      <td>양품</td>\n",
       "      <td>PILAC-BT33</td>\n",
       "      <td>T</td>\n",
       "      <td>80.82</td>\n",
       "      <td>2085</td>\n",
       "      <td>13176</td>\n",
       "      <td>17430</td>\n",
       "      <td>1호기</td>\n",
       "      <td>2</td>\n",
       "      <td>1130</td>\n",
       "      <td>92</td>\n",
       "      <td>1124</td>\n",
       "      <td>61</td>\n",
       "      <td>362</td>\n",
       "      <td>1116</td>\n",
       "      <td>0</td>\n",
       "      <td>적용</td>\n",
       "      <td>6</td>\n",
       "      <td>3조</td>\n",
       "    </tr>\n",
       "    <tr>\n",
       "      <th>496</th>\n",
       "      <td>양품</td>\n",
       "      <td>NV-D32-TM</td>\n",
       "      <td>T</td>\n",
       "      <td>40.35</td>\n",
       "      <td>2497</td>\n",
       "      <td>23592</td>\n",
       "      <td>37320</td>\n",
       "      <td>3호기</td>\n",
       "      <td>1</td>\n",
       "      <td>1119</td>\n",
       "      <td>109</td>\n",
       "      <td>1117</td>\n",
       "      <td>76</td>\n",
       "      <td>383</td>\n",
       "      <td>1107</td>\n",
       "      <td>0</td>\n",
       "      <td>적용</td>\n",
       "      <td>6</td>\n",
       "      <td>3조</td>\n",
       "    </tr>\n",
       "  </tbody>\n",
       "</table>\n",
       "</div>"
      ],
      "text/plain": [
       "    SCALE        SPEC STEEL_KIND  PT_THK  PT_WDTH  PT_LTH  PT_WGT FUR_NO  \\\n",
       "41     양품   GL-E36-TM          T   55.51     3765   11398   37400    3호기   \n",
       "184    양품  JS-SM490YB          C   16.09     2221   43596   61150    3호기   \n",
       "185    양품  JS-SM490YB          C   16.09     2221   43596   61150    3호기   \n",
       "494    양품  PILAC-BT33          T   80.82     2085   12919   17090    2호기   \n",
       "495    양품  PILAC-BT33          T   80.82     2085   13176   17430    1호기   \n",
       "496    양품   NV-D32-TM          T   40.35     2497   23592   37320    3호기   \n",
       "\n",
       "     FUR_NO_ROW  FUR_HZ_TEMP  FUR_HZ_TIME  FUR_SZ_TEMP  FUR_SZ_TIME  FUR_TIME  \\\n",
       "41            2         1132           95         1128           80       341   \n",
       "184           1         1169           64         1164           61       308   \n",
       "185           2         1163           57         1166           67       303   \n",
       "494           1         1133           89         1122           59       378   \n",
       "495           2         1130           92         1124           61       362   \n",
       "496           1         1119          109         1117           76       383   \n",
       "\n",
       "     FUR_EXTEMP  ROLLING_TEMP_T5 HSB  ROLLING_DESCALING WORK_GR  \n",
       "41         1123                0  적용                  6      1조  \n",
       "184        1155                0  적용                 10      3조  \n",
       "185        1158                0  적용                 10      4조  \n",
       "494        1112                0  적용                  6      2조  \n",
       "495        1116                0  적용                  6      3조  \n",
       "496        1107                0  적용                  6      3조  "
      ]
     },
     "execution_count": 726,
     "metadata": {},
     "output_type": "execute_result"
    }
   ],
   "source": [
    "df_raw[df_raw[\"ROLLING_TEMP_T5\"] == 0]"
   ]
  },
  {
   "cell_type": "code",
   "execution_count": 727,
   "metadata": {},
   "outputs": [
    {
     "data": {
      "text/html": [
       "<div>\n",
       "<style scoped>\n",
       "    .dataframe tbody tr th:only-of-type {\n",
       "        vertical-align: middle;\n",
       "    }\n",
       "\n",
       "    .dataframe tbody tr th {\n",
       "        vertical-align: top;\n",
       "    }\n",
       "\n",
       "    .dataframe thead th {\n",
       "        text-align: right;\n",
       "    }\n",
       "</style>\n",
       "<table border=\"1\" class=\"dataframe\">\n",
       "  <thead>\n",
       "    <tr style=\"text-align: right;\">\n",
       "      <th></th>\n",
       "      <th>SCALE</th>\n",
       "      <th>SPEC</th>\n",
       "      <th>STEEL_KIND</th>\n",
       "      <th>PT_THK</th>\n",
       "      <th>PT_WDTH</th>\n",
       "      <th>PT_LTH</th>\n",
       "      <th>PT_WGT</th>\n",
       "      <th>FUR_NO</th>\n",
       "      <th>FUR_NO_ROW</th>\n",
       "      <th>FUR_HZ_TEMP</th>\n",
       "      <th>FUR_HZ_TIME</th>\n",
       "      <th>FUR_SZ_TEMP</th>\n",
       "      <th>FUR_SZ_TIME</th>\n",
       "      <th>FUR_TIME</th>\n",
       "      <th>FUR_EXTEMP</th>\n",
       "      <th>ROLLING_TEMP_T5</th>\n",
       "      <th>HSB</th>\n",
       "      <th>ROLLING_DESCALING</th>\n",
       "      <th>WORK_GR</th>\n",
       "    </tr>\n",
       "  </thead>\n",
       "  <tbody>\n",
       "  </tbody>\n",
       "</table>\n",
       "</div>"
      ],
      "text/plain": [
       "Empty DataFrame\n",
       "Columns: [SCALE, SPEC, STEEL_KIND, PT_THK, PT_WDTH, PT_LTH, PT_WGT, FUR_NO, FUR_NO_ROW, FUR_HZ_TEMP, FUR_HZ_TIME, FUR_SZ_TEMP, FUR_SZ_TIME, FUR_TIME, FUR_EXTEMP, ROLLING_TEMP_T5, HSB, ROLLING_DESCALING, WORK_GR]\n",
       "Index: []"
      ]
     },
     "execution_count": 727,
     "metadata": {},
     "output_type": "execute_result"
    }
   ],
   "source": [
    "df_raw.drop(df_raw[df_raw[\"ROLLING_TEMP_T5\"] == 0].index, inplace = True)  # ROLLING_TEMP_T5=0인 데이터 삭제\n",
    "df_raw[df_raw[\"ROLLING_TEMP_T5\"] == 0]"
   ]
  },
  {
   "cell_type": "markdown",
   "metadata": {},
   "source": [
    "이제 ROLLING_TEMP_T5가 0인 데이터가 다 삭제된 상태이다."
   ]
  },
  {
   "cell_type": "code",
   "execution_count": 728,
   "metadata": {},
   "outputs": [
    {
     "data": {
      "text/plain": [
       "(714, 19)"
      ]
     },
     "execution_count": 728,
     "metadata": {},
     "output_type": "execute_result"
    }
   ],
   "source": [
    "df_raw.shape"
   ]
  },
  {
   "cell_type": "markdown",
   "metadata": {},
   "source": [
    "6개를 삭제해서 714개의 데이터가 남은 상황이다."
   ]
  },
  {
   "cell_type": "markdown",
   "metadata": {},
   "source": [
    "## 수치형 변수 scaling 하기"
   ]
  },
  {
   "cell_type": "markdown",
   "metadata": {},
   "source": [
    "앞에서 본 Box Plot 결과에 의해 수치형 변수들을 scaling하기로 했다."
   ]
  },
  {
   "cell_type": "code",
   "execution_count": 729,
   "metadata": {},
   "outputs": [
    {
     "data": {
      "text/html": [
       "<div>\n",
       "<style scoped>\n",
       "    .dataframe tbody tr th:only-of-type {\n",
       "        vertical-align: middle;\n",
       "    }\n",
       "\n",
       "    .dataframe tbody tr th {\n",
       "        vertical-align: top;\n",
       "    }\n",
       "\n",
       "    .dataframe thead th {\n",
       "        text-align: right;\n",
       "    }\n",
       "</style>\n",
       "<table border=\"1\" class=\"dataframe\">\n",
       "  <thead>\n",
       "    <tr style=\"text-align: right;\">\n",
       "      <th></th>\n",
       "      <th>SCALE</th>\n",
       "      <th>SPEC</th>\n",
       "      <th>STEEL_KIND</th>\n",
       "      <th>PT_THK</th>\n",
       "      <th>PT_WDTH</th>\n",
       "      <th>PT_LTH</th>\n",
       "      <th>PT_WGT</th>\n",
       "      <th>FUR_NO</th>\n",
       "      <th>FUR_NO_ROW</th>\n",
       "      <th>FUR_HZ_TEMP</th>\n",
       "      <th>FUR_HZ_TIME</th>\n",
       "      <th>FUR_SZ_TEMP</th>\n",
       "      <th>FUR_SZ_TIME</th>\n",
       "      <th>FUR_TIME</th>\n",
       "      <th>FUR_EXTEMP</th>\n",
       "      <th>ROLLING_TEMP_T5</th>\n",
       "      <th>HSB</th>\n",
       "      <th>ROLLING_DESCALING</th>\n",
       "      <th>WORK_GR</th>\n",
       "    </tr>\n",
       "  </thead>\n",
       "  <tbody>\n",
       "    <tr>\n",
       "      <th>0</th>\n",
       "      <td>양품</td>\n",
       "      <td>AB/EH32-TM</td>\n",
       "      <td>T</td>\n",
       "      <td>32.25</td>\n",
       "      <td>3707</td>\n",
       "      <td>15109</td>\n",
       "      <td>14180</td>\n",
       "      <td>1호기</td>\n",
       "      <td>1</td>\n",
       "      <td>1144</td>\n",
       "      <td>116</td>\n",
       "      <td>1133</td>\n",
       "      <td>59</td>\n",
       "      <td>282</td>\n",
       "      <td>1125</td>\n",
       "      <td>934</td>\n",
       "      <td>적용</td>\n",
       "      <td>8</td>\n",
       "      <td>2조</td>\n",
       "    </tr>\n",
       "    <tr>\n",
       "      <th>1</th>\n",
       "      <td>양품</td>\n",
       "      <td>AB/EH32-TM</td>\n",
       "      <td>T</td>\n",
       "      <td>32.25</td>\n",
       "      <td>3707</td>\n",
       "      <td>15109</td>\n",
       "      <td>14180</td>\n",
       "      <td>1호기</td>\n",
       "      <td>2</td>\n",
       "      <td>1144</td>\n",
       "      <td>122</td>\n",
       "      <td>1135</td>\n",
       "      <td>53</td>\n",
       "      <td>283</td>\n",
       "      <td>1120</td>\n",
       "      <td>937</td>\n",
       "      <td>적용</td>\n",
       "      <td>8</td>\n",
       "      <td>2조</td>\n",
       "    </tr>\n",
       "    <tr>\n",
       "      <th>2</th>\n",
       "      <td>양품</td>\n",
       "      <td>NV-E36-TM</td>\n",
       "      <td>T</td>\n",
       "      <td>33.27</td>\n",
       "      <td>3619</td>\n",
       "      <td>19181</td>\n",
       "      <td>18130</td>\n",
       "      <td>2호기</td>\n",
       "      <td>1</td>\n",
       "      <td>1129</td>\n",
       "      <td>116</td>\n",
       "      <td>1121</td>\n",
       "      <td>55</td>\n",
       "      <td>282</td>\n",
       "      <td>1106</td>\n",
       "      <td>889</td>\n",
       "      <td>적용</td>\n",
       "      <td>8</td>\n",
       "      <td>3조</td>\n",
       "    </tr>\n",
       "    <tr>\n",
       "      <th>3</th>\n",
       "      <td>양품</td>\n",
       "      <td>NV-E36-TM</td>\n",
       "      <td>T</td>\n",
       "      <td>33.27</td>\n",
       "      <td>3619</td>\n",
       "      <td>19181</td>\n",
       "      <td>18130</td>\n",
       "      <td>2호기</td>\n",
       "      <td>2</td>\n",
       "      <td>1152</td>\n",
       "      <td>125</td>\n",
       "      <td>1127</td>\n",
       "      <td>68</td>\n",
       "      <td>316</td>\n",
       "      <td>1113</td>\n",
       "      <td>885</td>\n",
       "      <td>적용</td>\n",
       "      <td>8</td>\n",
       "      <td>3조</td>\n",
       "    </tr>\n",
       "    <tr>\n",
       "      <th>4</th>\n",
       "      <td>양품</td>\n",
       "      <td>BV-EH36-TM</td>\n",
       "      <td>T</td>\n",
       "      <td>38.33</td>\n",
       "      <td>3098</td>\n",
       "      <td>13334</td>\n",
       "      <td>12430</td>\n",
       "      <td>3호기</td>\n",
       "      <td>1</td>\n",
       "      <td>1140</td>\n",
       "      <td>134</td>\n",
       "      <td>1128</td>\n",
       "      <td>48</td>\n",
       "      <td>314</td>\n",
       "      <td>1118</td>\n",
       "      <td>873</td>\n",
       "      <td>적용</td>\n",
       "      <td>8</td>\n",
       "      <td>1조</td>\n",
       "    </tr>\n",
       "  </tbody>\n",
       "</table>\n",
       "</div>"
      ],
      "text/plain": [
       "  SCALE        SPEC STEEL_KIND  PT_THK  PT_WDTH  PT_LTH  PT_WGT FUR_NO  \\\n",
       "0    양품  AB/EH32-TM          T   32.25     3707   15109   14180    1호기   \n",
       "1    양품  AB/EH32-TM          T   32.25     3707   15109   14180    1호기   \n",
       "2    양품   NV-E36-TM          T   33.27     3619   19181   18130    2호기   \n",
       "3    양품   NV-E36-TM          T   33.27     3619   19181   18130    2호기   \n",
       "4    양품  BV-EH36-TM          T   38.33     3098   13334   12430    3호기   \n",
       "\n",
       "   FUR_NO_ROW  FUR_HZ_TEMP  FUR_HZ_TIME  FUR_SZ_TEMP  FUR_SZ_TIME  FUR_TIME  \\\n",
       "0           1         1144          116         1133           59       282   \n",
       "1           2         1144          122         1135           53       283   \n",
       "2           1         1129          116         1121           55       282   \n",
       "3           2         1152          125         1127           68       316   \n",
       "4           1         1140          134         1128           48       314   \n",
       "\n",
       "   FUR_EXTEMP  ROLLING_TEMP_T5 HSB  ROLLING_DESCALING WORK_GR  \n",
       "0        1125              934  적용                  8      2조  \n",
       "1        1120              937  적용                  8      2조  \n",
       "2        1106              889  적용                  8      3조  \n",
       "3        1113              885  적용                  8      3조  \n",
       "4        1118              873  적용                  8      1조  "
      ]
     },
     "execution_count": 729,
     "metadata": {},
     "output_type": "execute_result"
    }
   ],
   "source": [
    "df_raw.head()"
   ]
  },
  {
   "cell_type": "code",
   "execution_count": 730,
   "metadata": {},
   "outputs": [],
   "source": [
    "# 정말 수치형인 변수들\n",
    "df_neumeric = df_raw[[\"PT_THK\",\"PT_WDTH\",\"PT_LTH\",\"PT_WGT\",\"FUR_HZ_TEMP\",\"FUR_HZ_TIME\",\"FUR_SZ_TEMP\",\"FUR_SZ_TIME\",\"FUR_TIME\",\"FUR_EXTEMP\",\"ROLLING_TEMP_T5\"]]\n",
    "\n",
    "# 정말 명목형이거나 혹은 타입 자체는 수치형이지만 실질적으로 명목형이나 다름 없는 변수들\n",
    "df_categorical = df_raw[[\"SCALE\",\"SPEC\",\"STEEL_KIND\",\"FUR_NO\",\"FUR_NO_ROW\",\"HSB\",\"ROLLING_DESCALING\",\"WORK_GR\"]]"
   ]
  },
  {
   "cell_type": "code",
   "execution_count": 731,
   "metadata": {},
   "outputs": [],
   "source": [
    "scaler = StandardScaler()\n",
    "np_neumeric_scaled = scaler.fit_transform(df_neumeric)\n",
    "df_neumeric_scaled = pd.DataFrame(np_neumeric_scaled,columns=df_neumeric.columns)"
   ]
  },
  {
   "cell_type": "code",
   "execution_count": 732,
   "metadata": {},
   "outputs": [
    {
     "data": {
      "text/html": [
       "<div>\n",
       "<style scoped>\n",
       "    .dataframe tbody tr th:only-of-type {\n",
       "        vertical-align: middle;\n",
       "    }\n",
       "\n",
       "    .dataframe tbody tr th {\n",
       "        vertical-align: top;\n",
       "    }\n",
       "\n",
       "    .dataframe thead th {\n",
       "        text-align: right;\n",
       "    }\n",
       "</style>\n",
       "<table border=\"1\" class=\"dataframe\">\n",
       "  <thead>\n",
       "    <tr style=\"text-align: right;\">\n",
       "      <th></th>\n",
       "      <th>PT_THK</th>\n",
       "      <th>PT_WDTH</th>\n",
       "      <th>PT_LTH</th>\n",
       "      <th>PT_WGT</th>\n",
       "      <th>FUR_HZ_TEMP</th>\n",
       "      <th>FUR_HZ_TIME</th>\n",
       "      <th>FUR_SZ_TEMP</th>\n",
       "      <th>FUR_SZ_TIME</th>\n",
       "      <th>FUR_TIME</th>\n",
       "      <th>FUR_EXTEMP</th>\n",
       "      <th>ROLLING_TEMP_T5</th>\n",
       "    </tr>\n",
       "  </thead>\n",
       "  <tbody>\n",
       "    <tr>\n",
       "      <th>0</th>\n",
       "      <td>0.165524</td>\n",
       "      <td>1.738825</td>\n",
       "      <td>-1.399249</td>\n",
       "      <td>-1.102663</td>\n",
       "      <td>-0.550140</td>\n",
       "      <td>0.764075</td>\n",
       "      <td>-0.958762</td>\n",
       "      <td>-0.626900</td>\n",
       "      <td>-0.401705</td>\n",
       "      <td>-0.824152</td>\n",
       "      <td>-0.118132</td>\n",
       "    </tr>\n",
       "    <tr>\n",
       "      <th>1</th>\n",
       "      <td>0.165524</td>\n",
       "      <td>1.738825</td>\n",
       "      <td>-1.399249</td>\n",
       "      <td>-1.102663</td>\n",
       "      <td>-0.550140</td>\n",
       "      <td>0.929201</td>\n",
       "      <td>-0.844450</td>\n",
       "      <td>-0.856285</td>\n",
       "      <td>-0.379613</td>\n",
       "      <td>-1.105167</td>\n",
       "      <td>-0.072514</td>\n",
       "    </tr>\n",
       "    <tr>\n",
       "      <th>2</th>\n",
       "      <td>0.219261</td>\n",
       "      <td>1.568260</td>\n",
       "      <td>-1.103953</td>\n",
       "      <td>-0.943272</td>\n",
       "      <td>-1.270256</td>\n",
       "      <td>0.764075</td>\n",
       "      <td>-1.644633</td>\n",
       "      <td>-0.779823</td>\n",
       "      <td>-0.401705</td>\n",
       "      <td>-1.892008</td>\n",
       "      <td>-0.802387</td>\n",
       "    </tr>\n",
       "    <tr>\n",
       "      <th>3</th>\n",
       "      <td>0.219261</td>\n",
       "      <td>1.568260</td>\n",
       "      <td>-1.103953</td>\n",
       "      <td>-0.943272</td>\n",
       "      <td>-0.166077</td>\n",
       "      <td>1.011765</td>\n",
       "      <td>-1.301698</td>\n",
       "      <td>-0.282822</td>\n",
       "      <td>0.349415</td>\n",
       "      <td>-1.498588</td>\n",
       "      <td>-0.863210</td>\n",
       "    </tr>\n",
       "    <tr>\n",
       "      <th>4</th>\n",
       "      <td>0.485835</td>\n",
       "      <td>0.558436</td>\n",
       "      <td>-1.527970</td>\n",
       "      <td>-1.173279</td>\n",
       "      <td>-0.742171</td>\n",
       "      <td>1.259454</td>\n",
       "      <td>-1.244542</td>\n",
       "      <td>-1.047439</td>\n",
       "      <td>0.305232</td>\n",
       "      <td>-1.217573</td>\n",
       "      <td>-1.045678</td>\n",
       "    </tr>\n",
       "  </tbody>\n",
       "</table>\n",
       "</div>"
      ],
      "text/plain": [
       "     PT_THK   PT_WDTH    PT_LTH    PT_WGT  FUR_HZ_TEMP  FUR_HZ_TIME  \\\n",
       "0  0.165524  1.738825 -1.399249 -1.102663    -0.550140     0.764075   \n",
       "1  0.165524  1.738825 -1.399249 -1.102663    -0.550140     0.929201   \n",
       "2  0.219261  1.568260 -1.103953 -0.943272    -1.270256     0.764075   \n",
       "3  0.219261  1.568260 -1.103953 -0.943272    -0.166077     1.011765   \n",
       "4  0.485835  0.558436 -1.527970 -1.173279    -0.742171     1.259454   \n",
       "\n",
       "   FUR_SZ_TEMP  FUR_SZ_TIME  FUR_TIME  FUR_EXTEMP  ROLLING_TEMP_T5  \n",
       "0    -0.958762    -0.626900 -0.401705   -0.824152        -0.118132  \n",
       "1    -0.844450    -0.856285 -0.379613   -1.105167        -0.072514  \n",
       "2    -1.644633    -0.779823 -0.401705   -1.892008        -0.802387  \n",
       "3    -1.301698    -0.282822  0.349415   -1.498588        -0.863210  \n",
       "4    -1.244542    -1.047439  0.305232   -1.217573        -1.045678  "
      ]
     },
     "execution_count": 732,
     "metadata": {},
     "output_type": "execute_result"
    }
   ],
   "source": [
    "df_neumeric_scaled.head()"
   ]
  },
  {
   "cell_type": "code",
   "execution_count": 733,
   "metadata": {},
   "outputs": [
    {
     "data": {
      "text/html": [
       "<div>\n",
       "<style scoped>\n",
       "    .dataframe tbody tr th:only-of-type {\n",
       "        vertical-align: middle;\n",
       "    }\n",
       "\n",
       "    .dataframe tbody tr th {\n",
       "        vertical-align: top;\n",
       "    }\n",
       "\n",
       "    .dataframe thead th {\n",
       "        text-align: right;\n",
       "    }\n",
       "</style>\n",
       "<table border=\"1\" class=\"dataframe\">\n",
       "  <thead>\n",
       "    <tr style=\"text-align: right;\">\n",
       "      <th></th>\n",
       "      <th>SCALE</th>\n",
       "      <th>SPEC</th>\n",
       "      <th>STEEL_KIND</th>\n",
       "      <th>FUR_NO</th>\n",
       "      <th>FUR_NO_ROW</th>\n",
       "      <th>HSB</th>\n",
       "      <th>ROLLING_DESCALING</th>\n",
       "      <th>WORK_GR</th>\n",
       "    </tr>\n",
       "  </thead>\n",
       "  <tbody>\n",
       "    <tr>\n",
       "      <th>0</th>\n",
       "      <td>양품</td>\n",
       "      <td>AB/EH32-TM</td>\n",
       "      <td>T</td>\n",
       "      <td>1호기</td>\n",
       "      <td>1</td>\n",
       "      <td>적용</td>\n",
       "      <td>8</td>\n",
       "      <td>2조</td>\n",
       "    </tr>\n",
       "    <tr>\n",
       "      <th>1</th>\n",
       "      <td>양품</td>\n",
       "      <td>AB/EH32-TM</td>\n",
       "      <td>T</td>\n",
       "      <td>1호기</td>\n",
       "      <td>2</td>\n",
       "      <td>적용</td>\n",
       "      <td>8</td>\n",
       "      <td>2조</td>\n",
       "    </tr>\n",
       "    <tr>\n",
       "      <th>2</th>\n",
       "      <td>양품</td>\n",
       "      <td>NV-E36-TM</td>\n",
       "      <td>T</td>\n",
       "      <td>2호기</td>\n",
       "      <td>1</td>\n",
       "      <td>적용</td>\n",
       "      <td>8</td>\n",
       "      <td>3조</td>\n",
       "    </tr>\n",
       "    <tr>\n",
       "      <th>3</th>\n",
       "      <td>양품</td>\n",
       "      <td>NV-E36-TM</td>\n",
       "      <td>T</td>\n",
       "      <td>2호기</td>\n",
       "      <td>2</td>\n",
       "      <td>적용</td>\n",
       "      <td>8</td>\n",
       "      <td>3조</td>\n",
       "    </tr>\n",
       "    <tr>\n",
       "      <th>4</th>\n",
       "      <td>양품</td>\n",
       "      <td>BV-EH36-TM</td>\n",
       "      <td>T</td>\n",
       "      <td>3호기</td>\n",
       "      <td>1</td>\n",
       "      <td>적용</td>\n",
       "      <td>8</td>\n",
       "      <td>1조</td>\n",
       "    </tr>\n",
       "  </tbody>\n",
       "</table>\n",
       "</div>"
      ],
      "text/plain": [
       "  SCALE        SPEC STEEL_KIND FUR_NO  FUR_NO_ROW HSB  ROLLING_DESCALING  \\\n",
       "0    양품  AB/EH32-TM          T    1호기           1  적용                  8   \n",
       "1    양품  AB/EH32-TM          T    1호기           2  적용                  8   \n",
       "2    양품   NV-E36-TM          T    2호기           1  적용                  8   \n",
       "3    양품   NV-E36-TM          T    2호기           2  적용                  8   \n",
       "4    양품  BV-EH36-TM          T    3호기           1  적용                  8   \n",
       "\n",
       "  WORK_GR  \n",
       "0      2조  \n",
       "1      2조  \n",
       "2      3조  \n",
       "3      3조  \n",
       "4      1조  "
      ]
     },
     "execution_count": 733,
     "metadata": {},
     "output_type": "execute_result"
    }
   ],
   "source": [
    "df_categorical.head()"
   ]
  },
  {
   "cell_type": "code",
   "execution_count": 734,
   "metadata": {},
   "outputs": [],
   "source": [
    "# df_neumeric_scaled, df_categorical 두 개의 index가 약간 상이했는지 join한 이후로 결측치가 발생해서\n",
    "# index를 다시 세팅해주기로 했다.\n",
    "df_neumeric_scaled = df_neumeric_scaled.reset_index(drop=True)\n",
    "df_categorical = df_categorical.reset_index(drop=True)"
   ]
  },
  {
   "cell_type": "code",
   "execution_count": 735,
   "metadata": {},
   "outputs": [],
   "source": [
    "df_scaled = df_neumeric_scaled.join(df_categorical)"
   ]
  },
  {
   "cell_type": "code",
   "execution_count": 736,
   "metadata": {},
   "outputs": [
    {
     "data": {
      "text/plain": [
       "PT_THK               0\n",
       "PT_WDTH              0\n",
       "PT_LTH               0\n",
       "PT_WGT               0\n",
       "FUR_HZ_TEMP          0\n",
       "FUR_HZ_TIME          0\n",
       "FUR_SZ_TEMP          0\n",
       "FUR_SZ_TIME          0\n",
       "FUR_TIME             0\n",
       "FUR_EXTEMP           0\n",
       "ROLLING_TEMP_T5      0\n",
       "SCALE                0\n",
       "SPEC                 0\n",
       "STEEL_KIND           0\n",
       "FUR_NO               0\n",
       "FUR_NO_ROW           0\n",
       "HSB                  0\n",
       "ROLLING_DESCALING    0\n",
       "WORK_GR              0\n",
       "dtype: int64"
      ]
     },
     "execution_count": 736,
     "metadata": {},
     "output_type": "execute_result"
    }
   ],
   "source": [
    "df_scaled.isnull().sum()"
   ]
  },
  {
   "cell_type": "code",
   "execution_count": 737,
   "metadata": {},
   "outputs": [
    {
     "data": {
      "text/html": [
       "<div>\n",
       "<style scoped>\n",
       "    .dataframe tbody tr th:only-of-type {\n",
       "        vertical-align: middle;\n",
       "    }\n",
       "\n",
       "    .dataframe tbody tr th {\n",
       "        vertical-align: top;\n",
       "    }\n",
       "\n",
       "    .dataframe thead th {\n",
       "        text-align: right;\n",
       "    }\n",
       "</style>\n",
       "<table border=\"1\" class=\"dataframe\">\n",
       "  <thead>\n",
       "    <tr style=\"text-align: right;\">\n",
       "      <th></th>\n",
       "      <th>PT_THK</th>\n",
       "      <th>PT_WDTH</th>\n",
       "      <th>PT_LTH</th>\n",
       "      <th>PT_WGT</th>\n",
       "      <th>FUR_HZ_TEMP</th>\n",
       "      <th>FUR_HZ_TIME</th>\n",
       "      <th>FUR_SZ_TEMP</th>\n",
       "      <th>FUR_SZ_TIME</th>\n",
       "      <th>FUR_TIME</th>\n",
       "      <th>FUR_EXTEMP</th>\n",
       "      <th>ROLLING_TEMP_T5</th>\n",
       "      <th>SCALE</th>\n",
       "      <th>SPEC</th>\n",
       "      <th>STEEL_KIND</th>\n",
       "      <th>FUR_NO</th>\n",
       "      <th>FUR_NO_ROW</th>\n",
       "      <th>HSB</th>\n",
       "      <th>ROLLING_DESCALING</th>\n",
       "      <th>WORK_GR</th>\n",
       "    </tr>\n",
       "  </thead>\n",
       "  <tbody>\n",
       "    <tr>\n",
       "      <th>0</th>\n",
       "      <td>0.165524</td>\n",
       "      <td>1.738825</td>\n",
       "      <td>-1.399249</td>\n",
       "      <td>-1.102663</td>\n",
       "      <td>-0.550140</td>\n",
       "      <td>0.764075</td>\n",
       "      <td>-0.958762</td>\n",
       "      <td>-0.626900</td>\n",
       "      <td>-0.401705</td>\n",
       "      <td>-0.824152</td>\n",
       "      <td>-0.118132</td>\n",
       "      <td>양품</td>\n",
       "      <td>AB/EH32-TM</td>\n",
       "      <td>T</td>\n",
       "      <td>1호기</td>\n",
       "      <td>1</td>\n",
       "      <td>적용</td>\n",
       "      <td>8</td>\n",
       "      <td>2조</td>\n",
       "    </tr>\n",
       "    <tr>\n",
       "      <th>1</th>\n",
       "      <td>0.165524</td>\n",
       "      <td>1.738825</td>\n",
       "      <td>-1.399249</td>\n",
       "      <td>-1.102663</td>\n",
       "      <td>-0.550140</td>\n",
       "      <td>0.929201</td>\n",
       "      <td>-0.844450</td>\n",
       "      <td>-0.856285</td>\n",
       "      <td>-0.379613</td>\n",
       "      <td>-1.105167</td>\n",
       "      <td>-0.072514</td>\n",
       "      <td>양품</td>\n",
       "      <td>AB/EH32-TM</td>\n",
       "      <td>T</td>\n",
       "      <td>1호기</td>\n",
       "      <td>2</td>\n",
       "      <td>적용</td>\n",
       "      <td>8</td>\n",
       "      <td>2조</td>\n",
       "    </tr>\n",
       "    <tr>\n",
       "      <th>2</th>\n",
       "      <td>0.219261</td>\n",
       "      <td>1.568260</td>\n",
       "      <td>-1.103953</td>\n",
       "      <td>-0.943272</td>\n",
       "      <td>-1.270256</td>\n",
       "      <td>0.764075</td>\n",
       "      <td>-1.644633</td>\n",
       "      <td>-0.779823</td>\n",
       "      <td>-0.401705</td>\n",
       "      <td>-1.892008</td>\n",
       "      <td>-0.802387</td>\n",
       "      <td>양품</td>\n",
       "      <td>NV-E36-TM</td>\n",
       "      <td>T</td>\n",
       "      <td>2호기</td>\n",
       "      <td>1</td>\n",
       "      <td>적용</td>\n",
       "      <td>8</td>\n",
       "      <td>3조</td>\n",
       "    </tr>\n",
       "    <tr>\n",
       "      <th>3</th>\n",
       "      <td>0.219261</td>\n",
       "      <td>1.568260</td>\n",
       "      <td>-1.103953</td>\n",
       "      <td>-0.943272</td>\n",
       "      <td>-0.166077</td>\n",
       "      <td>1.011765</td>\n",
       "      <td>-1.301698</td>\n",
       "      <td>-0.282822</td>\n",
       "      <td>0.349415</td>\n",
       "      <td>-1.498588</td>\n",
       "      <td>-0.863210</td>\n",
       "      <td>양품</td>\n",
       "      <td>NV-E36-TM</td>\n",
       "      <td>T</td>\n",
       "      <td>2호기</td>\n",
       "      <td>2</td>\n",
       "      <td>적용</td>\n",
       "      <td>8</td>\n",
       "      <td>3조</td>\n",
       "    </tr>\n",
       "    <tr>\n",
       "      <th>4</th>\n",
       "      <td>0.485835</td>\n",
       "      <td>0.558436</td>\n",
       "      <td>-1.527970</td>\n",
       "      <td>-1.173279</td>\n",
       "      <td>-0.742171</td>\n",
       "      <td>1.259454</td>\n",
       "      <td>-1.244542</td>\n",
       "      <td>-1.047439</td>\n",
       "      <td>0.305232</td>\n",
       "      <td>-1.217573</td>\n",
       "      <td>-1.045678</td>\n",
       "      <td>양품</td>\n",
       "      <td>BV-EH36-TM</td>\n",
       "      <td>T</td>\n",
       "      <td>3호기</td>\n",
       "      <td>1</td>\n",
       "      <td>적용</td>\n",
       "      <td>8</td>\n",
       "      <td>1조</td>\n",
       "    </tr>\n",
       "  </tbody>\n",
       "</table>\n",
       "</div>"
      ],
      "text/plain": [
       "     PT_THK   PT_WDTH    PT_LTH    PT_WGT  FUR_HZ_TEMP  FUR_HZ_TIME  \\\n",
       "0  0.165524  1.738825 -1.399249 -1.102663    -0.550140     0.764075   \n",
       "1  0.165524  1.738825 -1.399249 -1.102663    -0.550140     0.929201   \n",
       "2  0.219261  1.568260 -1.103953 -0.943272    -1.270256     0.764075   \n",
       "3  0.219261  1.568260 -1.103953 -0.943272    -0.166077     1.011765   \n",
       "4  0.485835  0.558436 -1.527970 -1.173279    -0.742171     1.259454   \n",
       "\n",
       "   FUR_SZ_TEMP  FUR_SZ_TIME  FUR_TIME  FUR_EXTEMP  ROLLING_TEMP_T5 SCALE  \\\n",
       "0    -0.958762    -0.626900 -0.401705   -0.824152        -0.118132    양품   \n",
       "1    -0.844450    -0.856285 -0.379613   -1.105167        -0.072514    양품   \n",
       "2    -1.644633    -0.779823 -0.401705   -1.892008        -0.802387    양품   \n",
       "3    -1.301698    -0.282822  0.349415   -1.498588        -0.863210    양품   \n",
       "4    -1.244542    -1.047439  0.305232   -1.217573        -1.045678    양품   \n",
       "\n",
       "         SPEC STEEL_KIND FUR_NO  FUR_NO_ROW HSB  ROLLING_DESCALING WORK_GR  \n",
       "0  AB/EH32-TM          T    1호기           1  적용                  8      2조  \n",
       "1  AB/EH32-TM          T    1호기           2  적용                  8      2조  \n",
       "2   NV-E36-TM          T    2호기           1  적용                  8      3조  \n",
       "3   NV-E36-TM          T    2호기           2  적용                  8      3조  \n",
       "4  BV-EH36-TM          T    3호기           1  적용                  8      1조  "
      ]
     },
     "execution_count": 737,
     "metadata": {},
     "output_type": "execute_result"
    }
   ],
   "source": [
    "df_scaled.head()"
   ]
  },
  {
   "cell_type": "code",
   "execution_count": 738,
   "metadata": {},
   "outputs": [
    {
     "data": {
      "text/html": [
       "<div>\n",
       "<style scoped>\n",
       "    .dataframe tbody tr th:only-of-type {\n",
       "        vertical-align: middle;\n",
       "    }\n",
       "\n",
       "    .dataframe tbody tr th {\n",
       "        vertical-align: top;\n",
       "    }\n",
       "\n",
       "    .dataframe thead th {\n",
       "        text-align: right;\n",
       "    }\n",
       "</style>\n",
       "<table border=\"1\" class=\"dataframe\">\n",
       "  <thead>\n",
       "    <tr style=\"text-align: right;\">\n",
       "      <th></th>\n",
       "      <th>PT_THK</th>\n",
       "      <th>PT_WDTH</th>\n",
       "      <th>PT_LTH</th>\n",
       "      <th>PT_WGT</th>\n",
       "      <th>FUR_HZ_TEMP</th>\n",
       "      <th>FUR_HZ_TIME</th>\n",
       "      <th>FUR_SZ_TEMP</th>\n",
       "      <th>FUR_SZ_TIME</th>\n",
       "      <th>FUR_TIME</th>\n",
       "      <th>FUR_EXTEMP</th>\n",
       "      <th>ROLLING_TEMP_T5</th>\n",
       "      <th>SCALE</th>\n",
       "      <th>SPEC</th>\n",
       "      <th>STEEL_KIND</th>\n",
       "      <th>FUR_NO</th>\n",
       "      <th>FUR_NO_ROW</th>\n",
       "      <th>HSB</th>\n",
       "      <th>ROLLING_DESCALING</th>\n",
       "      <th>WORK_GR</th>\n",
       "    </tr>\n",
       "  </thead>\n",
       "  <tbody>\n",
       "    <tr>\n",
       "      <th>0</th>\n",
       "      <td>0.165524</td>\n",
       "      <td>1.738825</td>\n",
       "      <td>-1.399249</td>\n",
       "      <td>-1.102663</td>\n",
       "      <td>-0.550140</td>\n",
       "      <td>0.764075</td>\n",
       "      <td>-0.958762</td>\n",
       "      <td>-0.626900</td>\n",
       "      <td>-0.401705</td>\n",
       "      <td>-0.824152</td>\n",
       "      <td>-0.118132</td>\n",
       "      <td>flawless</td>\n",
       "      <td>AB/EH32-TM</td>\n",
       "      <td>T</td>\n",
       "      <td>1</td>\n",
       "      <td>1</td>\n",
       "      <td>applied</td>\n",
       "      <td>8</td>\n",
       "      <td>2</td>\n",
       "    </tr>\n",
       "    <tr>\n",
       "      <th>1</th>\n",
       "      <td>0.165524</td>\n",
       "      <td>1.738825</td>\n",
       "      <td>-1.399249</td>\n",
       "      <td>-1.102663</td>\n",
       "      <td>-0.550140</td>\n",
       "      <td>0.929201</td>\n",
       "      <td>-0.844450</td>\n",
       "      <td>-0.856285</td>\n",
       "      <td>-0.379613</td>\n",
       "      <td>-1.105167</td>\n",
       "      <td>-0.072514</td>\n",
       "      <td>flawless</td>\n",
       "      <td>AB/EH32-TM</td>\n",
       "      <td>T</td>\n",
       "      <td>1</td>\n",
       "      <td>2</td>\n",
       "      <td>applied</td>\n",
       "      <td>8</td>\n",
       "      <td>2</td>\n",
       "    </tr>\n",
       "    <tr>\n",
       "      <th>2</th>\n",
       "      <td>0.219261</td>\n",
       "      <td>1.568260</td>\n",
       "      <td>-1.103953</td>\n",
       "      <td>-0.943272</td>\n",
       "      <td>-1.270256</td>\n",
       "      <td>0.764075</td>\n",
       "      <td>-1.644633</td>\n",
       "      <td>-0.779823</td>\n",
       "      <td>-0.401705</td>\n",
       "      <td>-1.892008</td>\n",
       "      <td>-0.802387</td>\n",
       "      <td>flawless</td>\n",
       "      <td>NV-E36-TM</td>\n",
       "      <td>T</td>\n",
       "      <td>2</td>\n",
       "      <td>1</td>\n",
       "      <td>applied</td>\n",
       "      <td>8</td>\n",
       "      <td>3</td>\n",
       "    </tr>\n",
       "    <tr>\n",
       "      <th>3</th>\n",
       "      <td>0.219261</td>\n",
       "      <td>1.568260</td>\n",
       "      <td>-1.103953</td>\n",
       "      <td>-0.943272</td>\n",
       "      <td>-0.166077</td>\n",
       "      <td>1.011765</td>\n",
       "      <td>-1.301698</td>\n",
       "      <td>-0.282822</td>\n",
       "      <td>0.349415</td>\n",
       "      <td>-1.498588</td>\n",
       "      <td>-0.863210</td>\n",
       "      <td>flawless</td>\n",
       "      <td>NV-E36-TM</td>\n",
       "      <td>T</td>\n",
       "      <td>2</td>\n",
       "      <td>2</td>\n",
       "      <td>applied</td>\n",
       "      <td>8</td>\n",
       "      <td>3</td>\n",
       "    </tr>\n",
       "    <tr>\n",
       "      <th>4</th>\n",
       "      <td>0.485835</td>\n",
       "      <td>0.558436</td>\n",
       "      <td>-1.527970</td>\n",
       "      <td>-1.173279</td>\n",
       "      <td>-0.742171</td>\n",
       "      <td>1.259454</td>\n",
       "      <td>-1.244542</td>\n",
       "      <td>-1.047439</td>\n",
       "      <td>0.305232</td>\n",
       "      <td>-1.217573</td>\n",
       "      <td>-1.045678</td>\n",
       "      <td>flawless</td>\n",
       "      <td>BV-EH36-TM</td>\n",
       "      <td>T</td>\n",
       "      <td>3</td>\n",
       "      <td>1</td>\n",
       "      <td>applied</td>\n",
       "      <td>8</td>\n",
       "      <td>1</td>\n",
       "    </tr>\n",
       "  </tbody>\n",
       "</table>\n",
       "</div>"
      ],
      "text/plain": [
       "     PT_THK   PT_WDTH    PT_LTH    PT_WGT  FUR_HZ_TEMP  FUR_HZ_TIME  \\\n",
       "0  0.165524  1.738825 -1.399249 -1.102663    -0.550140     0.764075   \n",
       "1  0.165524  1.738825 -1.399249 -1.102663    -0.550140     0.929201   \n",
       "2  0.219261  1.568260 -1.103953 -0.943272    -1.270256     0.764075   \n",
       "3  0.219261  1.568260 -1.103953 -0.943272    -0.166077     1.011765   \n",
       "4  0.485835  0.558436 -1.527970 -1.173279    -0.742171     1.259454   \n",
       "\n",
       "   FUR_SZ_TEMP  FUR_SZ_TIME  FUR_TIME  FUR_EXTEMP  ROLLING_TEMP_T5     SCALE  \\\n",
       "0    -0.958762    -0.626900 -0.401705   -0.824152        -0.118132  flawless   \n",
       "1    -0.844450    -0.856285 -0.379613   -1.105167        -0.072514  flawless   \n",
       "2    -1.644633    -0.779823 -0.401705   -1.892008        -0.802387  flawless   \n",
       "3    -1.301698    -0.282822  0.349415   -1.498588        -0.863210  flawless   \n",
       "4    -1.244542    -1.047439  0.305232   -1.217573        -1.045678  flawless   \n",
       "\n",
       "         SPEC STEEL_KIND FUR_NO  FUR_NO_ROW      HSB  ROLLING_DESCALING  \\\n",
       "0  AB/EH32-TM          T      1           1  applied                  8   \n",
       "1  AB/EH32-TM          T      1           2  applied                  8   \n",
       "2   NV-E36-TM          T      2           1  applied                  8   \n",
       "3   NV-E36-TM          T      2           2  applied                  8   \n",
       "4  BV-EH36-TM          T      3           1  applied                  8   \n",
       "\n",
       "  WORK_GR  \n",
       "0       2  \n",
       "1       2  \n",
       "2       3  \n",
       "3       3  \n",
       "4       1  "
      ]
     },
     "execution_count": 738,
     "metadata": {},
     "output_type": "execute_result"
    }
   ],
   "source": [
    "# 한글이 제대로 나오지 않아 영어로 처리\n",
    "\n",
    "df_scaled.replace({'SCALE': '양품'}, {\"SCALE\": 'flawless'},inplace=True)\n",
    "df_scaled.replace({'SCALE': '불량'}, {'SCALE': 'defected'},inplace=True)\n",
    "\n",
    "df_scaled.replace({'HSB': '적용'}, {'HSB': \"applied\"},inplace=True)\n",
    "df_scaled.replace({'HSB': '미적용'},{'HSB': \"not-applied\"},inplace=True)\n",
    "\n",
    "df_scaled[\"FUR_NO\"] = df_scaled[\"FUR_NO\"].str[:1]  # 가장 앞글자만 따옴\n",
    "df_scaled[\"WORK_GR\"] = df_scaled[\"WORK_GR\"].str[:1]  # 가장 앞글자만 따옴\n",
    "\n",
    "df_scaled.head()"
   ]
  },
  {
   "cell_type": "markdown",
   "metadata": {},
   "source": [
    "## scaling 이후 이상치 처리하기"
   ]
  },
  {
   "cell_type": "code",
   "execution_count": 739,
   "metadata": {},
   "outputs": [
    {
     "data": {
      "text/plain": [
       "<AxesSubplot:>"
      ]
     },
     "execution_count": 739,
     "metadata": {},
     "output_type": "execute_result"
    },
    {
     "data": {
      "image/png": "[encoded data removed]",
      "text/plain": [
       "<Figure size 1080x1080 with 1 Axes>"
      ]
     },
     "metadata": {
      "needs_background": "light"
     },
     "output_type": "display_data"
    }
   ],
   "source": [
    "df_scaled.boxplot(figsize=(15,15),fontsize=12,vert=False)"
   ]
  },
  {
   "cell_type": "markdown",
   "metadata": {},
   "source": [
    "- ROLLING_DESCALING, FUR_NO_ROW은 명목형이나 다름없는 수치형이므로 논외.\n",
    "- FUR_SZ_TIME, FUR_HZ_TIME, PT_WDTH, PT_THK에서 이상치가 발견되었으나, 각 이상치가 의미가 없다고는 보장할 수 없으므로 삭제하지 않고 그냥 진행하기로 했다."
   ]
  },
  {
   "cell_type": "markdown",
   "metadata": {},
   "source": [
    "# 그래프 분석"
   ]
  },
  {
   "cell_type": "markdown",
   "metadata": {},
   "source": [
    "## 각 변수들 분포 확인 (Histogram)"
   ]
  },
  {
   "cell_type": "code",
   "execution_count": 742,
   "metadata": {},
   "outputs": [
    {
     "data": {
      "text/plain": [
       "array([[<AxesSubplot:title={'center':'PT_THK'}>,\n",
       "        <AxesSubplot:title={'center':'PT_WDTH'}>,\n",
       "        <AxesSubplot:title={'center':'PT_LTH'}>,\n",
       "        <AxesSubplot:title={'center':'PT_WGT'}>],\n",
       "       [<AxesSubplot:title={'center':'FUR_HZ_TEMP'}>,\n",
       "        <AxesSubplot:title={'center':'FUR_HZ_TIME'}>,\n",
       "        <AxesSubplot:title={'center':'FUR_SZ_TEMP'}>,\n",
       "        <AxesSubplot:title={'center':'FUR_SZ_TIME'}>],\n",
       "       [<AxesSubplot:title={'center':'FUR_TIME'}>,\n",
       "        <AxesSubplot:title={'center':'FUR_EXTEMP'}>,\n",
       "        <AxesSubplot:title={'center':'ROLLING_TEMP_T5'}>,\n",
       "        <AxesSubplot:title={'center':'FUR_NO_ROW'}>],\n",
       "       [<AxesSubplot:title={'center':'ROLLING_DESCALING'}>,\n",
       "        <AxesSubplot:>, <AxesSubplot:>, <AxesSubplot:>]], dtype=object)"
      ]
     },
     "execution_count": 742,
     "metadata": {},
     "output_type": "execute_result"
    },
    {
     "data": {
      "image/png": "[encoded data removed]",
      "text/plain": [
       "<Figure size 1080x720 with 16 Axes>"
      ]
     },
     "metadata": {
      "needs_background": "light"
     },
     "output_type": "display_data"
    }
   ],
   "source": [
    "df_scaled.hist(figsize=(15, 10))"
   ]
  },
  {
   "cell_type": "markdown",
   "metadata": {},
   "source": [
    "- ROLLING_DESCALING, FUR_NO_ROW,HSB는 실질적으로 명목형이므로 논외"
   ]
  },
  {
   "cell_type": "markdown",
   "metadata": {},
   "source": [
    "## 강종과 scale 불량과의 관계"
   ]
  },
  {
   "cell_type": "code",
   "execution_count": 743,
   "metadata": {},
   "outputs": [
    {
     "data": {
      "text/plain": [
       "Text(0.5, 1.0, 'Tool Steel')"
      ]
     },
     "execution_count": 743,
     "metadata": {},
     "output_type": "execute_result"
    },
    {
     "data": {
      "image/png": "[encoded data removed]",
      "text/plain": [
       "<Figure size 936x360 with 2 Axes>"
      ]
     },
     "metadata": {},
     "output_type": "display_data"
    }
   ],
   "source": [
    "df_scaled_C = df_scaled[df_scaled[\"STEEL_KIND\"]==\"C\"]\n",
    "df_scaled_T = df_scaled[df_scaled[\"STEEL_KIND\"]==\"T\"]\n",
    "\n",
    "df_count1 = df_scaled_C.groupby([\"SCALE\"]).size()\n",
    "df_count2 = df_scaled_T.groupby([\"SCALE\"]).size()\n",
    "\n",
    "scale = [\"defected\",\"flawless\"]\n",
    "\n",
    "fig, ax = plt.subplots(nrows = 1, ncols = 2, figsize = (13, 5))\n",
    "\n",
    "ax[0].pie(df_count1.to_numpy(), autopct=\"%.2f%%\",labels=scale)\n",
    "ax[0].set_title(\"Carbon Steel\", fontsize = 15)\n",
    "\n",
    "ax[1].pie(df_count2.to_numpy(), autopct=\"%.2f%%\",labels=scale)\n",
    "ax[1].set_title(\"Tool Steel\", fontsize = 15)"
   ]
  },
  {
   "cell_type": "markdown",
   "metadata": {},
   "source": [
    "- Tool Steel(T)에 비해 **Carbon Steel(C)의 불량비율이 더 높다.**\n",
    "- 불량 원인 중 하나가 강종일 가능성이 존재한다."
   ]
  },
  {
   "cell_type": "markdown",
   "metadata": {},
   "source": [
    "## Descaling 횟수와 scale 불량과의 관계"
   ]
  },
  {
   "cell_type": "code",
   "execution_count": 744,
   "metadata": {},
   "outputs": [
    {
     "data": {
      "text/plain": [
       "Text(0.5, 1.0, '10 times')"
      ]
     },
     "execution_count": 744,
     "metadata": {},
     "output_type": "execute_result"
    },
    {
     "data": {
      "image/png": "[encoded data removed]",
      "text/plain": [
       "<Figure size 936x360 with 6 Axes>"
      ]
     },
     "metadata": {},
     "output_type": "display_data"
    }
   ],
   "source": [
    "df_scaled_5 = df_scaled[df_scaled[\"ROLLING_DESCALING\"]==5]\n",
    "df_scaled_6 = df_scaled[df_scaled[\"ROLLING_DESCALING\"]==6]\n",
    "df_scaled_7 = df_scaled[df_scaled[\"ROLLING_DESCALING\"]==7]\n",
    "df_scaled_8 = df_scaled[df_scaled[\"ROLLING_DESCALING\"]==8]\n",
    "df_scaled_9 = df_scaled[df_scaled[\"ROLLING_DESCALING\"]==9]\n",
    "df_scaled_10 = df_scaled[df_scaled[\"ROLLING_DESCALING\"]==10]\n",
    "\n",
    "df_count5 = df_scaled_5.groupby([\"SCALE\"]).size()\n",
    "df_count6 = df_scaled_6.groupby([\"SCALE\"]).size()\n",
    "df_count7 = df_scaled_7.groupby([\"SCALE\"]).size()\n",
    "df_count8 = df_scaled_8.groupby([\"SCALE\"]).size()\n",
    "df_count9 = df_scaled_9.groupby([\"SCALE\"]).size()\n",
    "df_count10 = df_scaled_10.groupby([\"SCALE\"]).size()\n",
    "\n",
    "scale = [\"defected\",\"flawless\"]\n",
    "\n",
    "fig, ax = plt.subplots(nrows = 2, ncols = 3, figsize = (13, 5))\n",
    "\n",
    "ax[0][0].pie(df_count5.to_numpy(), autopct=\"%.2f%%\",labels=[\"defected\"])\n",
    "ax[0][0].set_title(\"5 times\", fontsize = 15)\n",
    "\n",
    "ax[0][1].pie(df_count6.to_numpy(), autopct=\"%.2f%%\",labels=scale)\n",
    "ax[0][1].set_title(\"6 times\", fontsize = 15)\n",
    "\n",
    "ax[0][2].pie(df_count7.to_numpy(), autopct=\"%.2f%%\",labels=[\"defected\"])\n",
    "ax[0][2].set_title(\"7 times\", fontsize = 15)\n",
    "\n",
    "ax[1][0].pie(df_count8.to_numpy(), autopct=\"%.2f%%\",labels=scale)\n",
    "ax[1][0].set_title(\"8 times\", fontsize = 15)\n",
    "\n",
    "ax[1][1].pie(df_count9.to_numpy(), autopct=\"%.2f%%\",labels=[\"defected\"])\n",
    "ax[1][1].set_title(\"9 times\", fontsize = 15)\n",
    "\n",
    "ax[1][2].pie(df_count10.to_numpy(), autopct=\"%.2f%%\",labels=scale)\n",
    "ax[1][2].set_title(\"10 times\", fontsize = 15)"
   ]
  },
  {
   "cell_type": "markdown",
   "metadata": {},
   "source": [
    "descaling 횟수와 불량률의 관계를 직접적으로 찾기는 어렵다. **따라서 descaling 횟수는 scale 불량여부에 영향을 미치지 않는다.**"
   ]
  },
  {
   "cell_type": "markdown",
   "metadata": {},
   "source": [
    "## HSB 적용 여부에 따른 scale 불량 비율"
   ]
  },
  {
   "cell_type": "code",
   "execution_count": 745,
   "metadata": {},
   "outputs": [
    {
     "data": {
      "text/plain": [
       "Text(0.5, 1.0, 'HSB not applied')"
      ]
     },
     "execution_count": 745,
     "metadata": {},
     "output_type": "execute_result"
    },
    {
     "data": {
      "image/png": "[encoded data removed]",
      "text/plain": [
       "<Figure size 936x360 with 2 Axes>"
      ]
     },
     "metadata": {},
     "output_type": "display_data"
    }
   ],
   "source": [
    "df_scaled_applied = df_scaled[df_scaled[\"HSB\"]==\"applied\"]\n",
    "df_scaled_Napplied = df_scaled[df_scaled[\"HSB\"]==\"not-applied\"]\n",
    "\n",
    "df_count1 = df_scaled_applied.groupby([\"SCALE\"]).size()\n",
    "df_count2 = df_scaled_Napplied.groupby([\"SCALE\"]).size()\n",
    "\n",
    "scale = [\"defected\",\"flawless\"]\n",
    "\n",
    "fig, ax = plt.subplots(nrows = 1, ncols = 2, figsize = (13, 5))\n",
    "\n",
    "ax[0].pie(df_count1.to_numpy(), autopct=\"%.2f%%\",labels=scale)\n",
    "ax[0].set_title(\"HSB applied\", fontsize = 15)\n",
    "\n",
    "ax[1].pie(df_count2.to_numpy(), autopct=\"%.2f%%\",labels=[\"defected\"])\n",
    "ax[1].set_title(\"HSB not applied\", fontsize = 15)"
   ]
  },
  {
   "cell_type": "markdown",
   "metadata": {},
   "source": [
    "- HSB를 하지 않은 경우는 모두 불량이지만, **HSB를 적용하면 상대적으로 불량 비율이 적어진다.**\n",
    "- 불량 원인 중 하나가 HSB 미적용일 가능성이 존재한다."
   ]
  },
  {
   "cell_type": "markdown",
   "metadata": {},
   "source": [
    "## 온도 및 시간 변수와 scale 불량과의 관계"
   ]
  },
  {
   "cell_type": "code",
   "execution_count": 746,
   "metadata": {},
   "outputs": [
    {
     "data": {
      "text/html": [
       "<div>\n",
       "<style scoped>\n",
       "    .dataframe tbody tr th:only-of-type {\n",
       "        vertical-align: middle;\n",
       "    }\n",
       "\n",
       "    .dataframe tbody tr th {\n",
       "        vertical-align: top;\n",
       "    }\n",
       "\n",
       "    .dataframe thead th {\n",
       "        text-align: right;\n",
       "    }\n",
       "</style>\n",
       "<table border=\"1\" class=\"dataframe\">\n",
       "  <thead>\n",
       "    <tr style=\"text-align: right;\">\n",
       "      <th></th>\n",
       "      <th>SCALE</th>\n",
       "      <th>SPEC</th>\n",
       "      <th>STEEL_KIND</th>\n",
       "      <th>PT_THK</th>\n",
       "      <th>PT_WDTH</th>\n",
       "      <th>PT_LTH</th>\n",
       "      <th>PT_WGT</th>\n",
       "      <th>FUR_NO</th>\n",
       "      <th>FUR_NO_ROW</th>\n",
       "      <th>FUR_HZ_TEMP</th>\n",
       "      <th>FUR_HZ_TIME</th>\n",
       "      <th>FUR_SZ_TEMP</th>\n",
       "      <th>FUR_SZ_TIME</th>\n",
       "      <th>FUR_TIME</th>\n",
       "      <th>FUR_EXTEMP</th>\n",
       "      <th>ROLLING_TEMP_T5</th>\n",
       "      <th>HSB</th>\n",
       "      <th>ROLLING_DESCALING</th>\n",
       "      <th>WORK_GR</th>\n",
       "    </tr>\n",
       "  </thead>\n",
       "  <tbody>\n",
       "    <tr>\n",
       "      <th>0</th>\n",
       "      <td>flawless</td>\n",
       "      <td>AB/EH32-TM</td>\n",
       "      <td>T</td>\n",
       "      <td>32.25</td>\n",
       "      <td>3707</td>\n",
       "      <td>15109</td>\n",
       "      <td>14180</td>\n",
       "      <td>1</td>\n",
       "      <td>1</td>\n",
       "      <td>1144</td>\n",
       "      <td>116</td>\n",
       "      <td>1133</td>\n",
       "      <td>59</td>\n",
       "      <td>282</td>\n",
       "      <td>1125</td>\n",
       "      <td>934</td>\n",
       "      <td>applied</td>\n",
       "      <td>8</td>\n",
       "      <td>2</td>\n",
       "    </tr>\n",
       "    <tr>\n",
       "      <th>1</th>\n",
       "      <td>flawless</td>\n",
       "      <td>AB/EH32-TM</td>\n",
       "      <td>T</td>\n",
       "      <td>32.25</td>\n",
       "      <td>3707</td>\n",
       "      <td>15109</td>\n",
       "      <td>14180</td>\n",
       "      <td>1</td>\n",
       "      <td>2</td>\n",
       "      <td>1144</td>\n",
       "      <td>122</td>\n",
       "      <td>1135</td>\n",
       "      <td>53</td>\n",
       "      <td>283</td>\n",
       "      <td>1120</td>\n",
       "      <td>937</td>\n",
       "      <td>applied</td>\n",
       "      <td>8</td>\n",
       "      <td>2</td>\n",
       "    </tr>\n",
       "    <tr>\n",
       "      <th>2</th>\n",
       "      <td>flawless</td>\n",
       "      <td>NV-E36-TM</td>\n",
       "      <td>T</td>\n",
       "      <td>33.27</td>\n",
       "      <td>3619</td>\n",
       "      <td>19181</td>\n",
       "      <td>18130</td>\n",
       "      <td>2</td>\n",
       "      <td>1</td>\n",
       "      <td>1129</td>\n",
       "      <td>116</td>\n",
       "      <td>1121</td>\n",
       "      <td>55</td>\n",
       "      <td>282</td>\n",
       "      <td>1106</td>\n",
       "      <td>889</td>\n",
       "      <td>applied</td>\n",
       "      <td>8</td>\n",
       "      <td>3</td>\n",
       "    </tr>\n",
       "    <tr>\n",
       "      <th>3</th>\n",
       "      <td>flawless</td>\n",
       "      <td>NV-E36-TM</td>\n",
       "      <td>T</td>\n",
       "      <td>33.27</td>\n",
       "      <td>3619</td>\n",
       "      <td>19181</td>\n",
       "      <td>18130</td>\n",
       "      <td>2</td>\n",
       "      <td>2</td>\n",
       "      <td>1152</td>\n",
       "      <td>125</td>\n",
       "      <td>1127</td>\n",
       "      <td>68</td>\n",
       "      <td>316</td>\n",
       "      <td>1113</td>\n",
       "      <td>885</td>\n",
       "      <td>applied</td>\n",
       "      <td>8</td>\n",
       "      <td>3</td>\n",
       "    </tr>\n",
       "    <tr>\n",
       "      <th>4</th>\n",
       "      <td>flawless</td>\n",
       "      <td>BV-EH36-TM</td>\n",
       "      <td>T</td>\n",
       "      <td>38.33</td>\n",
       "      <td>3098</td>\n",
       "      <td>13334</td>\n",
       "      <td>12430</td>\n",
       "      <td>3</td>\n",
       "      <td>1</td>\n",
       "      <td>1140</td>\n",
       "      <td>134</td>\n",
       "      <td>1128</td>\n",
       "      <td>48</td>\n",
       "      <td>314</td>\n",
       "      <td>1118</td>\n",
       "      <td>873</td>\n",
       "      <td>applied</td>\n",
       "      <td>8</td>\n",
       "      <td>1</td>\n",
       "    </tr>\n",
       "  </tbody>\n",
       "</table>\n",
       "</div>"
      ],
      "text/plain": [
       "      SCALE        SPEC STEEL_KIND  PT_THK  PT_WDTH  PT_LTH  PT_WGT FUR_NO  \\\n",
       "0  flawless  AB/EH32-TM          T   32.25     3707   15109   14180      1   \n",
       "1  flawless  AB/EH32-TM          T   32.25     3707   15109   14180      1   \n",
       "2  flawless   NV-E36-TM          T   33.27     3619   19181   18130      2   \n",
       "3  flawless   NV-E36-TM          T   33.27     3619   19181   18130      2   \n",
       "4  flawless  BV-EH36-TM          T   38.33     3098   13334   12430      3   \n",
       "\n",
       "   FUR_NO_ROW  FUR_HZ_TEMP  FUR_HZ_TIME  FUR_SZ_TEMP  FUR_SZ_TIME  FUR_TIME  \\\n",
       "0           1         1144          116         1133           59       282   \n",
       "1           2         1144          122         1135           53       283   \n",
       "2           1         1129          116         1121           55       282   \n",
       "3           2         1152          125         1127           68       316   \n",
       "4           1         1140          134         1128           48       314   \n",
       "\n",
       "   FUR_EXTEMP  ROLLING_TEMP_T5      HSB  ROLLING_DESCALING WORK_GR  \n",
       "0        1125              934  applied                  8       2  \n",
       "1        1120              937  applied                  8       2  \n",
       "2        1106              889  applied                  8       3  \n",
       "3        1113              885  applied                  8       3  \n",
       "4        1118              873  applied                  8       1  "
      ]
     },
     "execution_count": 746,
     "metadata": {},
     "output_type": "execute_result"
    }
   ],
   "source": [
    "# 한글이 제대로 나오지 않아 영어로 처리\n",
    "\n",
    "df_raw.replace({'SCALE': '양품'}, {\"SCALE\": 'flawless'},inplace=True)\n",
    "df_raw.replace({'SCALE': '불량'}, {'SCALE': 'defected'},inplace=True)\n",
    "\n",
    "df_raw.replace({'HSB': '적용'}, {'HSB': \"applied\"},inplace=True)\n",
    "df_raw.replace({'HSB': '미적용'},{'HSB': \"not-applied\"},inplace=True)\n",
    "\n",
    "df_raw[\"FUR_NO\"] = df_scaled[\"FUR_NO\"].str[:1]  # 가장 앞글자만 따옴\n",
    "df_raw[\"WORK_GR\"] = df_scaled[\"WORK_GR\"].str[:1]  # 가장 앞글자만 따옴\n",
    "\n",
    "df_raw.head()"
   ]
  },
  {
   "cell_type": "code",
   "execution_count": 747,
   "metadata": {},
   "outputs": [
    {
     "data": {
      "text/plain": [
       "<matplotlib.legend.Legend at 0x7f0366249e20>"
      ]
     },
     "execution_count": 747,
     "metadata": {},
     "output_type": "execute_result"
    },
    {
     "data": {
      "image/png": "[encoded data removed]",
      "text/plain": [
       "<Figure size 936x360 with 6 Axes>"
      ]
     },
     "metadata": {
      "needs_background": "light"
     },
     "output_type": "display_data"
    }
   ],
   "source": [
    "fig, ax = plt.subplots(nrows = 2, ncols = 3, figsize = (13, 5),constrained_layout=True)\n",
    "\n",
    "ax[0][0].hist(df_raw[df_raw[\"SCALE\"] == \"flawless\"][\"FUR_HZ_TEMP\"], label = \"flawless\", alpha = 0.5)\n",
    "ax[0][0].hist(df_raw[df_raw[\"SCALE\"] == \"defected\"][\"FUR_HZ_TEMP\"], label = \"defected\", alpha = 0.5)\n",
    "ax[0][0].set_title(\"FUR_HZ_TEMP\", fontsize = 10)\n",
    "ax[0][0].legend()\n",
    "\n",
    "ax[0][1].hist(df_raw[df_raw[\"SCALE\"] == \"flawless\"][\"FUR_HZ_TIME\"], label = \"flawless\", alpha = 0.5)\n",
    "ax[0][1].hist(df_raw[df_raw[\"SCALE\"] == \"defected\"][\"FUR_HZ_TIME\"], label = \"defected\", alpha = 0.5)\n",
    "ax[0][1].set_title(\"FUR_HZ_TIME\", fontsize = 10)\n",
    "ax[0][1].legend()\n",
    "\n",
    "ax[0][2].hist(df_raw[df_raw[\"SCALE\"] == \"flawless\"][\"FUR_SZ_TEMP\"], label = \"flawless\", alpha = 0.5)\n",
    "ax[0][2].hist(df_raw[df_raw[\"SCALE\"] == \"defected\"][\"FUR_SZ_TEMP\"], label = \"defected\", alpha = 0.5)\n",
    "ax[0][2].set_title(\"FUR_SZ_TEMP\", fontsize = 10)\n",
    "ax[0][2].legend()\n",
    "\n",
    "ax[1][0].hist(df_raw[df_raw[\"SCALE\"] == \"flawless\"][\"FUR_SZ_TIME\"], label = \"flawless\", alpha = 0.5)\n",
    "ax[1][0].hist(df_raw[df_raw[\"SCALE\"] == \"defected\"][\"FUR_SZ_TIME\"], label = \"defected\", alpha = 0.5)\n",
    "ax[1][0].set_title(\"FUR_SZ_TIME\", fontsize = 10)\n",
    "ax[1][0].legend()\n",
    "\n",
    "ax[1][1].hist(df_raw[df_raw[\"SCALE\"] == \"flawless\"][\"FUR_TIME\"], label = \"flawless\", alpha = 0.5)\n",
    "ax[1][1].hist(df_raw[df_raw[\"SCALE\"] == \"defected\"][\"FUR_TIME\"], label = \"defected\", alpha = 0.5)\n",
    "ax[1][1].set_title(\"FUR_TIME\", fontsize = 10)\n",
    "ax[1][1].legend()\n",
    "\n",
    "ax[1][2].hist(df_raw[df_raw[\"SCALE\"] == \"flawless\"][\"FUR_EXTEMP\"], label = \"flawless\", alpha = 0.5)\n",
    "ax[1][2].hist(df_raw[df_raw[\"SCALE\"] == \"defected\"][\"FUR_EXTEMP\"], label = \"defected\", alpha = 0.5)\n",
    "ax[1][2].set_title(\"FUR_EXTEMP\", fontsize = 10)\n",
    "ax[1][2].legend()"
   ]
  },
  {
   "cell_type": "markdown",
   "metadata": {},
   "source": [
    "- **온도** 관련변수(FUR_HZ_TEMP, FUR_SZ_TEMP, FUR_EXTEMP)는 그 값이 **커질수록 불량 수가 증가**하는 경향이 있다.  \n",
    "- **시간** 관련변수(FUR_HZ_TIME, FUR_SZ_TIME, FUR_TIME)는 그 값이 **작을수록 불량 수가 증가**하는 경향이 있다.  "
   ]
  },
  {
   "cell_type": "markdown",
   "metadata": {},
   "source": [
    "## 압연온도와 scale 불량과의 관계"
   ]
  },
  {
   "cell_type": "code",
   "execution_count": 748,
   "metadata": {},
   "outputs": [
    {
     "data": {
      "text/plain": [
       "<matplotlib.legend.Legend at 0x7f03660d0430>"
      ]
     },
     "execution_count": 748,
     "metadata": {},
     "output_type": "execute_result"
    },
    {
     "data": {
      "image/png": "[encoded data removed]",
      "text/plain": [
       "<Figure size 432x288 with 1 Axes>"
      ]
     },
     "metadata": {
      "needs_background": "light"
     },
     "output_type": "display_data"
    }
   ],
   "source": [
    "plt.hist(df_raw[df_raw[\"SCALE\"] == \"flawless\"][\"ROLLING_TEMP_T5\"], label = \"flawless\", alpha = 0.5)\n",
    "plt.hist(df_raw[df_raw[\"SCALE\"] == \"defected\"][\"ROLLING_TEMP_T5\"], label = \"defected\", alpha = 0.5)\n",
    "plt.title(\"ROLLING_TEMP_T5\", fontsize = 10)\n",
    "plt.legend()"
   ]
  },
  {
   "cell_type": "markdown",
   "metadata": {},
   "source": [
    "압연온도가 **높아질수록 불량 수가 증가**하는 경향이 있다."
   ]
  },
  {
   "cell_type": "markdown",
   "metadata": {},
   "source": [
    "## plate의 두께, 너비, 길이, 무게와 scale 불량과의 관계"
   ]
  },
  {
   "cell_type": "code",
   "execution_count": 749,
   "metadata": {},
   "outputs": [
    {
     "data": {
      "text/plain": [
       "<matplotlib.legend.Legend at 0x7f0365eeb580>"
      ]
     },
     "execution_count": 749,
     "metadata": {},
     "output_type": "execute_result"
    },
    {
     "data": {
      "image/png": "[encoded data removed]",
      "text/plain": [
       "<Figure size 936x360 with 4 Axes>"
      ]
     },
     "metadata": {
      "needs_background": "light"
     },
     "output_type": "display_data"
    }
   ],
   "source": [
    "fig, ax = plt.subplots(nrows = 2, ncols = 2, figsize = (13, 5),constrained_layout=True)\n",
    "\n",
    "ax[0][0].hist(df_raw[df_raw[\"SCALE\"] == \"flawless\"][\"PT_THK\"], label = \"flawless\", alpha = 0.5)\n",
    "ax[0][0].hist(df_raw[df_raw[\"SCALE\"] == \"defected\"][\"PT_THK\"], label = \"defected\", alpha = 0.5)\n",
    "ax[0][0].set_title(\"PT_THK\", fontsize = 10)\n",
    "ax[0][0].legend()\n",
    "\n",
    "ax[0][1].hist(df_raw[df_raw[\"SCALE\"] == \"flawless\"][\"PT_WDTH\"], label = \"flawless\", alpha = 0.5)\n",
    "ax[0][1].hist(df_raw[df_raw[\"SCALE\"] == \"defected\"][\"PT_WDTH\"], label = \"defected\", alpha = 0.5)\n",
    "ax[0][1].set_title(\"PT_WDTH\", fontsize = 10)\n",
    "ax[0][1].legend()\n",
    "\n",
    "ax[1][0].hist(df_raw[df_raw[\"SCALE\"] == \"flawless\"][\"PT_LTH\"], label = \"flawless\", alpha = 0.5)\n",
    "ax[1][0].hist(df_raw[df_raw[\"SCALE\"] == \"defected\"][\"PT_LTH\"], label = \"defected\", alpha = 0.5)\n",
    "ax[1][0].set_title(\"PT_LTH\", fontsize = 10)\n",
    "ax[1][0].legend()\n",
    "\n",
    "ax[1][1].hist(df_raw[df_raw[\"SCALE\"] == \"flawless\"][\"PT_WGT\"], label = \"flawless\", alpha = 0.5)\n",
    "ax[1][1].hist(df_raw[df_raw[\"SCALE\"] == \"defected\"][\"PT_WGT\"], label = \"defected\", alpha = 0.5)\n",
    "ax[1][1].set_title(\"PT_WGT\", fontsize = 10)\n",
    "ax[1][1].legend()"
   ]
  },
  {
   "cell_type": "markdown",
   "metadata": {},
   "source": [
    "- plate의 **두께가 얇을수록** 불량 수가 증가하는 경향이 있다.\n",
    "- plate의 **너비가 좁을수록** 불량 수가 증가하는 경향이 있다.\n",
    "- plate의 **길이가 길수록** 불량 수가 증가하는 경향이 있다.\n",
    "- plate의 무게와 scale 불량 간에 관계는 없다."
   ]
  },
  {
   "cell_type": "markdown",
   "metadata": {},
   "source": [
    "## 추가적인 변수 삭제"
   ]
  },
  {
   "cell_type": "code",
   "execution_count": 750,
   "metadata": {},
   "outputs": [
    {
     "data": {
      "text/html": [
       "<div>\n",
       "<style scoped>\n",
       "    .dataframe tbody tr th:only-of-type {\n",
       "        vertical-align: middle;\n",
       "    }\n",
       "\n",
       "    .dataframe tbody tr th {\n",
       "        vertical-align: top;\n",
       "    }\n",
       "\n",
       "    .dataframe thead th {\n",
       "        text-align: right;\n",
       "    }\n",
       "</style>\n",
       "<table border=\"1\" class=\"dataframe\">\n",
       "  <thead>\n",
       "    <tr style=\"text-align: right;\">\n",
       "      <th></th>\n",
       "      <th>PT_THK</th>\n",
       "      <th>PT_WDTH</th>\n",
       "      <th>PT_LTH</th>\n",
       "      <th>PT_WGT</th>\n",
       "      <th>FUR_HZ_TEMP</th>\n",
       "      <th>FUR_HZ_TIME</th>\n",
       "      <th>FUR_SZ_TEMP</th>\n",
       "      <th>FUR_SZ_TIME</th>\n",
       "      <th>FUR_TIME</th>\n",
       "      <th>FUR_EXTEMP</th>\n",
       "      <th>ROLLING_TEMP_T5</th>\n",
       "      <th>SCALE</th>\n",
       "      <th>STEEL_KIND</th>\n",
       "      <th>HSB</th>\n",
       "    </tr>\n",
       "  </thead>\n",
       "  <tbody>\n",
       "    <tr>\n",
       "      <th>0</th>\n",
       "      <td>0.165524</td>\n",
       "      <td>1.738825</td>\n",
       "      <td>-1.399249</td>\n",
       "      <td>-1.102663</td>\n",
       "      <td>-0.550140</td>\n",
       "      <td>0.764075</td>\n",
       "      <td>-0.958762</td>\n",
       "      <td>-0.626900</td>\n",
       "      <td>-0.401705</td>\n",
       "      <td>-0.824152</td>\n",
       "      <td>-0.118132</td>\n",
       "      <td>flawless</td>\n",
       "      <td>T</td>\n",
       "      <td>applied</td>\n",
       "    </tr>\n",
       "    <tr>\n",
       "      <th>1</th>\n",
       "      <td>0.165524</td>\n",
       "      <td>1.738825</td>\n",
       "      <td>-1.399249</td>\n",
       "      <td>-1.102663</td>\n",
       "      <td>-0.550140</td>\n",
       "      <td>0.929201</td>\n",
       "      <td>-0.844450</td>\n",
       "      <td>-0.856285</td>\n",
       "      <td>-0.379613</td>\n",
       "      <td>-1.105167</td>\n",
       "      <td>-0.072514</td>\n",
       "      <td>flawless</td>\n",
       "      <td>T</td>\n",
       "      <td>applied</td>\n",
       "    </tr>\n",
       "    <tr>\n",
       "      <th>2</th>\n",
       "      <td>0.219261</td>\n",
       "      <td>1.568260</td>\n",
       "      <td>-1.103953</td>\n",
       "      <td>-0.943272</td>\n",
       "      <td>-1.270256</td>\n",
       "      <td>0.764075</td>\n",
       "      <td>-1.644633</td>\n",
       "      <td>-0.779823</td>\n",
       "      <td>-0.401705</td>\n",
       "      <td>-1.892008</td>\n",
       "      <td>-0.802387</td>\n",
       "      <td>flawless</td>\n",
       "      <td>T</td>\n",
       "      <td>applied</td>\n",
       "    </tr>\n",
       "    <tr>\n",
       "      <th>3</th>\n",
       "      <td>0.219261</td>\n",
       "      <td>1.568260</td>\n",
       "      <td>-1.103953</td>\n",
       "      <td>-0.943272</td>\n",
       "      <td>-0.166077</td>\n",
       "      <td>1.011765</td>\n",
       "      <td>-1.301698</td>\n",
       "      <td>-0.282822</td>\n",
       "      <td>0.349415</td>\n",
       "      <td>-1.498588</td>\n",
       "      <td>-0.863210</td>\n",
       "      <td>flawless</td>\n",
       "      <td>T</td>\n",
       "      <td>applied</td>\n",
       "    </tr>\n",
       "    <tr>\n",
       "      <th>4</th>\n",
       "      <td>0.485835</td>\n",
       "      <td>0.558436</td>\n",
       "      <td>-1.527970</td>\n",
       "      <td>-1.173279</td>\n",
       "      <td>-0.742171</td>\n",
       "      <td>1.259454</td>\n",
       "      <td>-1.244542</td>\n",
       "      <td>-1.047439</td>\n",
       "      <td>0.305232</td>\n",
       "      <td>-1.217573</td>\n",
       "      <td>-1.045678</td>\n",
       "      <td>flawless</td>\n",
       "      <td>T</td>\n",
       "      <td>applied</td>\n",
       "    </tr>\n",
       "  </tbody>\n",
       "</table>\n",
       "</div>"
      ],
      "text/plain": [
       "     PT_THK   PT_WDTH    PT_LTH    PT_WGT  FUR_HZ_TEMP  FUR_HZ_TIME  \\\n",
       "0  0.165524  1.738825 -1.399249 -1.102663    -0.550140     0.764075   \n",
       "1  0.165524  1.738825 -1.399249 -1.102663    -0.550140     0.929201   \n",
       "2  0.219261  1.568260 -1.103953 -0.943272    -1.270256     0.764075   \n",
       "3  0.219261  1.568260 -1.103953 -0.943272    -0.166077     1.011765   \n",
       "4  0.485835  0.558436 -1.527970 -1.173279    -0.742171     1.259454   \n",
       "\n",
       "   FUR_SZ_TEMP  FUR_SZ_TIME  FUR_TIME  FUR_EXTEMP  ROLLING_TEMP_T5     SCALE  \\\n",
       "0    -0.958762    -0.626900 -0.401705   -0.824152        -0.118132  flawless   \n",
       "1    -0.844450    -0.856285 -0.379613   -1.105167        -0.072514  flawless   \n",
       "2    -1.644633    -0.779823 -0.401705   -1.892008        -0.802387  flawless   \n",
       "3    -1.301698    -0.282822  0.349415   -1.498588        -0.863210  flawless   \n",
       "4    -1.244542    -1.047439  0.305232   -1.217573        -1.045678  flawless   \n",
       "\n",
       "  STEEL_KIND      HSB  \n",
       "0          T  applied  \n",
       "1          T  applied  \n",
       "2          T  applied  \n",
       "3          T  applied  \n",
       "4          T  applied  "
      ]
     },
     "execution_count": 750,
     "metadata": {},
     "output_type": "execute_result"
    }
   ],
   "source": [
    "# 앞에서 봤듯이 ROLLING_DESCALING은 SCALE에 큰 영향을 미치지 않는 것으로 판단되어 삭제하기로 했다. \n",
    "# 또한 WORK_GR, FUR_NO, FUR_NO_ROW, SPEC도 중요변수라한들 개선 방안 혹은 해결책을 제시하기는 어렵다고 판단하여 삭제하기로 했다.\n",
    "df_scaled.drop([\"ROLLING_DESCALING\",\"WORK_GR\",\"FUR_NO\",\"FUR_NO_ROW\",\"SPEC\"],axis=1,inplace=True)\n",
    "df_scaled.head()"
   ]
  },
  {
   "cell_type": "markdown",
   "metadata": {},
   "source": [
    "# 모델 선정"
   ]
  },
  {
   "cell_type": "markdown",
   "metadata": {},
   "source": [
    "## 로지스틱 회귀분석"
   ]
  },
  {
   "cell_type": "code",
   "execution_count": 751,
   "metadata": {},
   "outputs": [
    {
     "name": "stdout",
     "output_type": "stream",
     "text": [
      "(231, 14)\n",
      "(483, 14)\n"
     ]
    }
   ],
   "source": [
    "print(df_scaled[df_scaled[\"SCALE\"]==\"defected\"].shape)\n",
    "print(df_scaled[df_scaled[\"SCALE\"]==\"flawless\"].shape)"
   ]
  },
  {
   "cell_type": "code",
   "execution_count": 752,
   "metadata": {},
   "outputs": [
    {
     "name": "stdout",
     "output_type": "stream",
     "text": [
      "(231, 14)\n",
      "(483, 14)\n"
     ]
    }
   ],
   "source": [
    "# 목표변수를 숫자로 미리 바꾸지 않으면 회귀분석 시 오류 발생\n",
    "df_scaled[\"SCALE\"] = np.where(df_scaled[\"SCALE\"] == \"defected\", 1, 0)\n",
    "print(df_scaled[df_scaled[\"SCALE\"]==1].shape)\n",
    "print(df_scaled[df_scaled[\"SCALE\"]==0].shape)"
   ]
  },
  {
   "cell_type": "code",
   "execution_count": 753,
   "metadata": {},
   "outputs": [
    {
     "name": "stdout",
     "output_type": "stream",
     "text": [
      "train data shape:  (428, 14)\n",
      "test data shape:  (286, 14)\n"
     ]
    }
   ],
   "source": [
    "df_train, df_test = train_test_split(df_scaled, test_size = 0.4, random_state = 1234)\n",
    "\n",
    "print(\"train data shape: \", df_train.shape)\n",
    "print(\"test data shape: \", df_test.shape)"
   ]
  },
  {
   "cell_type": "markdown",
   "metadata": {},
   "source": [
    "### 로지스틱 회귀모델 생성"
   ]
  },
  {
   "cell_type": "code",
   "execution_count": 754,
   "metadata": {
    "scrolled": false
   },
   "outputs": [
    {
     "name": "stdout",
     "output_type": "stream",
     "text": [
      "Warning: Maximum number of iterations has been exceeded.\n",
      "         Current function value: 0.252672\n",
      "         Iterations: 35\n",
      "                           Logit Regression Results                           \n",
      "==============================================================================\n",
      "Dep. Variable:                  SCALE   No. Observations:                  428\n",
      "Model:                          Logit   Df Residuals:                      414\n",
      "Method:                           MLE   Df Model:                           13\n",
      "Date:                Wed, 01 Sep 2021   Pseudo R-squ.:                  0.5958\n",
      "Time:                        01:29:31   Log-Likelihood:                -108.14\n",
      "converged:                      False   LL-Null:                       -267.57\n",
      "Covariance Type:            nonrobust   LLR p-value:                 2.700e-60\n",
      "=========================================================================================\n",
      "                            coef    std err          z      P>|z|      [0.025      0.975]\n",
      "-----------------------------------------------------------------------------------------\n",
      "Intercept                -3.3341      0.612     -5.447      0.000      -4.534      -2.134\n",
      "C(STEEL_KIND)[T.T]        2.9744      1.448      2.055      0.040       0.137       5.812\n",
      "C(HSB)[T.not-applied]    40.1462   1.25e+07   3.22e-06      1.000   -2.44e+07    2.44e+07\n",
      "PT_THK                    0.2028      0.644      0.315      0.753      -1.060       1.466\n",
      "PT_WDTH                  -0.6299      0.293     -2.152      0.031      -1.204      -0.056\n",
      "PT_LTH                   -0.3773      0.448     -0.843      0.399      -1.255       0.500\n",
      "PT_WGT                   -0.0178      0.186     -0.096      0.924      -0.383       0.348\n",
      "FUR_HZ_TEMP               0.2712      0.424      0.639      0.523      -0.560       1.103\n",
      "FUR_HZ_TIME               0.2215      0.205      1.080      0.280      -0.180       0.623\n",
      "FUR_SZ_TEMP               2.3326      1.177      1.982      0.048       0.026       4.640\n",
      "FUR_SZ_TIME              -0.4792      0.327     -1.465      0.143      -1.120       0.162\n",
      "FUR_TIME                 -0.1935      0.249     -0.777      0.437      -0.681       0.294\n",
      "FUR_EXTEMP               -1.1594      1.003     -1.156      0.248      -3.125       0.807\n",
      "ROLLING_TEMP_T5           3.3564      0.563      5.965      0.000       2.254       4.459\n",
      "=========================================================================================\n"
     ]
    },
    {
     "name": "stderr",
     "output_type": "stream",
     "text": [
      "/home/piai/anaconda3/lib/python3.8/site-packages/statsmodels/base/model.py:566: ConvergenceWarning: Maximum Likelihood optimization failed to converge. Check mle_retvals\n",
      "  warnings.warn(\"Maximum Likelihood optimization failed to \"\n"
     ]
    }
   ],
   "source": [
    "log_model = Logit.from_formula(\"SCALE ~ PT_THK + PT_WDTH + PT_LTH + PT_WGT + FUR_HZ_TEMP + FUR_HZ_TIME + \\\n",
    "                                            FUR_SZ_TEMP + FUR_SZ_TIME + FUR_TIME + FUR_EXTEMP + ROLLING_TEMP_T5 + \\\n",
    "                                            C(STEEL_KIND) + C(HSB)\", df_train)\n",
    "\n",
    "log_result = log_model.fit()\n",
    "\n",
    "print(log_result.summary())"
   ]
  },
  {
   "cell_type": "markdown",
   "metadata": {},
   "source": [
    "1. Pseudo R-squ.: 0.5958  \n",
    "이 기본 설정으로 만들어진 로지스틱 회귀 모델은 **약 59% 정도 설명 가능**하다.\n",
    "\n",
    "2. **STEEL_KIND, PT_WDTH, FUR_SZ_TEMP, ROLLING_TEMP_T5**의 P>|t|는 유의수준(0.05)보다 작다.  \n",
    "이 변수들이 유의한 변수이다."
   ]
  },
  {
   "cell_type": "markdown",
   "metadata": {},
   "source": [
    "### 모델 예측 및 성능 평가"
   ]
  },
  {
   "cell_type": "code",
   "execution_count": 755,
   "metadata": {},
   "outputs": [
    {
     "data": {
      "text/plain": [
       "522    0\n",
       "473    0\n",
       "645    0\n",
       "267    0\n",
       "444    0\n",
       "dtype: int64"
      ]
     },
     "execution_count": 755,
     "metadata": {},
     "output_type": "execute_result"
    }
   ],
   "source": [
    "# test 데이터 예측\n",
    "y_pred = log_result.predict(df_test)\n",
    "\n",
    "# 0과 1의 값을 가진 class로 변환\n",
    "y_pred_class = (y_pred > 0.5).astype(int)\n",
    "y_pred_class.head()"
   ]
  },
  {
   "cell_type": "code",
   "execution_count": 756,
   "metadata": {},
   "outputs": [
    {
     "name": "stdout",
     "output_type": "stream",
     "text": [
      "총 test-set 개수: 286\n",
      "양품으로 예측한 개수: 187\n",
      "불량으로 예측한 개수 99\n"
     ]
    }
   ],
   "source": [
    "print(\"총 test-set 개수:\",y_pred_class.count())\n",
    "a_0 = y_pred_class == 0\n",
    "print(\"양품으로 예측한 개수:\",a_0.sum())\n",
    "a_1 = y_pred_class == 1\n",
    "print(\"불량으로 예측한 개수\",a_1.sum())"
   ]
  },
  {
   "cell_type": "code",
   "execution_count": 757,
   "metadata": {},
   "outputs": [
    {
     "name": "stdout",
     "output_type": "stream",
     "text": [
      "Accuracy: 0.867\n",
      "\n",
      "Confusion Matrix: \n",
      "[[170  21]\n",
      " [ 17  78]]\n"
     ]
    }
   ],
   "source": [
    "# 실제 test 데이터의 목표변수와 test 데이터의 예측값 비교\n",
    "print(\"Accuracy: {0:.3f}\\n\".format(accuracy_score(df_test[\"SCALE\"], y_pred_class)))\n",
    "print(\"Confusion Matrix: \\n{}\".format(confusion_matrix(df_test[\"SCALE\"], y_pred_class)))"
   ]
  },
  {
   "cell_type": "markdown",
   "metadata": {},
   "source": [
    "1. 이 모델의 예측 정확도는 0.867이다. **즉, 86.7% 정도는 정답을 맞춘다.**\n",
    "2. precision은 78/(21+78) = 78/99 ≓ 0.79이다. **즉, 불량이라고 예측한 것 중에 맞춘 비율은 약 78%이다.**\n",
    "3. recall은 78/(17+78) = 78/95 ≓ 0.82이다. **즉, 실제로 불량인 것 중에 예측을 맞춘 비율은 약 82%이다.**\n",
    "4. precision이 더 중요한지 아니면 recall이 더 중요한지는 해당 기업에 어느 부분에 더 가치를 두는지에 따라 달라진다.\n",
    "- '1 - precision' : 불량이라고 예측했다. 그래서 보수를 했다. 근데 알고보니 불량이 아니다. 이에 대한 비용이 발생했다.\n",
    "- '1 - recall' : 실제 불량인데 정상이라고 판단해서 보낸 물품. 소비자가 불만을 가지고 추후에 해당 제품을 사용하지 않을 수도 있다."
   ]
  },
  {
   "cell_type": "markdown",
   "metadata": {},
   "source": [
    "### 모델이 말하는 중요한 변수"
   ]
  },
  {
   "cell_type": "code",
   "execution_count": 758,
   "metadata": {},
   "outputs": [
    {
     "data": {
      "text/plain": [
       "<AxesSubplot:>"
      ]
     },
     "execution_count": 758,
     "metadata": {},
     "output_type": "execute_result"
    },
    {
     "data": {
      "image/png": "[encoded data removed]",
      "text/plain": [
       "<Figure size 432x288 with 1 Axes>"
      ]
     },
     "metadata": {
      "needs_background": "light"
     },
     "output_type": "display_data"
    }
   ],
   "source": [
    "# 설명변수 중요도\n",
    "df_logistic_coef = pd.DataFrame({\"Coef\": log_result.params.values[1:]}, index = log_model.exog_names[1:])\n",
    "\n",
    "df_logistic_coef.plot.barh(y = \"Coef\")"
   ]
  },
  {
   "cell_type": "markdown",
   "metadata": {},
   "source": [
    "HSB, ROLLING_TEMP_T5, STEEL_KIND, FUR_SZ_TEMP 순으로 scale 불량에 영향을 많이 미치는 것으로 나타났다.\n",
    "- **HSB 과정을 \"진행하지 않았을 때\" scale 불량일 가능성이 높다.**\n",
    "- **강종이 Carbon Steel 이 아닌 \"Tool Steel일 때\" scale 불량일 가능성이 높다.**\n",
    "- **압연온도가 \"높을수록\" scale 불량일 가능성이 높다.**\n",
    "- **가열로 균열대 온도가 \"높을수록\" scale 불량일 가능성이 높다.**"
   ]
  },
  {
   "cell_type": "markdown",
   "metadata": {},
   "source": [
    "## Random Forest (Classifier)"
   ]
  },
  {
   "cell_type": "markdown",
   "metadata": {},
   "source": [
    "### 목표변수, 설명변수 분리"
   ]
  },
  {
   "cell_type": "code",
   "execution_count": 763,
   "metadata": {},
   "outputs": [
    {
     "data": {
      "text/html": [
       "<div>\n",
       "<style scoped>\n",
       "    .dataframe tbody tr th:only-of-type {\n",
       "        vertical-align: middle;\n",
       "    }\n",
       "\n",
       "    .dataframe tbody tr th {\n",
       "        vertical-align: top;\n",
       "    }\n",
       "\n",
       "    .dataframe thead th {\n",
       "        text-align: right;\n",
       "    }\n",
       "</style>\n",
       "<table border=\"1\" class=\"dataframe\">\n",
       "  <thead>\n",
       "    <tr style=\"text-align: right;\">\n",
       "      <th></th>\n",
       "      <th>PT_THK</th>\n",
       "      <th>PT_WDTH</th>\n",
       "      <th>PT_LTH</th>\n",
       "      <th>PT_WGT</th>\n",
       "      <th>FUR_HZ_TEMP</th>\n",
       "      <th>FUR_HZ_TIME</th>\n",
       "      <th>FUR_SZ_TEMP</th>\n",
       "      <th>FUR_SZ_TIME</th>\n",
       "      <th>FUR_TIME</th>\n",
       "      <th>FUR_EXTEMP</th>\n",
       "      <th>ROLLING_TEMP_T5</th>\n",
       "      <th>STEEL_KIND</th>\n",
       "      <th>HSB</th>\n",
       "    </tr>\n",
       "  </thead>\n",
       "  <tbody>\n",
       "    <tr>\n",
       "      <th>0</th>\n",
       "      <td>0.165524</td>\n",
       "      <td>1.738825</td>\n",
       "      <td>-1.399249</td>\n",
       "      <td>-1.102663</td>\n",
       "      <td>-0.550140</td>\n",
       "      <td>0.764075</td>\n",
       "      <td>-0.958762</td>\n",
       "      <td>-0.626900</td>\n",
       "      <td>-0.401705</td>\n",
       "      <td>-0.824152</td>\n",
       "      <td>-0.118132</td>\n",
       "      <td>T</td>\n",
       "      <td>applied</td>\n",
       "    </tr>\n",
       "    <tr>\n",
       "      <th>1</th>\n",
       "      <td>0.165524</td>\n",
       "      <td>1.738825</td>\n",
       "      <td>-1.399249</td>\n",
       "      <td>-1.102663</td>\n",
       "      <td>-0.550140</td>\n",
       "      <td>0.929201</td>\n",
       "      <td>-0.844450</td>\n",
       "      <td>-0.856285</td>\n",
       "      <td>-0.379613</td>\n",
       "      <td>-1.105167</td>\n",
       "      <td>-0.072514</td>\n",
       "      <td>T</td>\n",
       "      <td>applied</td>\n",
       "    </tr>\n",
       "    <tr>\n",
       "      <th>2</th>\n",
       "      <td>0.219261</td>\n",
       "      <td>1.568260</td>\n",
       "      <td>-1.103953</td>\n",
       "      <td>-0.943272</td>\n",
       "      <td>-1.270256</td>\n",
       "      <td>0.764075</td>\n",
       "      <td>-1.644633</td>\n",
       "      <td>-0.779823</td>\n",
       "      <td>-0.401705</td>\n",
       "      <td>-1.892008</td>\n",
       "      <td>-0.802387</td>\n",
       "      <td>T</td>\n",
       "      <td>applied</td>\n",
       "    </tr>\n",
       "    <tr>\n",
       "      <th>3</th>\n",
       "      <td>0.219261</td>\n",
       "      <td>1.568260</td>\n",
       "      <td>-1.103953</td>\n",
       "      <td>-0.943272</td>\n",
       "      <td>-0.166077</td>\n",
       "      <td>1.011765</td>\n",
       "      <td>-1.301698</td>\n",
       "      <td>-0.282822</td>\n",
       "      <td>0.349415</td>\n",
       "      <td>-1.498588</td>\n",
       "      <td>-0.863210</td>\n",
       "      <td>T</td>\n",
       "      <td>applied</td>\n",
       "    </tr>\n",
       "    <tr>\n",
       "      <th>4</th>\n",
       "      <td>0.485835</td>\n",
       "      <td>0.558436</td>\n",
       "      <td>-1.527970</td>\n",
       "      <td>-1.173279</td>\n",
       "      <td>-0.742171</td>\n",
       "      <td>1.259454</td>\n",
       "      <td>-1.244542</td>\n",
       "      <td>-1.047439</td>\n",
       "      <td>0.305232</td>\n",
       "      <td>-1.217573</td>\n",
       "      <td>-1.045678</td>\n",
       "      <td>T</td>\n",
       "      <td>applied</td>\n",
       "    </tr>\n",
       "  </tbody>\n",
       "</table>\n",
       "</div>"
      ],
      "text/plain": [
       "     PT_THK   PT_WDTH    PT_LTH    PT_WGT  FUR_HZ_TEMP  FUR_HZ_TIME  \\\n",
       "0  0.165524  1.738825 -1.399249 -1.102663    -0.550140     0.764075   \n",
       "1  0.165524  1.738825 -1.399249 -1.102663    -0.550140     0.929201   \n",
       "2  0.219261  1.568260 -1.103953 -0.943272    -1.270256     0.764075   \n",
       "3  0.219261  1.568260 -1.103953 -0.943272    -0.166077     1.011765   \n",
       "4  0.485835  0.558436 -1.527970 -1.173279    -0.742171     1.259454   \n",
       "\n",
       "   FUR_SZ_TEMP  FUR_SZ_TIME  FUR_TIME  FUR_EXTEMP  ROLLING_TEMP_T5 STEEL_KIND  \\\n",
       "0    -0.958762    -0.626900 -0.401705   -0.824152        -0.118132          T   \n",
       "1    -0.844450    -0.856285 -0.379613   -1.105167        -0.072514          T   \n",
       "2    -1.644633    -0.779823 -0.401705   -1.892008        -0.802387          T   \n",
       "3    -1.301698    -0.282822  0.349415   -1.498588        -0.863210          T   \n",
       "4    -1.244542    -1.047439  0.305232   -1.217573        -1.045678          T   \n",
       "\n",
       "       HSB  \n",
       "0  applied  \n",
       "1  applied  \n",
       "2  applied  \n",
       "3  applied  \n",
       "4  applied  "
      ]
     },
     "execution_count": 763,
     "metadata": {},
     "output_type": "execute_result"
    }
   ],
   "source": [
    "df_scaled_x = df_scaled.drop(\"SCALE\",axis=1)\n",
    "df_scaled_y = df_scaled[\"SCALE\"]\n",
    "df_scaled_x.head()"
   ]
  },
  {
   "cell_type": "code",
   "execution_count": 764,
   "metadata": {},
   "outputs": [
    {
     "data": {
      "text/plain": [
       "0    0\n",
       "1    0\n",
       "2    0\n",
       "3    0\n",
       "4    0\n",
       "Name: SCALE, dtype: int64"
      ]
     },
     "execution_count": 764,
     "metadata": {},
     "output_type": "execute_result"
    }
   ],
   "source": [
    "df_scaled_y.head()"
   ]
  },
  {
   "cell_type": "markdown",
   "metadata": {},
   "source": [
    "### 더미변수 생성"
   ]
  },
  {
   "cell_type": "code",
   "execution_count": 766,
   "metadata": {},
   "outputs": [
    {
     "data": {
      "text/html": [
       "<div>\n",
       "<style scoped>\n",
       "    .dataframe tbody tr th:only-of-type {\n",
       "        vertical-align: middle;\n",
       "    }\n",
       "\n",
       "    .dataframe tbody tr th {\n",
       "        vertical-align: top;\n",
       "    }\n",
       "\n",
       "    .dataframe thead th {\n",
       "        text-align: right;\n",
       "    }\n",
       "</style>\n",
       "<table border=\"1\" class=\"dataframe\">\n",
       "  <thead>\n",
       "    <tr style=\"text-align: right;\">\n",
       "      <th></th>\n",
       "      <th>PT_THK</th>\n",
       "      <th>PT_WDTH</th>\n",
       "      <th>PT_LTH</th>\n",
       "      <th>PT_WGT</th>\n",
       "      <th>FUR_HZ_TEMP</th>\n",
       "      <th>FUR_HZ_TIME</th>\n",
       "      <th>FUR_SZ_TEMP</th>\n",
       "      <th>FUR_SZ_TIME</th>\n",
       "      <th>FUR_TIME</th>\n",
       "      <th>FUR_EXTEMP</th>\n",
       "      <th>ROLLING_TEMP_T5</th>\n",
       "      <th>STEEL_KIND_C</th>\n",
       "      <th>STEEL_KIND_T</th>\n",
       "      <th>HSB_applied</th>\n",
       "      <th>HSB_not-applied</th>\n",
       "    </tr>\n",
       "  </thead>\n",
       "  <tbody>\n",
       "    <tr>\n",
       "      <th>0</th>\n",
       "      <td>0.165524</td>\n",
       "      <td>1.738825</td>\n",
       "      <td>-1.399249</td>\n",
       "      <td>-1.102663</td>\n",
       "      <td>-0.550140</td>\n",
       "      <td>0.764075</td>\n",
       "      <td>-0.958762</td>\n",
       "      <td>-0.626900</td>\n",
       "      <td>-0.401705</td>\n",
       "      <td>-0.824152</td>\n",
       "      <td>-0.118132</td>\n",
       "      <td>0</td>\n",
       "      <td>1</td>\n",
       "      <td>1</td>\n",
       "      <td>0</td>\n",
       "    </tr>\n",
       "    <tr>\n",
       "      <th>1</th>\n",
       "      <td>0.165524</td>\n",
       "      <td>1.738825</td>\n",
       "      <td>-1.399249</td>\n",
       "      <td>-1.102663</td>\n",
       "      <td>-0.550140</td>\n",
       "      <td>0.929201</td>\n",
       "      <td>-0.844450</td>\n",
       "      <td>-0.856285</td>\n",
       "      <td>-0.379613</td>\n",
       "      <td>-1.105167</td>\n",
       "      <td>-0.072514</td>\n",
       "      <td>0</td>\n",
       "      <td>1</td>\n",
       "      <td>1</td>\n",
       "      <td>0</td>\n",
       "    </tr>\n",
       "    <tr>\n",
       "      <th>2</th>\n",
       "      <td>0.219261</td>\n",
       "      <td>1.568260</td>\n",
       "      <td>-1.103953</td>\n",
       "      <td>-0.943272</td>\n",
       "      <td>-1.270256</td>\n",
       "      <td>0.764075</td>\n",
       "      <td>-1.644633</td>\n",
       "      <td>-0.779823</td>\n",
       "      <td>-0.401705</td>\n",
       "      <td>-1.892008</td>\n",
       "      <td>-0.802387</td>\n",
       "      <td>0</td>\n",
       "      <td>1</td>\n",
       "      <td>1</td>\n",
       "      <td>0</td>\n",
       "    </tr>\n",
       "    <tr>\n",
       "      <th>3</th>\n",
       "      <td>0.219261</td>\n",
       "      <td>1.568260</td>\n",
       "      <td>-1.103953</td>\n",
       "      <td>-0.943272</td>\n",
       "      <td>-0.166077</td>\n",
       "      <td>1.011765</td>\n",
       "      <td>-1.301698</td>\n",
       "      <td>-0.282822</td>\n",
       "      <td>0.349415</td>\n",
       "      <td>-1.498588</td>\n",
       "      <td>-0.863210</td>\n",
       "      <td>0</td>\n",
       "      <td>1</td>\n",
       "      <td>1</td>\n",
       "      <td>0</td>\n",
       "    </tr>\n",
       "    <tr>\n",
       "      <th>4</th>\n",
       "      <td>0.485835</td>\n",
       "      <td>0.558436</td>\n",
       "      <td>-1.527970</td>\n",
       "      <td>-1.173279</td>\n",
       "      <td>-0.742171</td>\n",
       "      <td>1.259454</td>\n",
       "      <td>-1.244542</td>\n",
       "      <td>-1.047439</td>\n",
       "      <td>0.305232</td>\n",
       "      <td>-1.217573</td>\n",
       "      <td>-1.045678</td>\n",
       "      <td>0</td>\n",
       "      <td>1</td>\n",
       "      <td>1</td>\n",
       "      <td>0</td>\n",
       "    </tr>\n",
       "  </tbody>\n",
       "</table>\n",
       "</div>"
      ],
      "text/plain": [
       "     PT_THK   PT_WDTH    PT_LTH    PT_WGT  FUR_HZ_TEMP  FUR_HZ_TIME  \\\n",
       "0  0.165524  1.738825 -1.399249 -1.102663    -0.550140     0.764075   \n",
       "1  0.165524  1.738825 -1.399249 -1.102663    -0.550140     0.929201   \n",
       "2  0.219261  1.568260 -1.103953 -0.943272    -1.270256     0.764075   \n",
       "3  0.219261  1.568260 -1.103953 -0.943272    -0.166077     1.011765   \n",
       "4  0.485835  0.558436 -1.527970 -1.173279    -0.742171     1.259454   \n",
       "\n",
       "   FUR_SZ_TEMP  FUR_SZ_TIME  FUR_TIME  FUR_EXTEMP  ROLLING_TEMP_T5  \\\n",
       "0    -0.958762    -0.626900 -0.401705   -0.824152        -0.118132   \n",
       "1    -0.844450    -0.856285 -0.379613   -1.105167        -0.072514   \n",
       "2    -1.644633    -0.779823 -0.401705   -1.892008        -0.802387   \n",
       "3    -1.301698    -0.282822  0.349415   -1.498588        -0.863210   \n",
       "4    -1.244542    -1.047439  0.305232   -1.217573        -1.045678   \n",
       "\n",
       "   STEEL_KIND_C  STEEL_KIND_T  HSB_applied  HSB_not-applied  \n",
       "0             0             1            1                0  \n",
       "1             0             1            1                0  \n",
       "2             0             1            1                0  \n",
       "3             0             1            1                0  \n",
       "4             0             1            1                0  "
      ]
     },
     "execution_count": 766,
     "metadata": {},
     "output_type": "execute_result"
    }
   ],
   "source": [
    "# get_dummies: 데이터의 문자형 변수에 대한 더미변수 생성 \n",
    "df_scaled_x_dummy = pd.get_dummies(df_scaled_x)\n",
    "\n",
    "# 더미변수 생성된 데이터의 상위 5개 row를 확인\n",
    "df_scaled_x_dummy.head()"
   ]
  },
  {
   "cell_type": "markdown",
   "metadata": {},
   "source": [
    "### train, test 데이터 분할"
   ]
  },
  {
   "cell_type": "code",
   "execution_count": 767,
   "metadata": {},
   "outputs": [
    {
     "name": "stdout",
     "output_type": "stream",
     "text": [
      "train data X size : (428, 15)\n",
      "train data Y size : (428,)\n",
      "test data X size : (286, 15)\n",
      "test data Y size : (286,)\n"
     ]
    }
   ],
   "source": [
    "df_train_x, df_test_x, df_train_y, df_test_y = train_test_split(df_scaled_x_dummy, df_scaled_y, test_size = 0.4, random_state = 1234)\n",
    "print(\"train data X size : {}\".format(df_train_x.shape))\n",
    "print(\"train data Y size : {}\".format(df_train_y.shape))\n",
    "print(\"test data X size : {}\".format(df_test_x.shape))\n",
    "print(\"test data Y size : {}\".format(df_test_y.shape))"
   ]
  },
  {
   "cell_type": "markdown",
   "metadata": {},
   "source": [
    "### 기본 옵션으로 랜덤포레스트 생성"
   ]
  },
  {
   "cell_type": "code",
   "execution_count": 770,
   "metadata": {},
   "outputs": [
    {
     "name": "stdout",
     "output_type": "stream",
     "text": [
      "score on training set :1.000\n",
      "score on test set :0.944\n",
      "RandomForestClassifier(random_state=1234)\n"
     ]
    }
   ],
   "source": [
    "rf_uncustomized = RandomForestClassifier(random_state=1234)\n",
    "rf_uncustomized.fit(df_train_x,df_train_y)\n",
    "\n",
    "#train data 설명력 (결정계수 확인)\n",
    "print(\"score on training set :{:.3f}\".format(rf_uncustomized.score(df_train_x,df_train_y)))\n",
    "\n",
    "#test data 설명력 (결정계수 확인)\n",
    "print(\"score on test set :{:.3f}\".format(rf_uncustomized.score(df_test_x,df_test_y)))\n",
    "\n",
    "print(rf_uncustomized)"
   ]
  },
  {
   "cell_type": "markdown",
   "metadata": {},
   "source": [
    "test-set의 설명력이 높지만 train-set의 설명력이 1이므로 over-fitting이다."
   ]
  },
  {
   "cell_type": "markdown",
   "metadata": {},
   "source": [
    "### n_estimators 값에 따라 비교"
   ]
  },
  {
   "cell_type": "code",
   "execution_count": 771,
   "metadata": {},
   "outputs": [
    {
     "data": {
      "text/html": [
       "<div>\n",
       "<style scoped>\n",
       "    .dataframe tbody tr th:only-of-type {\n",
       "        vertical-align: middle;\n",
       "    }\n",
       "\n",
       "    .dataframe tbody tr th {\n",
       "        vertical-align: top;\n",
       "    }\n",
       "\n",
       "    .dataframe thead th {\n",
       "        text-align: right;\n",
       "    }\n",
       "</style>\n",
       "<table border=\"1\" class=\"dataframe\">\n",
       "  <thead>\n",
       "    <tr style=\"text-align: right;\">\n",
       "      <th></th>\n",
       "      <th>n_estimators</th>\n",
       "      <th>TrainScore</th>\n",
       "      <th>TestScore</th>\n",
       "    </tr>\n",
       "  </thead>\n",
       "  <tbody>\n",
       "    <tr>\n",
       "      <th>0</th>\n",
       "      <td>10</td>\n",
       "      <td>0.995</td>\n",
       "      <td>0.909</td>\n",
       "    </tr>\n",
       "    <tr>\n",
       "      <th>1</th>\n",
       "      <td>20</td>\n",
       "      <td>0.995</td>\n",
       "      <td>0.937</td>\n",
       "    </tr>\n",
       "    <tr>\n",
       "      <th>2</th>\n",
       "      <td>30</td>\n",
       "      <td>0.998</td>\n",
       "      <td>0.934</td>\n",
       "    </tr>\n",
       "    <tr>\n",
       "      <th>3</th>\n",
       "      <td>40</td>\n",
       "      <td>1.000</td>\n",
       "      <td>0.937</td>\n",
       "    </tr>\n",
       "    <tr>\n",
       "      <th>4</th>\n",
       "      <td>50</td>\n",
       "      <td>1.000</td>\n",
       "      <td>0.934</td>\n",
       "    </tr>\n",
       "    <tr>\n",
       "      <th>5</th>\n",
       "      <td>60</td>\n",
       "      <td>1.000</td>\n",
       "      <td>0.934</td>\n",
       "    </tr>\n",
       "    <tr>\n",
       "      <th>6</th>\n",
       "      <td>70</td>\n",
       "      <td>1.000</td>\n",
       "      <td>0.937</td>\n",
       "    </tr>\n",
       "    <tr>\n",
       "      <th>7</th>\n",
       "      <td>80</td>\n",
       "      <td>1.000</td>\n",
       "      <td>0.941</td>\n",
       "    </tr>\n",
       "    <tr>\n",
       "      <th>8</th>\n",
       "      <td>90</td>\n",
       "      <td>1.000</td>\n",
       "      <td>0.944</td>\n",
       "    </tr>\n",
       "    <tr>\n",
       "      <th>9</th>\n",
       "      <td>100</td>\n",
       "      <td>1.000</td>\n",
       "      <td>0.944</td>\n",
       "    </tr>\n",
       "  </tbody>\n",
       "</table>\n",
       "</div>"
      ],
      "text/plain": [
       "   n_estimators  TrainScore  TestScore\n",
       "0            10       0.995      0.909\n",
       "1            20       0.995      0.937\n",
       "2            30       0.998      0.934\n",
       "3            40       1.000      0.937\n",
       "4            50       1.000      0.934\n",
       "5            60       1.000      0.934\n",
       "6            70       1.000      0.937\n",
       "7            80       1.000      0.941\n",
       "8            90       1.000      0.944\n",
       "9           100       1.000      0.944"
      ]
     },
     "execution_count": 771,
     "metadata": {},
     "output_type": "execute_result"
    }
   ],
   "source": [
    "# train 및 test 설명력 결과 저장\n",
    "train_score = [];test_score=[]\n",
    "para_n_tree = [n_tree * 10 for n_tree in range(1,11)]\n",
    "\n",
    "for v_n_estimators in para_n_tree:\n",
    "    rf = RandomForestClassifier(n_estimators=v_n_estimators,random_state=1234)\n",
    "    rf.fit(df_train_x,df_train_y)\n",
    "    train_score.append(rf.score(df_train_x,df_train_y))\n",
    "    test_score.append(rf.score(df_test_x,df_test_y))\n",
    "    \n",
    "df_score_n = pd.DataFrame()\n",
    "df_score_n[\"n_estimators\"] = para_n_tree\n",
    "df_score_n[\"TrainScore\"] = train_score\n",
    "df_score_n[\"TestScore\"] = test_score\n",
    "\n",
    "df_score_n.round(3)"
   ]
  },
  {
   "cell_type": "code",
   "execution_count": 772,
   "metadata": {},
   "outputs": [
    {
     "data": {
      "text/plain": [
       "<matplotlib.legend.Legend at 0x7f0365c068e0>"
      ]
     },
     "execution_count": 772,
     "metadata": {},
     "output_type": "execute_result"
    },
    {
     "data": {
      "image/png": "[encoded data removed]",
      "text/plain": [
       "<Figure size 432x288 with 1 Axes>"
      ]
     },
     "metadata": {
      "needs_background": "light"
     },
     "output_type": "display_data"
    }
   ],
   "source": [
    "# 모델 설명력 확인 그래프\n",
    "plt.plot(para_n_tree,train_score,linestyle=\"-\",label=\"Train Score\")\n",
    "plt.plot(para_n_tree,test_score,linestyle=\"--\",label=\"Test Score\")\n",
    "plt.legend()"
   ]
  },
  {
   "cell_type": "markdown",
   "metadata": {},
   "source": [
    "test 정확도가 적절하게 높으면서 over-fitting을 방지하기 위해 80 정도로 선택했다."
   ]
  },
  {
   "cell_type": "markdown",
   "metadata": {},
   "source": [
    "### min_samples_leaf 값에 따라 비교"
   ]
  },
  {
   "cell_type": "code",
   "execution_count": 773,
   "metadata": {},
   "outputs": [
    {
     "data": {
      "text/html": [
       "<div>\n",
       "<style scoped>\n",
       "    .dataframe tbody tr th:only-of-type {\n",
       "        vertical-align: middle;\n",
       "    }\n",
       "\n",
       "    .dataframe tbody tr th {\n",
       "        vertical-align: top;\n",
       "    }\n",
       "\n",
       "    .dataframe thead th {\n",
       "        text-align: right;\n",
       "    }\n",
       "</style>\n",
       "<table border=\"1\" class=\"dataframe\">\n",
       "  <thead>\n",
       "    <tr style=\"text-align: right;\">\n",
       "      <th></th>\n",
       "      <th>MinSamplesLeaf</th>\n",
       "      <th>TrainScore</th>\n",
       "      <th>TestScore</th>\n",
       "    </tr>\n",
       "  </thead>\n",
       "  <tbody>\n",
       "    <tr>\n",
       "      <th>0</th>\n",
       "      <td>1</td>\n",
       "      <td>1.000</td>\n",
       "      <td>0.941</td>\n",
       "    </tr>\n",
       "    <tr>\n",
       "      <th>1</th>\n",
       "      <td>2</td>\n",
       "      <td>0.979</td>\n",
       "      <td>0.944</td>\n",
       "    </tr>\n",
       "    <tr>\n",
       "      <th>2</th>\n",
       "      <td>3</td>\n",
       "      <td>0.974</td>\n",
       "      <td>0.916</td>\n",
       "    </tr>\n",
       "    <tr>\n",
       "      <th>3</th>\n",
       "      <td>4</td>\n",
       "      <td>0.967</td>\n",
       "      <td>0.913</td>\n",
       "    </tr>\n",
       "    <tr>\n",
       "      <th>4</th>\n",
       "      <td>5</td>\n",
       "      <td>0.965</td>\n",
       "      <td>0.916</td>\n",
       "    </tr>\n",
       "    <tr>\n",
       "      <th>5</th>\n",
       "      <td>6</td>\n",
       "      <td>0.963</td>\n",
       "      <td>0.913</td>\n",
       "    </tr>\n",
       "    <tr>\n",
       "      <th>6</th>\n",
       "      <td>7</td>\n",
       "      <td>0.958</td>\n",
       "      <td>0.906</td>\n",
       "    </tr>\n",
       "    <tr>\n",
       "      <th>7</th>\n",
       "      <td>8</td>\n",
       "      <td>0.956</td>\n",
       "      <td>0.888</td>\n",
       "    </tr>\n",
       "    <tr>\n",
       "      <th>8</th>\n",
       "      <td>9</td>\n",
       "      <td>0.949</td>\n",
       "      <td>0.860</td>\n",
       "    </tr>\n",
       "    <tr>\n",
       "      <th>9</th>\n",
       "      <td>10</td>\n",
       "      <td>0.942</td>\n",
       "      <td>0.867</td>\n",
       "    </tr>\n",
       "    <tr>\n",
       "      <th>10</th>\n",
       "      <td>11</td>\n",
       "      <td>0.930</td>\n",
       "      <td>0.860</td>\n",
       "    </tr>\n",
       "    <tr>\n",
       "      <th>11</th>\n",
       "      <td>12</td>\n",
       "      <td>0.925</td>\n",
       "      <td>0.860</td>\n",
       "    </tr>\n",
       "    <tr>\n",
       "      <th>12</th>\n",
       "      <td>13</td>\n",
       "      <td>0.914</td>\n",
       "      <td>0.857</td>\n",
       "    </tr>\n",
       "    <tr>\n",
       "      <th>13</th>\n",
       "      <td>14</td>\n",
       "      <td>0.909</td>\n",
       "      <td>0.857</td>\n",
       "    </tr>\n",
       "    <tr>\n",
       "      <th>14</th>\n",
       "      <td>15</td>\n",
       "      <td>0.904</td>\n",
       "      <td>0.853</td>\n",
       "    </tr>\n",
       "    <tr>\n",
       "      <th>15</th>\n",
       "      <td>16</td>\n",
       "      <td>0.904</td>\n",
       "      <td>0.850</td>\n",
       "    </tr>\n",
       "    <tr>\n",
       "      <th>16</th>\n",
       "      <td>17</td>\n",
       "      <td>0.900</td>\n",
       "      <td>0.850</td>\n",
       "    </tr>\n",
       "    <tr>\n",
       "      <th>17</th>\n",
       "      <td>18</td>\n",
       "      <td>0.897</td>\n",
       "      <td>0.853</td>\n",
       "    </tr>\n",
       "    <tr>\n",
       "      <th>18</th>\n",
       "      <td>19</td>\n",
       "      <td>0.895</td>\n",
       "      <td>0.853</td>\n",
       "    </tr>\n",
       "    <tr>\n",
       "      <th>19</th>\n",
       "      <td>20</td>\n",
       "      <td>0.897</td>\n",
       "      <td>0.853</td>\n",
       "    </tr>\n",
       "  </tbody>\n",
       "</table>\n",
       "</div>"
      ],
      "text/plain": [
       "    MinSamplesLeaf  TrainScore  TestScore\n",
       "0                1       1.000      0.941\n",
       "1                2       0.979      0.944\n",
       "2                3       0.974      0.916\n",
       "3                4       0.967      0.913\n",
       "4                5       0.965      0.916\n",
       "5                6       0.963      0.913\n",
       "6                7       0.958      0.906\n",
       "7                8       0.956      0.888\n",
       "8                9       0.949      0.860\n",
       "9               10       0.942      0.867\n",
       "10              11       0.930      0.860\n",
       "11              12       0.925      0.860\n",
       "12              13       0.914      0.857\n",
       "13              14       0.909      0.857\n",
       "14              15       0.904      0.853\n",
       "15              16       0.904      0.850\n",
       "16              17       0.900      0.850\n",
       "17              18       0.897      0.853\n",
       "18              19       0.895      0.853\n",
       "19              20       0.897      0.853"
      ]
     },
     "execution_count": 773,
     "metadata": {},
     "output_type": "execute_result"
    }
   ],
   "source": [
    "# train 및 test 설명력 결과 저장\n",
    "train_score = [];test_score=[]\n",
    "para_leaf = [n_leaf * 1 for n_leaf in range(1,21)]\n",
    "\n",
    "for v_min_samples_leaf in para_leaf:\n",
    "    rf = RandomForestClassifier(n_estimators=80,random_state=1234,min_samples_leaf=v_min_samples_leaf)\n",
    "    rf.fit(df_train_x,df_train_y)\n",
    "    train_score.append(rf.score(df_train_x,df_train_y))\n",
    "    test_score.append(rf.score(df_test_x,df_test_y))\n",
    "    \n",
    "df_score_leaf = pd.DataFrame()\n",
    "df_score_leaf[\"MinSamplesLeaf\"] = para_leaf\n",
    "df_score_leaf[\"TrainScore\"] = train_score\n",
    "df_score_leaf[\"TestScore\"] = test_score\n",
    "\n",
    "df_score_leaf.round(3)"
   ]
  },
  {
   "cell_type": "code",
   "execution_count": 774,
   "metadata": {},
   "outputs": [
    {
     "data": {
      "text/plain": [
       "<matplotlib.legend.Legend at 0x7f0365bee1f0>"
      ]
     },
     "execution_count": 774,
     "metadata": {},
     "output_type": "execute_result"
    },
    {
     "data": {
      "image/png": "[encoded data removed]",
      "text/plain": [
       "<Figure size 432x288 with 1 Axes>"
      ]
     },
     "metadata": {
      "needs_background": "light"
     },
     "output_type": "display_data"
    }
   ],
   "source": [
    "# 모델 설명력 확인 그래프\n",
    "plt.plot(para_leaf,train_score,linestyle=\"-\",label=\"Train Score\")\n",
    "plt.plot(para_leaf,test_score,linestyle=\"--\",label=\"Test Score\")\n",
    "plt.legend()"
   ]
  },
  {
   "cell_type": "markdown",
   "metadata": {},
   "source": [
    "leaf node에 들어가는 데이터 수가 너무 적으면 over-fitting되므로 7로 선택했다."
   ]
  },
  {
   "cell_type": "markdown",
   "metadata": {},
   "source": [
    "### min_samples_split 값에 따라 비교"
   ]
  },
  {
   "cell_type": "code",
   "execution_count": 775,
   "metadata": {},
   "outputs": [
    {
     "data": {
      "text/html": [
       "<div>\n",
       "<style scoped>\n",
       "    .dataframe tbody tr th:only-of-type {\n",
       "        vertical-align: middle;\n",
       "    }\n",
       "\n",
       "    .dataframe tbody tr th {\n",
       "        vertical-align: top;\n",
       "    }\n",
       "\n",
       "    .dataframe thead th {\n",
       "        text-align: right;\n",
       "    }\n",
       "</style>\n",
       "<table border=\"1\" class=\"dataframe\">\n",
       "  <thead>\n",
       "    <tr style=\"text-align: right;\">\n",
       "      <th></th>\n",
       "      <th>MinSamplesSplit</th>\n",
       "      <th>TrainScore</th>\n",
       "      <th>TestScore</th>\n",
       "    </tr>\n",
       "  </thead>\n",
       "  <tbody>\n",
       "    <tr>\n",
       "      <th>0</th>\n",
       "      <td>4</td>\n",
       "      <td>0.958</td>\n",
       "      <td>0.906</td>\n",
       "    </tr>\n",
       "    <tr>\n",
       "      <th>1</th>\n",
       "      <td>6</td>\n",
       "      <td>0.958</td>\n",
       "      <td>0.906</td>\n",
       "    </tr>\n",
       "    <tr>\n",
       "      <th>2</th>\n",
       "      <td>8</td>\n",
       "      <td>0.958</td>\n",
       "      <td>0.906</td>\n",
       "    </tr>\n",
       "    <tr>\n",
       "      <th>3</th>\n",
       "      <td>10</td>\n",
       "      <td>0.958</td>\n",
       "      <td>0.906</td>\n",
       "    </tr>\n",
       "    <tr>\n",
       "      <th>4</th>\n",
       "      <td>12</td>\n",
       "      <td>0.958</td>\n",
       "      <td>0.906</td>\n",
       "    </tr>\n",
       "    <tr>\n",
       "      <th>5</th>\n",
       "      <td>14</td>\n",
       "      <td>0.958</td>\n",
       "      <td>0.906</td>\n",
       "    </tr>\n",
       "    <tr>\n",
       "      <th>6</th>\n",
       "      <td>16</td>\n",
       "      <td>0.956</td>\n",
       "      <td>0.892</td>\n",
       "    </tr>\n",
       "    <tr>\n",
       "      <th>7</th>\n",
       "      <td>18</td>\n",
       "      <td>0.960</td>\n",
       "      <td>0.899</td>\n",
       "    </tr>\n",
       "    <tr>\n",
       "      <th>8</th>\n",
       "      <td>20</td>\n",
       "      <td>0.960</td>\n",
       "      <td>0.913</td>\n",
       "    </tr>\n",
       "    <tr>\n",
       "      <th>9</th>\n",
       "      <td>22</td>\n",
       "      <td>0.963</td>\n",
       "      <td>0.899</td>\n",
       "    </tr>\n",
       "    <tr>\n",
       "      <th>10</th>\n",
       "      <td>24</td>\n",
       "      <td>0.958</td>\n",
       "      <td>0.899</td>\n",
       "    </tr>\n",
       "    <tr>\n",
       "      <th>11</th>\n",
       "      <td>26</td>\n",
       "      <td>0.956</td>\n",
       "      <td>0.902</td>\n",
       "    </tr>\n",
       "    <tr>\n",
       "      <th>12</th>\n",
       "      <td>28</td>\n",
       "      <td>0.960</td>\n",
       "      <td>0.899</td>\n",
       "    </tr>\n",
       "    <tr>\n",
       "      <th>13</th>\n",
       "      <td>30</td>\n",
       "      <td>0.960</td>\n",
       "      <td>0.899</td>\n",
       "    </tr>\n",
       "    <tr>\n",
       "      <th>14</th>\n",
       "      <td>32</td>\n",
       "      <td>0.956</td>\n",
       "      <td>0.892</td>\n",
       "    </tr>\n",
       "    <tr>\n",
       "      <th>15</th>\n",
       "      <td>34</td>\n",
       "      <td>0.946</td>\n",
       "      <td>0.888</td>\n",
       "    </tr>\n",
       "    <tr>\n",
       "      <th>16</th>\n",
       "      <td>36</td>\n",
       "      <td>0.951</td>\n",
       "      <td>0.895</td>\n",
       "    </tr>\n",
       "    <tr>\n",
       "      <th>17</th>\n",
       "      <td>38</td>\n",
       "      <td>0.946</td>\n",
       "      <td>0.899</td>\n",
       "    </tr>\n",
       "    <tr>\n",
       "      <th>18</th>\n",
       "      <td>40</td>\n",
       "      <td>0.944</td>\n",
       "      <td>0.892</td>\n",
       "    </tr>\n",
       "  </tbody>\n",
       "</table>\n",
       "</div>"
      ],
      "text/plain": [
       "    MinSamplesSplit  TrainScore  TestScore\n",
       "0                 4       0.958      0.906\n",
       "1                 6       0.958      0.906\n",
       "2                 8       0.958      0.906\n",
       "3                10       0.958      0.906\n",
       "4                12       0.958      0.906\n",
       "5                14       0.958      0.906\n",
       "6                16       0.956      0.892\n",
       "7                18       0.960      0.899\n",
       "8                20       0.960      0.913\n",
       "9                22       0.963      0.899\n",
       "10               24       0.958      0.899\n",
       "11               26       0.956      0.902\n",
       "12               28       0.960      0.899\n",
       "13               30       0.960      0.899\n",
       "14               32       0.956      0.892\n",
       "15               34       0.946      0.888\n",
       "16               36       0.951      0.895\n",
       "17               38       0.946      0.899\n",
       "18               40       0.944      0.892"
      ]
     },
     "execution_count": 775,
     "metadata": {},
     "output_type": "execute_result"
    }
   ],
   "source": [
    "# train 및 test 설명력 결과 저장\n",
    "train_score = [];test_score=[]\n",
    "para_split = [n_split * 2 for n_split in range(2,21)]\n",
    "\n",
    "for v_min_samples_split in para_split:\n",
    "    rf = RandomForestClassifier(n_estimators=80,random_state=1234,min_samples_leaf=7,min_samples_split=v_min_samples_split)\n",
    "    rf.fit(df_train_x,df_train_y)\n",
    "    train_score.append(rf.score(df_train_x,df_train_y))\n",
    "    test_score.append(rf.score(df_test_x,df_test_y))\n",
    "    \n",
    "df_score_split = pd.DataFrame()\n",
    "df_score_split[\"MinSamplesSplit\"] = para_split\n",
    "df_score_split[\"TrainScore\"] = train_score\n",
    "df_score_split[\"TestScore\"] = test_score\n",
    "\n",
    "df_score_split.round(3)"
   ]
  },
  {
   "cell_type": "code",
   "execution_count": 776,
   "metadata": {},
   "outputs": [
    {
     "data": {
      "text/plain": [
       "<matplotlib.legend.Legend at 0x7f0365b5ea60>"
      ]
     },
     "execution_count": 776,
     "metadata": {},
     "output_type": "execute_result"
    },
    {
     "data": {
      "image/png": "[encoded data removed]",
      "text/plain": [
       "<Figure size 432x288 with 1 Axes>"
      ]
     },
     "metadata": {
      "needs_background": "light"
     },
     "output_type": "display_data"
    }
   ],
   "source": [
    "# 모델 설명력 확인 그래프\n",
    "plt.plot(para_split,train_score,linestyle=\"-\",label=\"Train Score\")\n",
    "plt.plot(para_split,test_score,linestyle=\"--\",label=\"Test Score\")\n",
    "plt.legend()"
   ]
  },
  {
   "cell_type": "markdown",
   "metadata": {},
   "source": [
    "test 정확도가 높아지는 순간인 20으로 선택했다."
   ]
  },
  {
   "cell_type": "markdown",
   "metadata": {},
   "source": [
    "### max_depth 값에 따라 비교"
   ]
  },
  {
   "cell_type": "code",
   "execution_count": 777,
   "metadata": {},
   "outputs": [
    {
     "data": {
      "text/html": [
       "<div>\n",
       "<style scoped>\n",
       "    .dataframe tbody tr th:only-of-type {\n",
       "        vertical-align: middle;\n",
       "    }\n",
       "\n",
       "    .dataframe tbody tr th {\n",
       "        vertical-align: top;\n",
       "    }\n",
       "\n",
       "    .dataframe thead th {\n",
       "        text-align: right;\n",
       "    }\n",
       "</style>\n",
       "<table border=\"1\" class=\"dataframe\">\n",
       "  <thead>\n",
       "    <tr style=\"text-align: right;\">\n",
       "      <th></th>\n",
       "      <th>Depth</th>\n",
       "      <th>TrainScore</th>\n",
       "      <th>TestScore</th>\n",
       "    </tr>\n",
       "  </thead>\n",
       "  <tbody>\n",
       "    <tr>\n",
       "      <th>0</th>\n",
       "      <td>1</td>\n",
       "      <td>0.832</td>\n",
       "      <td>0.808</td>\n",
       "    </tr>\n",
       "    <tr>\n",
       "      <th>1</th>\n",
       "      <td>2</td>\n",
       "      <td>0.904</td>\n",
       "      <td>0.878</td>\n",
       "    </tr>\n",
       "    <tr>\n",
       "      <th>2</th>\n",
       "      <td>3</td>\n",
       "      <td>0.932</td>\n",
       "      <td>0.881</td>\n",
       "    </tr>\n",
       "    <tr>\n",
       "      <th>3</th>\n",
       "      <td>4</td>\n",
       "      <td>0.944</td>\n",
       "      <td>0.895</td>\n",
       "    </tr>\n",
       "    <tr>\n",
       "      <th>4</th>\n",
       "      <td>5</td>\n",
       "      <td>0.960</td>\n",
       "      <td>0.909</td>\n",
       "    </tr>\n",
       "    <tr>\n",
       "      <th>5</th>\n",
       "      <td>6</td>\n",
       "      <td>0.960</td>\n",
       "      <td>0.913</td>\n",
       "    </tr>\n",
       "    <tr>\n",
       "      <th>6</th>\n",
       "      <td>7</td>\n",
       "      <td>0.960</td>\n",
       "      <td>0.909</td>\n",
       "    </tr>\n",
       "    <tr>\n",
       "      <th>7</th>\n",
       "      <td>8</td>\n",
       "      <td>0.960</td>\n",
       "      <td>0.909</td>\n",
       "    </tr>\n",
       "    <tr>\n",
       "      <th>8</th>\n",
       "      <td>9</td>\n",
       "      <td>0.960</td>\n",
       "      <td>0.913</td>\n",
       "    </tr>\n",
       "    <tr>\n",
       "      <th>9</th>\n",
       "      <td>10</td>\n",
       "      <td>0.960</td>\n",
       "      <td>0.913</td>\n",
       "    </tr>\n",
       "  </tbody>\n",
       "</table>\n",
       "</div>"
      ],
      "text/plain": [
       "   Depth  TrainScore  TestScore\n",
       "0      1       0.832      0.808\n",
       "1      2       0.904      0.878\n",
       "2      3       0.932      0.881\n",
       "3      4       0.944      0.895\n",
       "4      5       0.960      0.909\n",
       "5      6       0.960      0.913\n",
       "6      7       0.960      0.909\n",
       "7      8       0.960      0.909\n",
       "8      9       0.960      0.913\n",
       "9     10       0.960      0.913"
      ]
     },
     "execution_count": 777,
     "metadata": {},
     "output_type": "execute_result"
    }
   ],
   "source": [
    "# train 및 test 설명력 결과 저장\n",
    "train_score = [];test_score=[]\n",
    "para_depth = [depth for depth in range(1,11)]\n",
    "\n",
    "for v_max_depth in para_depth:\n",
    "    rf = RandomForestClassifier(n_estimators=80,random_state=1234,min_samples_leaf=7,min_samples_split=20,max_depth=v_max_depth)\n",
    "    rf.fit(df_train_x,df_train_y)\n",
    "    train_score.append(rf.score(df_train_x,df_train_y))\n",
    "    test_score.append(rf.score(df_test_x,df_test_y))\n",
    "    \n",
    "df_score_depth = pd.DataFrame()\n",
    "df_score_depth[\"Depth\"] = para_depth\n",
    "df_score_depth[\"TrainScore\"] = train_score\n",
    "df_score_depth[\"TestScore\"] = test_score\n",
    "\n",
    "df_score_depth.round(3)"
   ]
  },
  {
   "cell_type": "code",
   "execution_count": 778,
   "metadata": {},
   "outputs": [
    {
     "data": {
      "text/plain": [
       "<matplotlib.legend.Legend at 0x7f0365ac1700>"
      ]
     },
     "execution_count": 778,
     "metadata": {},
     "output_type": "execute_result"
    },
    {
     "data": {
      "image/png": "[encoded data removed]",
      "text/plain": [
       "<Figure size 432x288 with 1 Axes>"
      ]
     },
     "metadata": {
      "needs_background": "light"
     },
     "output_type": "display_data"
    }
   ],
   "source": [
    "# 모델 설명력 확인 그래프\n",
    "plt.plot(para_depth,train_score,linestyle=\"-\",label=\"Train Score\")\n",
    "plt.plot(para_depth,test_score,linestyle=\"--\",label=\"Test Score\")\n",
    "plt.legend()"
   ]
  },
  {
   "cell_type": "markdown",
   "metadata": {},
   "source": [
    "depth가 너무 크면 over-fitting이 되고 5부터 거의 일정하므로 5로 선택했다."
   ]
  },
  {
   "cell_type": "markdown",
   "metadata": {},
   "source": [
    "### 최종 모델 선정"
   ]
  },
  {
   "cell_type": "code",
   "execution_count": 780,
   "metadata": {},
   "outputs": [
    {
     "data": {
      "text/plain": [
       "RandomForestClassifier(max_depth=5, min_samples_leaf=7, min_samples_split=20,\n",
       "                       n_estimators=80, random_state=1234)"
      ]
     },
     "execution_count": 780,
     "metadata": {},
     "output_type": "execute_result"
    }
   ],
   "source": [
    "rf_final = RandomForestClassifier(n_estimators=80, min_samples_leaf = 7, min_samples_split = 20, max_depth = 5, random_state=1234)\n",
    "rf_final.fit(df_train_x, df_train_y)"
   ]
  },
  {
   "cell_type": "markdown",
   "metadata": {},
   "source": [
    "### 모델 예측 및 성능 평가 "
   ]
  },
  {
   "cell_type": "code",
   "execution_count": 781,
   "metadata": {},
   "outputs": [
    {
     "name": "stdout",
     "output_type": "stream",
     "text": [
      "accuracy on training set: 0.960\n",
      "accuracy on test set: 0.909\n",
      "Confusion matrix:\n",
      "[[188   3]\n",
      " [ 23  72]]\n"
     ]
    }
   ],
   "source": [
    "y_pred = rf_final.predict(df_test_x)\n",
    "\n",
    "print(\"accuracy on training set: {:.3f}\".format(rf_final.score(df_train_x,df_train_y)))\n",
    "print(\"accuracy on test set: {:.3f}\".format(rf_final.score(df_test_x,df_test_y)))\n",
    "print(\"Confusion matrix:\\n{}\".format(confusion_matrix(df_test_y,y_pred)))"
   ]
  },
  {
   "cell_type": "markdown",
   "metadata": {},
   "source": [
    "1. 이 모델의 예측 정확도는 0.909이다. **즉, 90% 정도는 정답을 맞춘다.**\n",
    "2. precision은 72/(3+72) = 72/75 = 0.96이다. **즉, 불량이라고 예측한 것 중에 맞춘 비율은 96%이다.**\n",
    "3. recall은 72/(23+72) = 72/95 ≓ 0.76이다. **즉, 실제로 불량인 것 중에 예측을 맞춘 비율은 약 76%이다.**\n",
    "4. precision이 더 중요한지 아니면 recall이 더 중요한지는 해당 기업에 어느 부분에 더 가치를 두는지에 따라 달라진다.\n",
    "- '1 - precision' : 불량이라고 예측했다. 그래서 보수를 했다. 근데 알고보니 불량이 아니다. 이에 대한 비용이 발생했다.\n",
    "- '1 - recall' : 실제 불량인데 정상이라고 판단해서 보낸 물품. 소비자가 불만을 가지고 추후에 해당 제품을 사용하지 않을 수도 있다."
   ]
  },
  {
   "cell_type": "markdown",
   "metadata": {},
   "source": [
    "### 최종 모델에서의 설명변수의 중요도"
   ]
  },
  {
   "cell_type": "code",
   "execution_count": 783,
   "metadata": {},
   "outputs": [
    {
     "data": {
      "text/html": [
       "<div>\n",
       "<style scoped>\n",
       "    .dataframe tbody tr th:only-of-type {\n",
       "        vertical-align: middle;\n",
       "    }\n",
       "\n",
       "    .dataframe tbody tr th {\n",
       "        vertical-align: top;\n",
       "    }\n",
       "\n",
       "    .dataframe thead th {\n",
       "        text-align: right;\n",
       "    }\n",
       "</style>\n",
       "<table border=\"1\" class=\"dataframe\">\n",
       "  <thead>\n",
       "    <tr style=\"text-align: right;\">\n",
       "      <th></th>\n",
       "      <th>Feature</th>\n",
       "      <th>Importance</th>\n",
       "    </tr>\n",
       "  </thead>\n",
       "  <tbody>\n",
       "    <tr>\n",
       "      <th>10</th>\n",
       "      <td>ROLLING_TEMP_T5</td>\n",
       "      <td>0.296</td>\n",
       "    </tr>\n",
       "    <tr>\n",
       "      <th>1</th>\n",
       "      <td>PT_WDTH</td>\n",
       "      <td>0.120</td>\n",
       "    </tr>\n",
       "    <tr>\n",
       "      <th>6</th>\n",
       "      <td>FUR_SZ_TEMP</td>\n",
       "      <td>0.112</td>\n",
       "    </tr>\n",
       "    <tr>\n",
       "      <th>9</th>\n",
       "      <td>FUR_EXTEMP</td>\n",
       "      <td>0.076</td>\n",
       "    </tr>\n",
       "    <tr>\n",
       "      <th>2</th>\n",
       "      <td>PT_LTH</td>\n",
       "      <td>0.068</td>\n",
       "    </tr>\n",
       "    <tr>\n",
       "      <th>8</th>\n",
       "      <td>FUR_TIME</td>\n",
       "      <td>0.057</td>\n",
       "    </tr>\n",
       "    <tr>\n",
       "      <th>0</th>\n",
       "      <td>PT_THK</td>\n",
       "      <td>0.049</td>\n",
       "    </tr>\n",
       "    <tr>\n",
       "      <th>13</th>\n",
       "      <td>HSB_applied</td>\n",
       "      <td>0.038</td>\n",
       "    </tr>\n",
       "    <tr>\n",
       "      <th>12</th>\n",
       "      <td>STEEL_KIND_T</td>\n",
       "      <td>0.035</td>\n",
       "    </tr>\n",
       "    <tr>\n",
       "      <th>4</th>\n",
       "      <td>FUR_HZ_TEMP</td>\n",
       "      <td>0.030</td>\n",
       "    </tr>\n",
       "    <tr>\n",
       "      <th>11</th>\n",
       "      <td>STEEL_KIND_C</td>\n",
       "      <td>0.025</td>\n",
       "    </tr>\n",
       "    <tr>\n",
       "      <th>14</th>\n",
       "      <td>HSB_not-applied</td>\n",
       "      <td>0.025</td>\n",
       "    </tr>\n",
       "    <tr>\n",
       "      <th>3</th>\n",
       "      <td>PT_WGT</td>\n",
       "      <td>0.025</td>\n",
       "    </tr>\n",
       "    <tr>\n",
       "      <th>5</th>\n",
       "      <td>FUR_HZ_TIME</td>\n",
       "      <td>0.023</td>\n",
       "    </tr>\n",
       "    <tr>\n",
       "      <th>7</th>\n",
       "      <td>FUR_SZ_TIME</td>\n",
       "      <td>0.021</td>\n",
       "    </tr>\n",
       "  </tbody>\n",
       "</table>\n",
       "</div>"
      ],
      "text/plain": [
       "            Feature  Importance\n",
       "10  ROLLING_TEMP_T5       0.296\n",
       "1           PT_WDTH       0.120\n",
       "6       FUR_SZ_TEMP       0.112\n",
       "9        FUR_EXTEMP       0.076\n",
       "2            PT_LTH       0.068\n",
       "8          FUR_TIME       0.057\n",
       "0            PT_THK       0.049\n",
       "13      HSB_applied       0.038\n",
       "12     STEEL_KIND_T       0.035\n",
       "4       FUR_HZ_TEMP       0.030\n",
       "11     STEEL_KIND_C       0.025\n",
       "14  HSB_not-applied       0.025\n",
       "3            PT_WGT       0.025\n",
       "5       FUR_HZ_TIME       0.023\n",
       "7       FUR_SZ_TIME       0.021"
      ]
     },
     "execution_count": 783,
     "metadata": {},
     "output_type": "execute_result"
    }
   ],
   "source": [
    "v_feature_name = df_train_x.columns\n",
    "\n",
    "df_importance = pd.DataFrame()\n",
    "df_importance[\"Feature\"] = v_feature_name\n",
    "df_importance[\"Importance\"] = rf_final.feature_importances_\n",
    "\n",
    "# df_feature_importance의 테이블을 중요도별로 정렬\n",
    "df_importance.sort_values(\"Importance\", ascending=False, inplace = True)\n",
    "df_importance.round(3)"
   ]
  },
  {
   "cell_type": "code",
   "execution_count": 785,
   "metadata": {
    "scrolled": false
   },
   "outputs": [
    {
     "data": {
      "text/plain": [
       "Text(0, 0.5, 'variable')"
      ]
     },
     "execution_count": 785,
     "metadata": {},
     "output_type": "execute_result"
    },
    {
     "data": {
      "image/png": "[encoded data removed]",
      "text/plain": [
       "<Figure size 432x288 with 1 Axes>"
      ]
     },
     "metadata": {
      "needs_background": "light"
     },
     "output_type": "display_data"
    }
   ],
   "source": [
    "# 중요도가 높은 변수를 상위에 그림\n",
    "df_importance.sort_values(\"Importance\", ascending=True, inplace = True)\n",
    "coordinates = range(len(df_importance))\n",
    "plt.barh(y = coordinates, width = df_importance[\"Importance\"])\n",
    "plt.yticks(coordinates, df_importance[\"Feature\"])\n",
    "plt.xlabel(\"variable importance\")\n",
    "plt.ylabel(\"variable\")"
   ]
  },
  {
   "cell_type": "markdown",
   "metadata": {},
   "source": [
    "ROLLING_TEMP_T5, PT_WDTH, FUR_SZ_TEMP, FUR_EXTEMP 순으로 scale 불량에 영향을 많이 미치는 것으로 나타났다.\n",
    "- **압연온도가 \"높을수록\" scale 불량일 가능성이 높다.**\n",
    "- **plate의 너비가 \"클수록\" scale 불량일 가능성이 높다.**\n",
    "- **가열로 균열대 온도가 \"높을수록\" scale 불량일 가능성이 높다.**\n",
    "- **추출온도가 \"높을수록\" scale 불량일 가능성이 높다.**"
   ]
  },
  {
   "cell_type": "markdown",
   "metadata": {},
   "source": [
    "## Support Vector Machine (Classifier)"
   ]
  },
  {
   "cell_type": "markdown",
   "metadata": {},
   "source": [
    "### 기본 설정으로 모델 생성"
   ]
  },
  {
   "cell_type": "code",
   "execution_count": 786,
   "metadata": {},
   "outputs": [
    {
     "name": "stdout",
     "output_type": "stream",
     "text": [
      "Accuracy on training set:0.923\n",
      "Accuracy on test set:0.850\n"
     ]
    }
   ],
   "source": [
    "svm_uncustomized = SVC(random_state=1234)\n",
    "svm_uncustomized.fit(df_train_x,df_train_y)\n",
    "\n",
    "print(\"Accuracy on training set:{:.3f}\".format(svm_uncustomized.score(df_train_x,df_train_y)))\n",
    "print(\"Accuracy on test set:{:.3f}\".format(svm_uncustomized.score(df_test_x,df_test_y)))"
   ]
  },
  {
   "cell_type": "markdown",
   "metadata": {},
   "source": [
    "기본 설정만으로도 성능이 꽤 좋은 편이다."
   ]
  },
  {
   "cell_type": "code",
   "execution_count": 787,
   "metadata": {
    "scrolled": true
   },
   "outputs": [
    {
     "data": {
      "text/plain": [
       "SVC(random_state=1234)"
      ]
     },
     "execution_count": 787,
     "metadata": {},
     "output_type": "execute_result"
    }
   ],
   "source": [
    "svm_uncustomized"
   ]
  },
  {
   "cell_type": "markdown",
   "metadata": {},
   "source": [
    "### C(cost) 조정"
   ]
  },
  {
   "cell_type": "code",
   "execution_count": 788,
   "metadata": {},
   "outputs": [
    {
     "data": {
      "text/html": [
       "<div>\n",
       "<style scoped>\n",
       "    .dataframe tbody tr th:only-of-type {\n",
       "        vertical-align: middle;\n",
       "    }\n",
       "\n",
       "    .dataframe tbody tr th {\n",
       "        vertical-align: top;\n",
       "    }\n",
       "\n",
       "    .dataframe thead th {\n",
       "        text-align: right;\n",
       "    }\n",
       "</style>\n",
       "<table border=\"1\" class=\"dataframe\">\n",
       "  <thead>\n",
       "    <tr style=\"text-align: right;\">\n",
       "      <th></th>\n",
       "      <th>C</th>\n",
       "      <th>TrainAccuracy</th>\n",
       "      <th>TestAccuracy</th>\n",
       "    </tr>\n",
       "  </thead>\n",
       "  <tbody>\n",
       "    <tr>\n",
       "      <th>0</th>\n",
       "      <td>0.01</td>\n",
       "      <td>0.682</td>\n",
       "      <td>0.668</td>\n",
       "    </tr>\n",
       "    <tr>\n",
       "      <th>1</th>\n",
       "      <td>0.10</td>\n",
       "      <td>0.855</td>\n",
       "      <td>0.818</td>\n",
       "    </tr>\n",
       "    <tr>\n",
       "      <th>2</th>\n",
       "      <td>1.00</td>\n",
       "      <td>0.923</td>\n",
       "      <td>0.850</td>\n",
       "    </tr>\n",
       "    <tr>\n",
       "      <th>3</th>\n",
       "      <td>10.00</td>\n",
       "      <td>0.960</td>\n",
       "      <td>0.892</td>\n",
       "    </tr>\n",
       "  </tbody>\n",
       "</table>\n",
       "</div>"
      ],
      "text/plain": [
       "       C  TrainAccuracy  TestAccuracy\n",
       "0   0.01          0.682         0.668\n",
       "1   0.10          0.855         0.818\n",
       "2   1.00          0.923         0.850\n",
       "3  10.00          0.960         0.892"
      ]
     },
     "execution_count": 788,
     "metadata": {},
     "output_type": "execute_result"
    }
   ],
   "source": [
    "# train 및 test 정확도 결과 저장용\n",
    "train_accuracy = []; test_accuracy = []\n",
    "\n",
    "para_c = [10**c for c in range(-2, 2)]\n",
    "\n",
    "for v_C in para_c:\n",
    "    svm = SVC(C = v_C, random_state = 1234)\n",
    "    svm.fit(df_train_x, df_train_y)\n",
    "    train_accuracy.append(svm.score(df_train_x, df_train_y))\n",
    "    test_accuracy.append(svm.score(df_test_x, df_test_y))\n",
    "\n",
    "# 데이터 테이블로 저장\n",
    "df_accuracy_c = pd.DataFrame()\n",
    "df_accuracy_c[\"C\"] = para_c\n",
    "df_accuracy_c[\"TrainAccuracy\"] = train_accuracy\n",
    "df_accuracy_c[\"TestAccuracy\"] = test_accuracy\n",
    "df_accuracy_c.round(3)"
   ]
  },
  {
   "cell_type": "code",
   "execution_count": 789,
   "metadata": {
    "scrolled": false
   },
   "outputs": [
    {
     "data": {
      "text/plain": [
       "<matplotlib.legend.Legend at 0x7f03659e9fa0>"
      ]
     },
     "execution_count": 789,
     "metadata": {},
     "output_type": "execute_result"
    },
    {
     "data": {
      "image/png": "[encoded data removed]",
      "text/plain": [
       "<Figure size 432x288 with 1 Axes>"
      ]
     },
     "metadata": {
      "needs_background": "light"
     },
     "output_type": "display_data"
    }
   ],
   "source": [
    "# 정확도를 그래프로 표현\n",
    "plt.plot(para_c, train_accuracy, linestyle = \"-\", label = \"Train Accuracy\")\n",
    "plt.plot(para_c, test_accuracy, linestyle = \"--\", label = \"Test Accuracy\")\n",
    "plt.ylabel(\"accuracy\"); plt.xlabel(\"C\")\n",
    "plt.legend()"
   ]
  },
  {
   "cell_type": "markdown",
   "metadata": {},
   "source": [
    "너무 크면 over-fitting이 되므로 1.0으로 선택했다."
   ]
  },
  {
   "cell_type": "markdown",
   "metadata": {},
   "source": [
    "### Gamma 조정"
   ]
  },
  {
   "cell_type": "code",
   "execution_count": 790,
   "metadata": {},
   "outputs": [
    {
     "data": {
      "text/html": [
       "<div>\n",
       "<style scoped>\n",
       "    .dataframe tbody tr th:only-of-type {\n",
       "        vertical-align: middle;\n",
       "    }\n",
       "\n",
       "    .dataframe tbody tr th {\n",
       "        vertical-align: top;\n",
       "    }\n",
       "\n",
       "    .dataframe thead th {\n",
       "        text-align: right;\n",
       "    }\n",
       "</style>\n",
       "<table border=\"1\" class=\"dataframe\">\n",
       "  <thead>\n",
       "    <tr style=\"text-align: right;\">\n",
       "      <th></th>\n",
       "      <th>gamma</th>\n",
       "      <th>TrainAccuracy</th>\n",
       "      <th>TestAccuracy</th>\n",
       "    </tr>\n",
       "  </thead>\n",
       "  <tbody>\n",
       "    <tr>\n",
       "      <th>0</th>\n",
       "      <td>0.01</td>\n",
       "      <td>0.869</td>\n",
       "      <td>0.829</td>\n",
       "    </tr>\n",
       "    <tr>\n",
       "      <th>1</th>\n",
       "      <td>0.10</td>\n",
       "      <td>0.932</td>\n",
       "      <td>0.857</td>\n",
       "    </tr>\n",
       "    <tr>\n",
       "      <th>2</th>\n",
       "      <td>1.00</td>\n",
       "      <td>0.986</td>\n",
       "      <td>0.783</td>\n",
       "    </tr>\n",
       "    <tr>\n",
       "      <th>3</th>\n",
       "      <td>10.00</td>\n",
       "      <td>1.000</td>\n",
       "      <td>0.675</td>\n",
       "    </tr>\n",
       "  </tbody>\n",
       "</table>\n",
       "</div>"
      ],
      "text/plain": [
       "   gamma  TrainAccuracy  TestAccuracy\n",
       "0   0.01          0.869         0.829\n",
       "1   0.10          0.932         0.857\n",
       "2   1.00          0.986         0.783\n",
       "3  10.00          1.000         0.675"
      ]
     },
     "execution_count": 790,
     "metadata": {},
     "output_type": "execute_result"
    }
   ],
   "source": [
    "# train 및 test 정확도 결과 저장용\n",
    "train_accuracy = []; test_accuracy = []\n",
    "\n",
    "para_gamma = [10**gamma for gamma in range(-2, 2)]\n",
    "\n",
    "for v_gamma in para_gamma:\n",
    "    svm = SVC(C=1.0, gamma = v_gamma, random_state = 1234)\n",
    "    svm.fit(df_train_x, df_train_y)\n",
    "    train_accuracy.append(svm.score(df_train_x, df_train_y))\n",
    "    test_accuracy.append(svm.score(df_test_x, df_test_y))\n",
    "\n",
    "# 데이터 테이블로 저장\n",
    "df_accuracy_gamma = pd.DataFrame()\n",
    "df_accuracy_gamma[\"gamma\"] = para_gamma\n",
    "df_accuracy_gamma[\"TrainAccuracy\"] = train_accuracy\n",
    "df_accuracy_gamma[\"TestAccuracy\"] = test_accuracy\n",
    "df_accuracy_gamma.round(3)"
   ]
  },
  {
   "cell_type": "code",
   "execution_count": 791,
   "metadata": {
    "scrolled": false
   },
   "outputs": [
    {
     "data": {
      "text/plain": [
       "<matplotlib.legend.Legend at 0x7f036593aa00>"
      ]
     },
     "execution_count": 791,
     "metadata": {},
     "output_type": "execute_result"
    },
    {
     "data": {
      "image/png": "[encoded data removed]",
      "text/plain": [
       "<Figure size 432x288 with 1 Axes>"
      ]
     },
     "metadata": {
      "needs_background": "light"
     },
     "output_type": "display_data"
    }
   ],
   "source": [
    "# 정확도를 그래프로 표현\n",
    "plt.plot(para_gamma, train_accuracy, linestyle = \"-\", label = \"Train Accuracy\")\n",
    "plt.plot(para_gamma, test_accuracy, linestyle = \"--\", label = \"Test Accuracy\")\n",
    "plt.ylabel(\"accuracy\"); plt.xlabel(\"gamma\")\n",
    "plt.legend()"
   ]
  },
  {
   "cell_type": "markdown",
   "metadata": {},
   "source": [
    "너무 크면 over-fitting되므로 0.10으로 선택했다."
   ]
  },
  {
   "cell_type": "markdown",
   "metadata": {},
   "source": [
    "### 최종 SVM 모델 선택"
   ]
  },
  {
   "cell_type": "code",
   "execution_count": 794,
   "metadata": {
    "scrolled": true
   },
   "outputs": [
    {
     "name": "stdout",
     "output_type": "stream",
     "text": [
      "Accuracy on training set: 0.932\n",
      "Accuracy on test set: 0.857\n",
      "\n",
      "Confusion matrix: \n",
      "[[178  13]\n",
      " [ 28  67]]\n"
     ]
    }
   ],
   "source": [
    "svc_final = SVC(gamma = 0.1, C = 1, random_state = 1234)\n",
    "svc_final.fit(df_train_x, df_train_y)\n",
    "\n",
    "y_pred = svc_final.predict(df_test_x)\n",
    "\n",
    "print(\"Accuracy on training set: {:.3f}\".format(svc_final.score(df_train_x, df_train_y)))\n",
    "print(\"Accuracy on test set: {:.3f}\\n\".format(svc_final.score(df_test_x, df_test_y)))\n",
    "print(\"Confusion matrix: \\n{}\".format(confusion_matrix(df_test_y, y_pred)))"
   ]
  },
  {
   "cell_type": "markdown",
   "metadata": {},
   "source": [
    "1. 이 모델의 예측 정확도는 0.857이다. **즉, 86% 정도는 정답을 맞춘다.**\n",
    "2. precision은 67/(13+67) = 67/80 = 0.8375이다. **즉, 불량이라고 예측한 것 중에 맞춘 비율은 84%이다.**\n",
    "3. recall은 67/(28+67) = 67/95 ≓ 0.71이다. **즉, 실제로 불량인 것 중에 예측을 맞춘 비율은 약 71%이다.**\n",
    "4. precision이 더 중요한지 아니면 recall이 더 중요한지는 해당 기업에 어느 부분에 더 가치를 두는지에 따라 달라진다.\n",
    "- '1 - precision' : 불량이라고 예측했다. 그래서 보수를 했다. 근데 알고보니 불량이 아니다. 이에 대한 비용이 발생했다.\n",
    "- '1 - recall' : 실제 불량인데 정상이라고 판단해서 보낸 물품. 소비자가 불만을 가지고 추후에 해당 제품을 사용하지 않을 수도 있다."
   ]
  },
  {
   "cell_type": "markdown",
   "metadata": {},
   "source": [
    "## kNN"
   ]
  },
  {
   "cell_type": "markdown",
   "metadata": {},
   "source": [
    "### k값에 따른 변화"
   ]
  },
  {
   "cell_type": "code",
   "execution_count": 797,
   "metadata": {
    "scrolled": false
   },
   "outputs": [
    {
     "data": {
      "text/html": [
       "<div>\n",
       "<style scoped>\n",
       "    .dataframe tbody tr th:only-of-type {\n",
       "        vertical-align: middle;\n",
       "    }\n",
       "\n",
       "    .dataframe tbody tr th {\n",
       "        vertical-align: top;\n",
       "    }\n",
       "\n",
       "    .dataframe thead th {\n",
       "        text-align: right;\n",
       "    }\n",
       "</style>\n",
       "<table border=\"1\" class=\"dataframe\">\n",
       "  <thead>\n",
       "    <tr style=\"text-align: right;\">\n",
       "      <th></th>\n",
       "      <th>Neighbors</th>\n",
       "      <th>TrainAccuracy</th>\n",
       "      <th>TestAccuracy</th>\n",
       "    </tr>\n",
       "  </thead>\n",
       "  <tbody>\n",
       "    <tr>\n",
       "      <th>0</th>\n",
       "      <td>1</td>\n",
       "      <td>1.000</td>\n",
       "      <td>0.773</td>\n",
       "    </tr>\n",
       "    <tr>\n",
       "      <th>1</th>\n",
       "      <td>2</td>\n",
       "      <td>0.923</td>\n",
       "      <td>0.808</td>\n",
       "    </tr>\n",
       "    <tr>\n",
       "      <th>2</th>\n",
       "      <td>3</td>\n",
       "      <td>0.918</td>\n",
       "      <td>0.822</td>\n",
       "    </tr>\n",
       "    <tr>\n",
       "      <th>3</th>\n",
       "      <td>4</td>\n",
       "      <td>0.900</td>\n",
       "      <td>0.822</td>\n",
       "    </tr>\n",
       "    <tr>\n",
       "      <th>4</th>\n",
       "      <td>5</td>\n",
       "      <td>0.916</td>\n",
       "      <td>0.808</td>\n",
       "    </tr>\n",
       "    <tr>\n",
       "      <th>5</th>\n",
       "      <td>6</td>\n",
       "      <td>0.883</td>\n",
       "      <td>0.808</td>\n",
       "    </tr>\n",
       "    <tr>\n",
       "      <th>6</th>\n",
       "      <td>7</td>\n",
       "      <td>0.893</td>\n",
       "      <td>0.801</td>\n",
       "    </tr>\n",
       "    <tr>\n",
       "      <th>7</th>\n",
       "      <td>8</td>\n",
       "      <td>0.871</td>\n",
       "      <td>0.808</td>\n",
       "    </tr>\n",
       "    <tr>\n",
       "      <th>8</th>\n",
       "      <td>9</td>\n",
       "      <td>0.886</td>\n",
       "      <td>0.811</td>\n",
       "    </tr>\n",
       "    <tr>\n",
       "      <th>9</th>\n",
       "      <td>10</td>\n",
       "      <td>0.879</td>\n",
       "      <td>0.811</td>\n",
       "    </tr>\n",
       "    <tr>\n",
       "      <th>10</th>\n",
       "      <td>11</td>\n",
       "      <td>0.871</td>\n",
       "      <td>0.808</td>\n",
       "    </tr>\n",
       "    <tr>\n",
       "      <th>11</th>\n",
       "      <td>12</td>\n",
       "      <td>0.874</td>\n",
       "      <td>0.815</td>\n",
       "    </tr>\n",
       "    <tr>\n",
       "      <th>12</th>\n",
       "      <td>13</td>\n",
       "      <td>0.860</td>\n",
       "      <td>0.815</td>\n",
       "    </tr>\n",
       "    <tr>\n",
       "      <th>13</th>\n",
       "      <td>14</td>\n",
       "      <td>0.857</td>\n",
       "      <td>0.815</td>\n",
       "    </tr>\n",
       "    <tr>\n",
       "      <th>14</th>\n",
       "      <td>15</td>\n",
       "      <td>0.864</td>\n",
       "      <td>0.811</td>\n",
       "    </tr>\n",
       "  </tbody>\n",
       "</table>\n",
       "</div>"
      ],
      "text/plain": [
       "    Neighbors  TrainAccuracy  TestAccuracy\n",
       "0           1          1.000         0.773\n",
       "1           2          0.923         0.808\n",
       "2           3          0.918         0.822\n",
       "3           4          0.900         0.822\n",
       "4           5          0.916         0.808\n",
       "5           6          0.883         0.808\n",
       "6           7          0.893         0.801\n",
       "7           8          0.871         0.808\n",
       "8           9          0.886         0.811\n",
       "9          10          0.879         0.811\n",
       "10         11          0.871         0.808\n",
       "11         12          0.874         0.815\n",
       "12         13          0.860         0.815\n",
       "13         14          0.857         0.815\n",
       "14         15          0.864         0.811"
      ]
     },
     "execution_count": 797,
     "metadata": {},
     "output_type": "execute_result"
    }
   ],
   "source": [
    "# train 및 test 정확도 결과 저장용\n",
    "train_accuracy = []; test_accuracy = []\n",
    "\n",
    "para_n_neighbors = [i for i in range(1, 16)]\n",
    "\n",
    "for v_n_neighbors in para_n_neighbors:\n",
    "    knn = KNeighborsClassifier(n_neighbors=v_n_neighbors)\n",
    "    knn.fit(df_train_x, df_train_y)\n",
    "    train_accuracy.append(knn.score(df_train_x, df_train_y))\n",
    "    test_accuracy.append(knn.score(df_test_x, df_test_y))\n",
    "\n",
    "# 데이터 테이블로 저장\n",
    "df_accuracy_neighbors = pd.DataFrame()\n",
    "df_accuracy_neighbors[\"Neighbors\"] = para_n_neighbors\n",
    "df_accuracy_neighbors[\"TrainAccuracy\"] = train_accuracy\n",
    "df_accuracy_neighbors[\"TestAccuracy\"] = test_accuracy\n",
    "df_accuracy_neighbors.round(3)"
   ]
  },
  {
   "cell_type": "code",
   "execution_count": 798,
   "metadata": {
    "scrolled": true
   },
   "outputs": [
    {
     "data": {
      "text/plain": [
       "<matplotlib.legend.Legend at 0x7f03658babb0>"
      ]
     },
     "execution_count": 798,
     "metadata": {},
     "output_type": "execute_result"
    },
    {
     "data": {
      "image/png": "[encoded data removed]",
      "text/plain": [
       "<Figure size 432x288 with 1 Axes>"
      ]
     },
     "metadata": {
      "needs_background": "light"
     },
     "output_type": "display_data"
    }
   ],
   "source": [
    "# 정확도를 그래프로 표현\n",
    "plt.plot(para_n_neighbors, train_accuracy, linestyle = \"-\", label = \"Train Accuracy\")\n",
    "plt.plot(para_n_neighbors, test_accuracy, linestyle = \"--\", label = \"Test Accuracy\")\n",
    "plt.ylabel(\"accuracy\")\n",
    "plt.xlabel(\"n_neighbors\")\n",
    "plt.legend()"
   ]
  },
  {
   "cell_type": "markdown",
   "metadata": {},
   "source": [
    "이웃의 수를 4 정도로 설정하는 것이 train 정확도가 너무 떨어지지 않으면서도 test 정확도도 높으므로 4로 선택했다."
   ]
  },
  {
   "cell_type": "markdown",
   "metadata": {},
   "source": [
    "### 가중치별 k값 변화"
   ]
  },
  {
   "cell_type": "code",
   "execution_count": 799,
   "metadata": {
    "scrolled": false
   },
   "outputs": [
    {
     "data": {
      "text/html": [
       "<div>\n",
       "<style scoped>\n",
       "    .dataframe tbody tr th:only-of-type {\n",
       "        vertical-align: middle;\n",
       "    }\n",
       "\n",
       "    .dataframe tbody tr th {\n",
       "        vertical-align: top;\n",
       "    }\n",
       "\n",
       "    .dataframe thead th {\n",
       "        text-align: right;\n",
       "    }\n",
       "</style>\n",
       "<table border=\"1\" class=\"dataframe\">\n",
       "  <thead>\n",
       "    <tr style=\"text-align: right;\">\n",
       "      <th></th>\n",
       "      <th>Neighbors</th>\n",
       "      <th>Weights</th>\n",
       "      <th>TrainAccuracy</th>\n",
       "      <th>TestAccuracy</th>\n",
       "    </tr>\n",
       "  </thead>\n",
       "  <tbody>\n",
       "    <tr>\n",
       "      <th>0</th>\n",
       "      <td>1</td>\n",
       "      <td>uniform</td>\n",
       "      <td>1.000</td>\n",
       "      <td>0.773</td>\n",
       "    </tr>\n",
       "    <tr>\n",
       "      <th>1</th>\n",
       "      <td>2</td>\n",
       "      <td>uniform</td>\n",
       "      <td>0.923</td>\n",
       "      <td>0.808</td>\n",
       "    </tr>\n",
       "    <tr>\n",
       "      <th>2</th>\n",
       "      <td>3</td>\n",
       "      <td>uniform</td>\n",
       "      <td>0.918</td>\n",
       "      <td>0.822</td>\n",
       "    </tr>\n",
       "    <tr>\n",
       "      <th>3</th>\n",
       "      <td>4</td>\n",
       "      <td>uniform</td>\n",
       "      <td>0.900</td>\n",
       "      <td>0.822</td>\n",
       "    </tr>\n",
       "    <tr>\n",
       "      <th>4</th>\n",
       "      <td>5</td>\n",
       "      <td>uniform</td>\n",
       "      <td>0.916</td>\n",
       "      <td>0.808</td>\n",
       "    </tr>\n",
       "    <tr>\n",
       "      <th>5</th>\n",
       "      <td>6</td>\n",
       "      <td>uniform</td>\n",
       "      <td>0.883</td>\n",
       "      <td>0.808</td>\n",
       "    </tr>\n",
       "    <tr>\n",
       "      <th>6</th>\n",
       "      <td>7</td>\n",
       "      <td>uniform</td>\n",
       "      <td>0.893</td>\n",
       "      <td>0.801</td>\n",
       "    </tr>\n",
       "    <tr>\n",
       "      <th>7</th>\n",
       "      <td>8</td>\n",
       "      <td>uniform</td>\n",
       "      <td>0.871</td>\n",
       "      <td>0.808</td>\n",
       "    </tr>\n",
       "    <tr>\n",
       "      <th>8</th>\n",
       "      <td>9</td>\n",
       "      <td>uniform</td>\n",
       "      <td>0.886</td>\n",
       "      <td>0.811</td>\n",
       "    </tr>\n",
       "    <tr>\n",
       "      <th>9</th>\n",
       "      <td>10</td>\n",
       "      <td>uniform</td>\n",
       "      <td>0.879</td>\n",
       "      <td>0.811</td>\n",
       "    </tr>\n",
       "    <tr>\n",
       "      <th>10</th>\n",
       "      <td>1</td>\n",
       "      <td>distance</td>\n",
       "      <td>1.000</td>\n",
       "      <td>0.773</td>\n",
       "    </tr>\n",
       "    <tr>\n",
       "      <th>11</th>\n",
       "      <td>2</td>\n",
       "      <td>distance</td>\n",
       "      <td>1.000</td>\n",
       "      <td>0.773</td>\n",
       "    </tr>\n",
       "    <tr>\n",
       "      <th>12</th>\n",
       "      <td>3</td>\n",
       "      <td>distance</td>\n",
       "      <td>1.000</td>\n",
       "      <td>0.818</td>\n",
       "    </tr>\n",
       "    <tr>\n",
       "      <th>13</th>\n",
       "      <td>4</td>\n",
       "      <td>distance</td>\n",
       "      <td>1.000</td>\n",
       "      <td>0.825</td>\n",
       "    </tr>\n",
       "    <tr>\n",
       "      <th>14</th>\n",
       "      <td>5</td>\n",
       "      <td>distance</td>\n",
       "      <td>1.000</td>\n",
       "      <td>0.808</td>\n",
       "    </tr>\n",
       "    <tr>\n",
       "      <th>15</th>\n",
       "      <td>6</td>\n",
       "      <td>distance</td>\n",
       "      <td>1.000</td>\n",
       "      <td>0.815</td>\n",
       "    </tr>\n",
       "    <tr>\n",
       "      <th>16</th>\n",
       "      <td>7</td>\n",
       "      <td>distance</td>\n",
       "      <td>1.000</td>\n",
       "      <td>0.804</td>\n",
       "    </tr>\n",
       "    <tr>\n",
       "      <th>17</th>\n",
       "      <td>8</td>\n",
       "      <td>distance</td>\n",
       "      <td>1.000</td>\n",
       "      <td>0.811</td>\n",
       "    </tr>\n",
       "    <tr>\n",
       "      <th>18</th>\n",
       "      <td>9</td>\n",
       "      <td>distance</td>\n",
       "      <td>1.000</td>\n",
       "      <td>0.811</td>\n",
       "    </tr>\n",
       "    <tr>\n",
       "      <th>19</th>\n",
       "      <td>10</td>\n",
       "      <td>distance</td>\n",
       "      <td>1.000</td>\n",
       "      <td>0.818</td>\n",
       "    </tr>\n",
       "  </tbody>\n",
       "</table>\n",
       "</div>"
      ],
      "text/plain": [
       "    Neighbors   Weights  TrainAccuracy  TestAccuracy\n",
       "0           1   uniform          1.000         0.773\n",
       "1           2   uniform          0.923         0.808\n",
       "2           3   uniform          0.918         0.822\n",
       "3           4   uniform          0.900         0.822\n",
       "4           5   uniform          0.916         0.808\n",
       "5           6   uniform          0.883         0.808\n",
       "6           7   uniform          0.893         0.801\n",
       "7           8   uniform          0.871         0.808\n",
       "8           9   uniform          0.886         0.811\n",
       "9          10   uniform          0.879         0.811\n",
       "10          1  distance          1.000         0.773\n",
       "11          2  distance          1.000         0.773\n",
       "12          3  distance          1.000         0.818\n",
       "13          4  distance          1.000         0.825\n",
       "14          5  distance          1.000         0.808\n",
       "15          6  distance          1.000         0.815\n",
       "16          7  distance          1.000         0.804\n",
       "17          8  distance          1.000         0.811\n",
       "18          9  distance          1.000         0.811\n",
       "19         10  distance          1.000         0.818"
      ]
     },
     "execution_count": 799,
     "metadata": {},
     "output_type": "execute_result"
    }
   ],
   "source": [
    "# train 및 test 정확도 결과 저장용\n",
    "train_accuracy = []; test_accuracy = []\n",
    "\n",
    "# uniform과 distance 두 가지 상황에 대해 비교하기 위해\n",
    "# 리스트 바깥에 *2를 해주었다.\n",
    "para_n_neighbors = [i for i in range(1,11)]*2\n",
    "\n",
    "para_weights = ([\"uniform\"]) * 10 + ([\"distance\"] * 10)\n",
    "\n",
    "for (v_n_neighbors,v_weights) in zip(para_n_neighbors,para_weights):\n",
    "    knn = KNeighborsClassifier(n_neighbors=v_n_neighbors,weights=v_weights)\n",
    "    knn.fit(df_train_x, df_train_y)\n",
    "    train_accuracy.append(knn.score(df_train_x, df_train_y))\n",
    "    test_accuracy.append(knn.score(df_test_x, df_test_y))\n",
    "\n",
    "# 데이터 테이블로 저장\n",
    "df_accuracy_weights= pd.DataFrame()\n",
    "df_accuracy_weights[\"Neighbors\"] = para_n_neighbors\n",
    "df_accuracy_weights[\"Weights\"] = para_weights\n",
    "df_accuracy_weights[\"TrainAccuracy\"] = train_accuracy\n",
    "df_accuracy_weights[\"TestAccuracy\"] = test_accuracy\n",
    "df_accuracy_weights.round(3)"
   ]
  },
  {
   "cell_type": "code",
   "execution_count": 800,
   "metadata": {},
   "outputs": [
    {
     "data": {
      "text/html": [
       "<div>\n",
       "<style scoped>\n",
       "    .dataframe tbody tr th:only-of-type {\n",
       "        vertical-align: middle;\n",
       "    }\n",
       "\n",
       "    .dataframe tbody tr th {\n",
       "        vertical-align: top;\n",
       "    }\n",
       "\n",
       "    .dataframe thead th {\n",
       "        text-align: right;\n",
       "    }\n",
       "</style>\n",
       "<table border=\"1\" class=\"dataframe\">\n",
       "  <thead>\n",
       "    <tr style=\"text-align: right;\">\n",
       "      <th></th>\n",
       "      <th>TrainAccuracy_distance</th>\n",
       "      <th>TrainAccuracy_uniform</th>\n",
       "      <th>TestAccuracy_distance</th>\n",
       "      <th>TestAccuracy_uniform</th>\n",
       "    </tr>\n",
       "    <tr>\n",
       "      <th>Neighbors</th>\n",
       "      <th></th>\n",
       "      <th></th>\n",
       "      <th></th>\n",
       "      <th></th>\n",
       "    </tr>\n",
       "  </thead>\n",
       "  <tbody>\n",
       "    <tr>\n",
       "      <th>1</th>\n",
       "      <td>1.0</td>\n",
       "      <td>1.000000</td>\n",
       "      <td>0.772727</td>\n",
       "      <td>0.772727</td>\n",
       "    </tr>\n",
       "    <tr>\n",
       "      <th>2</th>\n",
       "      <td>1.0</td>\n",
       "      <td>0.922897</td>\n",
       "      <td>0.772727</td>\n",
       "      <td>0.807692</td>\n",
       "    </tr>\n",
       "    <tr>\n",
       "      <th>3</th>\n",
       "      <td>1.0</td>\n",
       "      <td>0.918224</td>\n",
       "      <td>0.818182</td>\n",
       "      <td>0.821678</td>\n",
       "    </tr>\n",
       "    <tr>\n",
       "      <th>4</th>\n",
       "      <td>1.0</td>\n",
       "      <td>0.899533</td>\n",
       "      <td>0.825175</td>\n",
       "      <td>0.821678</td>\n",
       "    </tr>\n",
       "    <tr>\n",
       "      <th>5</th>\n",
       "      <td>1.0</td>\n",
       "      <td>0.915888</td>\n",
       "      <td>0.807692</td>\n",
       "      <td>0.807692</td>\n",
       "    </tr>\n",
       "  </tbody>\n",
       "</table>\n",
       "</div>"
      ],
      "text/plain": [
       "           TrainAccuracy_distance  TrainAccuracy_uniform  \\\n",
       "Neighbors                                                  \n",
       "1                             1.0               1.000000   \n",
       "2                             1.0               0.922897   \n",
       "3                             1.0               0.918224   \n",
       "4                             1.0               0.899533   \n",
       "5                             1.0               0.915888   \n",
       "\n",
       "           TestAccuracy_distance  TestAccuracy_uniform  \n",
       "Neighbors                                               \n",
       "1                       0.772727              0.772727  \n",
       "2                       0.772727              0.807692  \n",
       "3                       0.818182              0.821678  \n",
       "4                       0.825175              0.821678  \n",
       "5                       0.807692              0.807692  "
      ]
     },
     "execution_count": 800,
     "metadata": {},
     "output_type": "execute_result"
    }
   ],
   "source": [
    "# 데이터 형태 변환\n",
    "df_accuracy_weights_pivot = df_accuracy_weights.pivot(index=\"Neighbors\",columns=\"Weights\",values=[\"TrainAccuracy\",\"TestAccuracy\"])\n",
    "\n",
    "level0 = df_accuracy_weights_pivot.columns.get_level_values(0)\n",
    "level1 = df_accuracy_weights_pivot.columns.get_level_values(1)\n",
    "df_accuracy_weights_pivot.columns = level0 + \"_\" + level1\n",
    "df_accuracy_weights_pivot.head()"
   ]
  },
  {
   "cell_type": "code",
   "execution_count": 801,
   "metadata": {
    "scrolled": true
   },
   "outputs": [
    {
     "data": {
      "text/plain": [
       "<AxesSubplot:xlabel='Neighbors'>"
      ]
     },
     "execution_count": 801,
     "metadata": {},
     "output_type": "execute_result"
    },
    {
     "data": {
      "image/png": "[encoded data removed]",
      "text/plain": [
       "<Figure size 432x288 with 1 Axes>"
      ]
     },
     "metadata": {
      "needs_background": "light"
     },
     "output_type": "display_data"
    }
   ],
   "source": [
    "# 정확도를 그래프로 표현\n",
    "sns.lineplot(data=df_accuracy_weights_pivot)"
   ]
  },
  {
   "cell_type": "markdown",
   "metadata": {},
   "source": [
    "- distance의 경우 over-fitting이 발생했다. (trainAccuracy_distance가 1이다.)\n",
    "- uniform의 경우에 이웃을 4개 정도 선정하는 것이 가장 적절하다고 판단했다."
   ]
  },
  {
   "cell_type": "markdown",
   "metadata": {},
   "source": [
    "### 거리 계산 방법 조정"
   ]
  },
  {
   "cell_type": "code",
   "execution_count": 802,
   "metadata": {
    "scrolled": true
   },
   "outputs": [
    {
     "data": {
      "text/html": [
       "<div>\n",
       "<style scoped>\n",
       "    .dataframe tbody tr th:only-of-type {\n",
       "        vertical-align: middle;\n",
       "    }\n",
       "\n",
       "    .dataframe tbody tr th {\n",
       "        vertical-align: top;\n",
       "    }\n",
       "\n",
       "    .dataframe thead th {\n",
       "        text-align: right;\n",
       "    }\n",
       "</style>\n",
       "<table border=\"1\" class=\"dataframe\">\n",
       "  <thead>\n",
       "    <tr style=\"text-align: right;\">\n",
       "      <th></th>\n",
       "      <th>Metric</th>\n",
       "      <th>TrainAccuracy</th>\n",
       "      <th>TestAccuracy</th>\n",
       "    </tr>\n",
       "  </thead>\n",
       "  <tbody>\n",
       "    <tr>\n",
       "      <th>0</th>\n",
       "      <td>minkowski</td>\n",
       "      <td>0.900</td>\n",
       "      <td>0.822</td>\n",
       "    </tr>\n",
       "    <tr>\n",
       "      <th>1</th>\n",
       "      <td>euclidean</td>\n",
       "      <td>0.900</td>\n",
       "      <td>0.822</td>\n",
       "    </tr>\n",
       "    <tr>\n",
       "      <th>2</th>\n",
       "      <td>manhattan</td>\n",
       "      <td>0.904</td>\n",
       "      <td>0.836</td>\n",
       "    </tr>\n",
       "  </tbody>\n",
       "</table>\n",
       "</div>"
      ],
      "text/plain": [
       "      Metric  TrainAccuracy  TestAccuracy\n",
       "0  minkowski          0.900         0.822\n",
       "1  euclidean          0.900         0.822\n",
       "2  manhattan          0.904         0.836"
      ]
     },
     "execution_count": 802,
     "metadata": {},
     "output_type": "execute_result"
    }
   ],
   "source": [
    "# train 및 test 정확도 결과 저장용\n",
    "train_accuracy = []; test_accuracy = []\n",
    "\n",
    "para_metric = [\"minkowski\",\"euclidean\",\"manhattan\"]\n",
    "\n",
    "for v_metric in para_metric:\n",
    "    knn = KNeighborsClassifier(n_neighbors=4,weights=\"uniform\",metric=v_metric)\n",
    "    knn.fit(df_train_x, df_train_y)\n",
    "    train_accuracy.append(knn.score(df_train_x, df_train_y))\n",
    "    test_accuracy.append(knn.score(df_test_x, df_test_y))\n",
    "\n",
    "# 데이터 테이블로 저장\n",
    "df_accuracy_metric = pd.DataFrame()\n",
    "# df_accuracy_metric[\"Neighbors\"] = para_n_neighbors\n",
    "df_accuracy_metric[\"Metric\"] = para_metric\n",
    "df_accuracy_metric[\"TrainAccuracy\"] = train_accuracy\n",
    "df_accuracy_metric[\"TestAccuracy\"] = test_accuracy\n",
    "df_accuracy_metric.round(3)"
   ]
  },
  {
   "cell_type": "code",
   "execution_count": 803,
   "metadata": {
    "scrolled": true
   },
   "outputs": [
    {
     "data": {
      "text/plain": [
       "<matplotlib.legend.Legend at 0x7f03657a8730>"
      ]
     },
     "execution_count": 803,
     "metadata": {},
     "output_type": "execute_result"
    },
    {
     "data": {
      "image/png": "[encoded data removed]",
      "text/plain": [
       "<Figure size 432x288 with 1 Axes>"
      ]
     },
     "metadata": {
      "needs_background": "light"
     },
     "output_type": "display_data"
    }
   ],
   "source": [
    "# 정확도를 그래프로 표현\n",
    "plt.plot(para_metric, train_accuracy, linestyle = \"-\", label = \"Train Accuracy\")\n",
    "plt.plot(para_metric, test_accuracy, linestyle = \"--\", label = \"Test Accuracy\")\n",
    "plt.ylabel(\"accuracy\")\n",
    "plt.xlabel(\"distance metric\")\n",
    "plt.legend()"
   ]
  },
  {
   "cell_type": "markdown",
   "metadata": {},
   "source": [
    "manhattan 방법이 가장 accuracy가 좋아 이를 택했다."
   ]
  },
  {
   "cell_type": "markdown",
   "metadata": {},
   "source": [
    "### 최종 모델 선택"
   ]
  },
  {
   "cell_type": "code",
   "execution_count": 804,
   "metadata": {},
   "outputs": [
    {
     "name": "stdout",
     "output_type": "stream",
     "text": [
      "Accuracy on training set: 0.904\n",
      "Accuracy on test set: 0.836\n",
      "\n",
      "Confusion matrix: \n",
      "[[182   9]\n",
      " [ 38  57]]\n"
     ]
    }
   ],
   "source": [
    "knn_final = KNeighborsClassifier(n_neighbors=4,weights=\"uniform\",metric=\"manhattan\")\n",
    "knn_final.fit(df_train_x, df_train_y)\n",
    " \n",
    "y_pred = knn_final.predict(df_test_x)\n",
    "\n",
    "print(\"Accuracy on training set: {:.3f}\".format(knn_final.score(df_train_x, df_train_y)))\n",
    "print(\"Accuracy on test set: {:.3f}\\n\".format(knn_final.score(df_test_x, df_test_y)))\n",
    "print(\"Confusion matrix: \\n{}\".format(confusion_matrix(df_test_y, y_pred)))"
   ]
  },
  {
   "cell_type": "markdown",
   "metadata": {},
   "source": [
    "1. 이 모델의 예측 정확도는 0.836이다. **즉, 84% 정도는 정답을 맞춘다.**\n",
    "2. precision은 57/(9+57) = 57/66 ≓ 0.86이다. **즉, 불량이라고 예측한 것 중에 맞춘 비율은 86%이다.**\n",
    "3. recall은 57/(38+57) = 57/95 = 0.6이다. **즉, 실제로 불량인 것 중에 예측을 맞춘 비율은 약 60%이다.**\n",
    "4. precision이 더 중요한지 아니면 recall이 더 중요한지는 해당 기업에 어느 부분에 더 가치를 두는지에 따라 달라진다.\n",
    "- '1 - precision' : 불량이라고 예측했다. 그래서 보수를 했다. 근데 알고보니 불량이 아니다. 이에 대한 비용이 발생했다.\n",
    "- '1 - recall' : 실제 불량인데 정상이라고 판단해서 보낸 물품. 소비자가 불만을 가지고 추후에 해당 제품을 사용하지 않을 수도 있다."
   ]
  },
  {
   "cell_type": "markdown",
   "metadata": {},
   "source": [
    "# 모델 평가"
   ]
  },
  {
   "cell_type": "code",
   "execution_count": 814,
   "metadata": {},
   "outputs": [
    {
     "name": "stdout",
     "output_type": "stream",
     "text": [
      "[ Logistic Regression ]\n",
      "Accuracy:0.867\n",
      "Confusion Matrix: \n",
      "[[170  21]\n",
      " [ 17  78]]\n",
      "\n",
      "\n",
      "[ Random Forest ]\n",
      "Accuracy:0.909\n",
      "Confusion Matrix: \n",
      "[[188   3]\n",
      " [ 23  72]]\n",
      "\n",
      "\n",
      "[ Support Vector Machine ]\n",
      "Accuracy: 0.857\n",
      "Confusion Matrix: \n",
      "[[178  13]\n",
      " [ 28  67]]\n",
      "\n",
      "\n",
      "[ k-Nearest Neighbors ]\n",
      "Accuracy : 0.836\n",
      "Confusion Matrix: \n",
      "[[182   9]\n",
      " [ 38  57]]\n"
     ]
    }
   ],
   "source": [
    "# 로지스틱 회귀분석\n",
    "print(\"[ Logistic Regression ]\")\n",
    "print(\"Accuracy:{0:.3f}\".format(accuracy_score(df_test[\"SCALE\"], y_pred_class)))\n",
    "print(\"Confusion Matrix: \\n{}\".format(confusion_matrix(df_test[\"SCALE\"], y_pred_class)))\n",
    "print(\"\\n\")\n",
    "\n",
    "# 랜덤포레스트\n",
    "print(\"[ Random Forest ]\")\n",
    "print(\"Accuracy:{0:.3f}\".format(rf_final.score(df_test_x, df_test_y)))\n",
    "print(\"Confusion Matrix: \\n{}\".format(confusion_matrix(df_test_y, rf_final.predict(df_test_x))))\n",
    "print(\"\\n\")\n",
    "\n",
    "# 서포트벡터머신\n",
    "print(\"[ Support Vector Machine ]\")\n",
    "print(\"Accuracy: {:.3f}\".format(svc_final.score(df_test_x, df_test_y)))\n",
    "print(\"Confusion Matrix: \\n{}\".format(confusion_matrix(df_test_y, svc_final.predict(df_test_x))))\n",
    "print(\"\\n\")\n",
    "\n",
    "# kNN\n",
    "print(\"[ k-Nearest Neighbors ]\")\n",
    "print(\"Accuracy : {:.3f}\".format(knn_final.score(df_test_x, df_test_y)))\n",
    "print(\"Confusion Matrix: \\n{}\".format(confusion_matrix(df_test_y, knn_final.predict(df_test_x))))"
   ]
  },
  {
   "cell_type": "markdown",
   "metadata": {},
   "source": [
    "# 결론"
   ]
  },
  {
   "cell_type": "markdown",
   "metadata": {},
   "source": [
    "## 1. accuracy 비교\n",
    "- **Random Forest**가 가장 accuracy가 높으며 분류를 잘 한다.  \n",
    "- kNN이 가장 accuracy가 안 좋으며 분류도 잘 못한다.\n",
    "\n",
    "## 2. precision & recall 비교\n",
    "\n",
    "#### logistic regression\n",
    "- 불량이라고 예측한 것 중에 맞춘 비율은 약 78%이다.\n",
    "- 실제로 불량인 것 중에 예측을 맞춘 비율은 약 82%이다.\n",
    "\n",
    "#### random forest\n",
    "- 불량이라고 예측한 것 중에 맞춘 비율은 96%이다.\n",
    "- 실제로 불량인 것 중에 예측을 맞춘 비율은 약 76%이다.\n",
    "\n",
    "#### svm\n",
    "- 불량이라고 예측한 것 중에 맞춘 비율은 84%이다.\n",
    "- 실제로 불량인 것 중에 예측을 맞춘 비율은 약 71%이다.\n",
    "\n",
    "#### knn \n",
    "- 불량이라고 예측한 것 중에 맞춘 비율은 86%이다.\n",
    "- 실제로 불량인 것 중에 예측을 맞춘 비율은 약 60%이다.\n",
    "\n",
    "\n",
    "## 3. 모델들이 선정한 중요한 변수\n",
    "\n",
    "### 1) 로지스틱 회귀  \n",
    "HSB, ROLLING_TEMP_T5, STEEL_KIND, FUR_SZ_TEMP 순으로 scale 불량에 영향을 많이 미치는 것으로 나타났다.\n",
    "- **HSB 과정을 \"진행하지 않았을 때\" scale 불량일 가능성이 높다.**\n",
    "- **강종이 Carbon Steel 이 아닌 \"Tool Steel일 때\" scale 불량일 가능성이 높다.**\n",
    "- **압연온도가 \"높을수록\" scale 불량일 가능성이 높다.**\n",
    "- **가열로 균열대 온도가 \"높을수록\" scale 불량일 가능성이 높다.**\n",
    "\n",
    "### 2) 랜덤 포레스트  \n",
    "ROLLING_TEMP_T5, PT_WDTH, FUR_SZ_TEMP, FUR_EXTEMP 순으로 scale 불량에 영향을 많이 미치는 것으로 나타났다.\n",
    "- **압연온도가 \"높을수록\" scale 불량일 가능성이 높다.**\n",
    "- **plate의 너비가 \"클수록\" scale 불량일 가능성이 높다.**\n",
    "- **가열로 균열대 온도가 \"높을수록\" scale 불량일 가능성이 높다.**\n",
    "- **추출온도가 \"높을수록\" scale 불량일 가능성이 높다.**\n",
    "\n",
    "## → 두 모델이 공통적으로 생각한 scale 불량에 영향을 크게 미치는 변수 \n",
    "## : 압연온도, 가열로 균열대 온도"
   ]
  }
 ],
 "metadata": {
  "kernelspec": {
   "display_name": "Python 3",
   "language": "python",
   "name": "python3"
  },
  "language_info": {
   "codemirror_mode": {
    "name": "ipython",
    "version": 3
   },
   "file_extension": ".py",
   "mimetype": "text/x-python",
   "name": "python",
   "nbconvert_exporter": "python",
   "pygments_lexer": "ipython3",
   "version": "3.7.6"
  }
 },
 "nbformat": 4,
 "nbformat_minor": 5
}
